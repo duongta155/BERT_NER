{
  "nbformat": 4,
  "nbformat_minor": 0,
  "metadata": {
    "accelerator": "GPU",
    "colab": {
      "name": "BERT_CTEL_ONLY_COMPJOB.ipynb",
      "provenance": [],
      "collapsed_sections": [
        "caLJVb0MB0Re",
        "Tz2ebk8ojLuJ",
        "DZ4b88H8xD-U",
        "OTe1ZvVnLzv4",
        "vIziEN8mL2Hq",
        "o4kAT_Z0HOMO"
      ],
      "toc_visible": true
    },
    "kernelspec": {
      "display_name": "Python 3",
      "name": "python3"
    },
    "language_info": {
      "name": "python"
    },
    "widgets": {
      "application/vnd.jupyter.widget-state+json": {
        "12cee44187ff4575821315e334393be7": {
          "model_module": "@jupyter-widgets/controls",
          "model_name": "HBoxModel",
          "model_module_version": "1.5.0",
          "state": {
            "_view_name": "HBoxView",
            "_dom_classes": [],
            "_model_name": "HBoxModel",
            "_view_module": "@jupyter-widgets/controls",
            "_model_module_version": "1.5.0",
            "_view_count": null,
            "_view_module_version": "1.5.0",
            "box_style": "",
            "layout": "IPY_MODEL_e272ab25c9cb4f8592ba01a036337c5e",
            "_model_module": "@jupyter-widgets/controls",
            "children": [
              "IPY_MODEL_d9f5e502ba1349ca93723148e579c226",
              "IPY_MODEL_685a09ee04be47c8b6af9b2a690f295f",
              "IPY_MODEL_1d2f6ebc750f4d7391f7b77322dc812a"
            ]
          }
        },
        "e272ab25c9cb4f8592ba01a036337c5e": {
          "model_module": "@jupyter-widgets/base",
          "model_name": "LayoutModel",
          "model_module_version": "1.2.0",
          "state": {
            "_view_name": "LayoutView",
            "grid_template_rows": null,
            "right": null,
            "justify_content": null,
            "_view_module": "@jupyter-widgets/base",
            "overflow": null,
            "_model_module_version": "1.2.0",
            "_view_count": null,
            "flex_flow": null,
            "width": null,
            "min_width": null,
            "border": null,
            "align_items": null,
            "bottom": null,
            "_model_module": "@jupyter-widgets/base",
            "top": null,
            "grid_column": null,
            "overflow_y": null,
            "overflow_x": null,
            "grid_auto_flow": null,
            "grid_area": null,
            "grid_template_columns": null,
            "flex": null,
            "_model_name": "LayoutModel",
            "justify_items": null,
            "grid_row": null,
            "max_height": null,
            "align_content": null,
            "visibility": null,
            "align_self": null,
            "height": null,
            "min_height": null,
            "padding": null,
            "grid_auto_rows": null,
            "grid_gap": null,
            "max_width": null,
            "order": null,
            "_view_module_version": "1.2.0",
            "grid_template_areas": null,
            "object_position": null,
            "object_fit": null,
            "grid_auto_columns": null,
            "margin": null,
            "display": null,
            "left": null
          }
        },
        "d9f5e502ba1349ca93723148e579c226": {
          "model_module": "@jupyter-widgets/controls",
          "model_name": "HTMLModel",
          "model_module_version": "1.5.0",
          "state": {
            "_view_name": "HTMLView",
            "style": "IPY_MODEL_6d87e9b4daf9472fbb0f5abac796c8df",
            "_dom_classes": [],
            "description": "",
            "_model_name": "HTMLModel",
            "placeholder": "​",
            "_view_module": "@jupyter-widgets/controls",
            "_model_module_version": "1.5.0",
            "value": "100%",
            "_view_count": null,
            "_view_module_version": "1.5.0",
            "description_tooltip": null,
            "_model_module": "@jupyter-widgets/controls",
            "layout": "IPY_MODEL_97084bdbcb4c4456a7f39235b59a41f4"
          }
        },
        "685a09ee04be47c8b6af9b2a690f295f": {
          "model_module": "@jupyter-widgets/controls",
          "model_name": "FloatProgressModel",
          "model_module_version": "1.5.0",
          "state": {
            "_view_name": "ProgressView",
            "style": "IPY_MODEL_9ee061ecafcf495b921ed5151f327d8e",
            "_dom_classes": [],
            "description": "",
            "_model_name": "FloatProgressModel",
            "bar_style": "success",
            "max": 5,
            "_view_module": "@jupyter-widgets/controls",
            "_model_module_version": "1.5.0",
            "value": 5,
            "_view_count": null,
            "_view_module_version": "1.5.0",
            "orientation": "horizontal",
            "min": 0,
            "description_tooltip": null,
            "_model_module": "@jupyter-widgets/controls",
            "layout": "IPY_MODEL_a3591e27ff284ec2b56d2f0e4d1fa2f3"
          }
        },
        "1d2f6ebc750f4d7391f7b77322dc812a": {
          "model_module": "@jupyter-widgets/controls",
          "model_name": "HTMLModel",
          "model_module_version": "1.5.0",
          "state": {
            "_view_name": "HTMLView",
            "style": "IPY_MODEL_f644abd4c1f24297af4be65b1d6182d2",
            "_dom_classes": [],
            "description": "",
            "_model_name": "HTMLModel",
            "placeholder": "​",
            "_view_module": "@jupyter-widgets/controls",
            "_model_module_version": "1.5.0",
            "value": " 5/5 [00:00&lt;00:00, 19.84ba/s]",
            "_view_count": null,
            "_view_module_version": "1.5.0",
            "description_tooltip": null,
            "_model_module": "@jupyter-widgets/controls",
            "layout": "IPY_MODEL_0c9c6148e56e434b9871e71d292ed544"
          }
        },
        "6d87e9b4daf9472fbb0f5abac796c8df": {
          "model_module": "@jupyter-widgets/controls",
          "model_name": "DescriptionStyleModel",
          "model_module_version": "1.5.0",
          "state": {
            "_view_name": "StyleView",
            "_model_name": "DescriptionStyleModel",
            "description_width": "",
            "_view_module": "@jupyter-widgets/base",
            "_model_module_version": "1.5.0",
            "_view_count": null,
            "_view_module_version": "1.2.0",
            "_model_module": "@jupyter-widgets/controls"
          }
        },
        "97084bdbcb4c4456a7f39235b59a41f4": {
          "model_module": "@jupyter-widgets/base",
          "model_name": "LayoutModel",
          "model_module_version": "1.2.0",
          "state": {
            "_view_name": "LayoutView",
            "grid_template_rows": null,
            "right": null,
            "justify_content": null,
            "_view_module": "@jupyter-widgets/base",
            "overflow": null,
            "_model_module_version": "1.2.0",
            "_view_count": null,
            "flex_flow": null,
            "width": null,
            "min_width": null,
            "border": null,
            "align_items": null,
            "bottom": null,
            "_model_module": "@jupyter-widgets/base",
            "top": null,
            "grid_column": null,
            "overflow_y": null,
            "overflow_x": null,
            "grid_auto_flow": null,
            "grid_area": null,
            "grid_template_columns": null,
            "flex": null,
            "_model_name": "LayoutModel",
            "justify_items": null,
            "grid_row": null,
            "max_height": null,
            "align_content": null,
            "visibility": null,
            "align_self": null,
            "height": null,
            "min_height": null,
            "padding": null,
            "grid_auto_rows": null,
            "grid_gap": null,
            "max_width": null,
            "order": null,
            "_view_module_version": "1.2.0",
            "grid_template_areas": null,
            "object_position": null,
            "object_fit": null,
            "grid_auto_columns": null,
            "margin": null,
            "display": null,
            "left": null
          }
        },
        "9ee061ecafcf495b921ed5151f327d8e": {
          "model_module": "@jupyter-widgets/controls",
          "model_name": "ProgressStyleModel",
          "model_module_version": "1.5.0",
          "state": {
            "_view_name": "StyleView",
            "_model_name": "ProgressStyleModel",
            "description_width": "",
            "_view_module": "@jupyter-widgets/base",
            "_model_module_version": "1.5.0",
            "_view_count": null,
            "_view_module_version": "1.2.0",
            "bar_color": null,
            "_model_module": "@jupyter-widgets/controls"
          }
        },
        "a3591e27ff284ec2b56d2f0e4d1fa2f3": {
          "model_module": "@jupyter-widgets/base",
          "model_name": "LayoutModel",
          "model_module_version": "1.2.0",
          "state": {
            "_view_name": "LayoutView",
            "grid_template_rows": null,
            "right": null,
            "justify_content": null,
            "_view_module": "@jupyter-widgets/base",
            "overflow": null,
            "_model_module_version": "1.2.0",
            "_view_count": null,
            "flex_flow": null,
            "width": null,
            "min_width": null,
            "border": null,
            "align_items": null,
            "bottom": null,
            "_model_module": "@jupyter-widgets/base",
            "top": null,
            "grid_column": null,
            "overflow_y": null,
            "overflow_x": null,
            "grid_auto_flow": null,
            "grid_area": null,
            "grid_template_columns": null,
            "flex": null,
            "_model_name": "LayoutModel",
            "justify_items": null,
            "grid_row": null,
            "max_height": null,
            "align_content": null,
            "visibility": null,
            "align_self": null,
            "height": null,
            "min_height": null,
            "padding": null,
            "grid_auto_rows": null,
            "grid_gap": null,
            "max_width": null,
            "order": null,
            "_view_module_version": "1.2.0",
            "grid_template_areas": null,
            "object_position": null,
            "object_fit": null,
            "grid_auto_columns": null,
            "margin": null,
            "display": null,
            "left": null
          }
        },
        "f644abd4c1f24297af4be65b1d6182d2": {
          "model_module": "@jupyter-widgets/controls",
          "model_name": "DescriptionStyleModel",
          "model_module_version": "1.5.0",
          "state": {
            "_view_name": "StyleView",
            "_model_name": "DescriptionStyleModel",
            "description_width": "",
            "_view_module": "@jupyter-widgets/base",
            "_model_module_version": "1.5.0",
            "_view_count": null,
            "_view_module_version": "1.2.0",
            "_model_module": "@jupyter-widgets/controls"
          }
        },
        "0c9c6148e56e434b9871e71d292ed544": {
          "model_module": "@jupyter-widgets/base",
          "model_name": "LayoutModel",
          "model_module_version": "1.2.0",
          "state": {
            "_view_name": "LayoutView",
            "grid_template_rows": null,
            "right": null,
            "justify_content": null,
            "_view_module": "@jupyter-widgets/base",
            "overflow": null,
            "_model_module_version": "1.2.0",
            "_view_count": null,
            "flex_flow": null,
            "width": null,
            "min_width": null,
            "border": null,
            "align_items": null,
            "bottom": null,
            "_model_module": "@jupyter-widgets/base",
            "top": null,
            "grid_column": null,
            "overflow_y": null,
            "overflow_x": null,
            "grid_auto_flow": null,
            "grid_area": null,
            "grid_template_columns": null,
            "flex": null,
            "_model_name": "LayoutModel",
            "justify_items": null,
            "grid_row": null,
            "max_height": null,
            "align_content": null,
            "visibility": null,
            "align_self": null,
            "height": null,
            "min_height": null,
            "padding": null,
            "grid_auto_rows": null,
            "grid_gap": null,
            "max_width": null,
            "order": null,
            "_view_module_version": "1.2.0",
            "grid_template_areas": null,
            "object_position": null,
            "object_fit": null,
            "grid_auto_columns": null,
            "margin": null,
            "display": null,
            "left": null
          }
        },
        "1f8560a9557b4d158bf4f87af4df1345": {
          "model_module": "@jupyter-widgets/controls",
          "model_name": "HBoxModel",
          "model_module_version": "1.5.0",
          "state": {
            "_view_name": "HBoxView",
            "_dom_classes": [],
            "_model_name": "HBoxModel",
            "_view_module": "@jupyter-widgets/controls",
            "_model_module_version": "1.5.0",
            "_view_count": null,
            "_view_module_version": "1.5.0",
            "box_style": "",
            "layout": "IPY_MODEL_859f40f4754e4a1dbbd53c498f726f68",
            "_model_module": "@jupyter-widgets/controls",
            "children": [
              "IPY_MODEL_738f50671c6c46a29ae2750bf3b3d7fa",
              "IPY_MODEL_515b195acb3849f9930dd7a9cf41c4d8",
              "IPY_MODEL_6fa1c619580a4e12989ac2ee6453c4ce"
            ]
          }
        },
        "859f40f4754e4a1dbbd53c498f726f68": {
          "model_module": "@jupyter-widgets/base",
          "model_name": "LayoutModel",
          "model_module_version": "1.2.0",
          "state": {
            "_view_name": "LayoutView",
            "grid_template_rows": null,
            "right": null,
            "justify_content": null,
            "_view_module": "@jupyter-widgets/base",
            "overflow": null,
            "_model_module_version": "1.2.0",
            "_view_count": null,
            "flex_flow": null,
            "width": null,
            "min_width": null,
            "border": null,
            "align_items": null,
            "bottom": null,
            "_model_module": "@jupyter-widgets/base",
            "top": null,
            "grid_column": null,
            "overflow_y": null,
            "overflow_x": null,
            "grid_auto_flow": null,
            "grid_area": null,
            "grid_template_columns": null,
            "flex": null,
            "_model_name": "LayoutModel",
            "justify_items": null,
            "grid_row": null,
            "max_height": null,
            "align_content": null,
            "visibility": null,
            "align_self": null,
            "height": null,
            "min_height": null,
            "padding": null,
            "grid_auto_rows": null,
            "grid_gap": null,
            "max_width": null,
            "order": null,
            "_view_module_version": "1.2.0",
            "grid_template_areas": null,
            "object_position": null,
            "object_fit": null,
            "grid_auto_columns": null,
            "margin": null,
            "display": null,
            "left": null
          }
        },
        "738f50671c6c46a29ae2750bf3b3d7fa": {
          "model_module": "@jupyter-widgets/controls",
          "model_name": "HTMLModel",
          "model_module_version": "1.5.0",
          "state": {
            "_view_name": "HTMLView",
            "style": "IPY_MODEL_61e87d4a607340a18e75d0af7dfff268",
            "_dom_classes": [],
            "description": "",
            "_model_name": "HTMLModel",
            "placeholder": "​",
            "_view_module": "@jupyter-widgets/controls",
            "_model_module_version": "1.5.0",
            "value": "100%",
            "_view_count": null,
            "_view_module_version": "1.5.0",
            "description_tooltip": null,
            "_model_module": "@jupyter-widgets/controls",
            "layout": "IPY_MODEL_d2db6341a62c44bc853c827de3dcb70b"
          }
        },
        "515b195acb3849f9930dd7a9cf41c4d8": {
          "model_module": "@jupyter-widgets/controls",
          "model_name": "FloatProgressModel",
          "model_module_version": "1.5.0",
          "state": {
            "_view_name": "ProgressView",
            "style": "IPY_MODEL_66a29203e7694b4792122b3e5d7fd92d",
            "_dom_classes": [],
            "description": "",
            "_model_name": "FloatProgressModel",
            "bar_style": "success",
            "max": 13,
            "_view_module": "@jupyter-widgets/controls",
            "_model_module_version": "1.5.0",
            "value": 13,
            "_view_count": null,
            "_view_module_version": "1.5.0",
            "orientation": "horizontal",
            "min": 0,
            "description_tooltip": null,
            "_model_module": "@jupyter-widgets/controls",
            "layout": "IPY_MODEL_4a730ae1abf14682819bc29bbe5655ac"
          }
        },
        "6fa1c619580a4e12989ac2ee6453c4ce": {
          "model_module": "@jupyter-widgets/controls",
          "model_name": "HTMLModel",
          "model_module_version": "1.5.0",
          "state": {
            "_view_name": "HTMLView",
            "style": "IPY_MODEL_6d4d4d7f6d6e4f3da65dd8b6f54a95e7",
            "_dom_classes": [],
            "description": "",
            "_model_name": "HTMLModel",
            "placeholder": "​",
            "_view_module": "@jupyter-widgets/controls",
            "_model_module_version": "1.5.0",
            "value": " 13/13 [00:01&lt;00:00,  9.31ba/s]",
            "_view_count": null,
            "_view_module_version": "1.5.0",
            "description_tooltip": null,
            "_model_module": "@jupyter-widgets/controls",
            "layout": "IPY_MODEL_e37ae973cb5b43ec80a2c6c149f09960"
          }
        },
        "61e87d4a607340a18e75d0af7dfff268": {
          "model_module": "@jupyter-widgets/controls",
          "model_name": "DescriptionStyleModel",
          "model_module_version": "1.5.0",
          "state": {
            "_view_name": "StyleView",
            "_model_name": "DescriptionStyleModel",
            "description_width": "",
            "_view_module": "@jupyter-widgets/base",
            "_model_module_version": "1.5.0",
            "_view_count": null,
            "_view_module_version": "1.2.0",
            "_model_module": "@jupyter-widgets/controls"
          }
        },
        "d2db6341a62c44bc853c827de3dcb70b": {
          "model_module": "@jupyter-widgets/base",
          "model_name": "LayoutModel",
          "model_module_version": "1.2.0",
          "state": {
            "_view_name": "LayoutView",
            "grid_template_rows": null,
            "right": null,
            "justify_content": null,
            "_view_module": "@jupyter-widgets/base",
            "overflow": null,
            "_model_module_version": "1.2.0",
            "_view_count": null,
            "flex_flow": null,
            "width": null,
            "min_width": null,
            "border": null,
            "align_items": null,
            "bottom": null,
            "_model_module": "@jupyter-widgets/base",
            "top": null,
            "grid_column": null,
            "overflow_y": null,
            "overflow_x": null,
            "grid_auto_flow": null,
            "grid_area": null,
            "grid_template_columns": null,
            "flex": null,
            "_model_name": "LayoutModel",
            "justify_items": null,
            "grid_row": null,
            "max_height": null,
            "align_content": null,
            "visibility": null,
            "align_self": null,
            "height": null,
            "min_height": null,
            "padding": null,
            "grid_auto_rows": null,
            "grid_gap": null,
            "max_width": null,
            "order": null,
            "_view_module_version": "1.2.0",
            "grid_template_areas": null,
            "object_position": null,
            "object_fit": null,
            "grid_auto_columns": null,
            "margin": null,
            "display": null,
            "left": null
          }
        },
        "66a29203e7694b4792122b3e5d7fd92d": {
          "model_module": "@jupyter-widgets/controls",
          "model_name": "ProgressStyleModel",
          "model_module_version": "1.5.0",
          "state": {
            "_view_name": "StyleView",
            "_model_name": "ProgressStyleModel",
            "description_width": "",
            "_view_module": "@jupyter-widgets/base",
            "_model_module_version": "1.5.0",
            "_view_count": null,
            "_view_module_version": "1.2.0",
            "bar_color": null,
            "_model_module": "@jupyter-widgets/controls"
          }
        },
        "4a730ae1abf14682819bc29bbe5655ac": {
          "model_module": "@jupyter-widgets/base",
          "model_name": "LayoutModel",
          "model_module_version": "1.2.0",
          "state": {
            "_view_name": "LayoutView",
            "grid_template_rows": null,
            "right": null,
            "justify_content": null,
            "_view_module": "@jupyter-widgets/base",
            "overflow": null,
            "_model_module_version": "1.2.0",
            "_view_count": null,
            "flex_flow": null,
            "width": null,
            "min_width": null,
            "border": null,
            "align_items": null,
            "bottom": null,
            "_model_module": "@jupyter-widgets/base",
            "top": null,
            "grid_column": null,
            "overflow_y": null,
            "overflow_x": null,
            "grid_auto_flow": null,
            "grid_area": null,
            "grid_template_columns": null,
            "flex": null,
            "_model_name": "LayoutModel",
            "justify_items": null,
            "grid_row": null,
            "max_height": null,
            "align_content": null,
            "visibility": null,
            "align_self": null,
            "height": null,
            "min_height": null,
            "padding": null,
            "grid_auto_rows": null,
            "grid_gap": null,
            "max_width": null,
            "order": null,
            "_view_module_version": "1.2.0",
            "grid_template_areas": null,
            "object_position": null,
            "object_fit": null,
            "grid_auto_columns": null,
            "margin": null,
            "display": null,
            "left": null
          }
        },
        "6d4d4d7f6d6e4f3da65dd8b6f54a95e7": {
          "model_module": "@jupyter-widgets/controls",
          "model_name": "DescriptionStyleModel",
          "model_module_version": "1.5.0",
          "state": {
            "_view_name": "StyleView",
            "_model_name": "DescriptionStyleModel",
            "description_width": "",
            "_view_module": "@jupyter-widgets/base",
            "_model_module_version": "1.5.0",
            "_view_count": null,
            "_view_module_version": "1.2.0",
            "_model_module": "@jupyter-widgets/controls"
          }
        },
        "e37ae973cb5b43ec80a2c6c149f09960": {
          "model_module": "@jupyter-widgets/base",
          "model_name": "LayoutModel",
          "model_module_version": "1.2.0",
          "state": {
            "_view_name": "LayoutView",
            "grid_template_rows": null,
            "right": null,
            "justify_content": null,
            "_view_module": "@jupyter-widgets/base",
            "overflow": null,
            "_model_module_version": "1.2.0",
            "_view_count": null,
            "flex_flow": null,
            "width": null,
            "min_width": null,
            "border": null,
            "align_items": null,
            "bottom": null,
            "_model_module": "@jupyter-widgets/base",
            "top": null,
            "grid_column": null,
            "overflow_y": null,
            "overflow_x": null,
            "grid_auto_flow": null,
            "grid_area": null,
            "grid_template_columns": null,
            "flex": null,
            "_model_name": "LayoutModel",
            "justify_items": null,
            "grid_row": null,
            "max_height": null,
            "align_content": null,
            "visibility": null,
            "align_self": null,
            "height": null,
            "min_height": null,
            "padding": null,
            "grid_auto_rows": null,
            "grid_gap": null,
            "max_width": null,
            "order": null,
            "_view_module_version": "1.2.0",
            "grid_template_areas": null,
            "object_position": null,
            "object_fit": null,
            "grid_auto_columns": null,
            "margin": null,
            "display": null,
            "left": null
          }
        },
        "015f261114e44ec89f69fb3dade54d78": {
          "model_module": "@jupyter-widgets/controls",
          "model_name": "HBoxModel",
          "model_module_version": "1.5.0",
          "state": {
            "_view_name": "HBoxView",
            "_dom_classes": [],
            "_model_name": "HBoxModel",
            "_view_module": "@jupyter-widgets/controls",
            "_model_module_version": "1.5.0",
            "_view_count": null,
            "_view_module_version": "1.5.0",
            "box_style": "",
            "layout": "IPY_MODEL_1c384df4523c440ca00319665702149c",
            "_model_module": "@jupyter-widgets/controls",
            "children": [
              "IPY_MODEL_b4a790d029d44878be0c33f2b6cbf0b2",
              "IPY_MODEL_2290a5b86b07493eb162e7287cdad7a4",
              "IPY_MODEL_5d4f547d1f9e471a858b4a4ce9c10a70"
            ]
          }
        },
        "1c384df4523c440ca00319665702149c": {
          "model_module": "@jupyter-widgets/base",
          "model_name": "LayoutModel",
          "model_module_version": "1.2.0",
          "state": {
            "_view_name": "LayoutView",
            "grid_template_rows": null,
            "right": null,
            "justify_content": null,
            "_view_module": "@jupyter-widgets/base",
            "overflow": null,
            "_model_module_version": "1.2.0",
            "_view_count": null,
            "flex_flow": null,
            "width": null,
            "min_width": null,
            "border": null,
            "align_items": null,
            "bottom": null,
            "_model_module": "@jupyter-widgets/base",
            "top": null,
            "grid_column": null,
            "overflow_y": null,
            "overflow_x": null,
            "grid_auto_flow": null,
            "grid_area": null,
            "grid_template_columns": null,
            "flex": null,
            "_model_name": "LayoutModel",
            "justify_items": null,
            "grid_row": null,
            "max_height": null,
            "align_content": null,
            "visibility": null,
            "align_self": null,
            "height": null,
            "min_height": null,
            "padding": null,
            "grid_auto_rows": null,
            "grid_gap": null,
            "max_width": null,
            "order": null,
            "_view_module_version": "1.2.0",
            "grid_template_areas": null,
            "object_position": null,
            "object_fit": null,
            "grid_auto_columns": null,
            "margin": null,
            "display": null,
            "left": null
          }
        },
        "b4a790d029d44878be0c33f2b6cbf0b2": {
          "model_module": "@jupyter-widgets/controls",
          "model_name": "HTMLModel",
          "model_module_version": "1.5.0",
          "state": {
            "_view_name": "HTMLView",
            "style": "IPY_MODEL_30949fd09a444996a2e2fd1047949ccb",
            "_dom_classes": [],
            "description": "",
            "_model_name": "HTMLModel",
            "placeholder": "​",
            "_view_module": "@jupyter-widgets/controls",
            "_model_module_version": "1.5.0",
            "value": "100%",
            "_view_count": null,
            "_view_module_version": "1.5.0",
            "description_tooltip": null,
            "_model_module": "@jupyter-widgets/controls",
            "layout": "IPY_MODEL_a5d30a1c40bc4a8f8b5ee8f682c41418"
          }
        },
        "2290a5b86b07493eb162e7287cdad7a4": {
          "model_module": "@jupyter-widgets/controls",
          "model_name": "FloatProgressModel",
          "model_module_version": "1.5.0",
          "state": {
            "_view_name": "ProgressView",
            "style": "IPY_MODEL_7ed95facccf14eb5a68720d072c9a0de",
            "_dom_classes": [],
            "description": "",
            "_model_name": "FloatProgressModel",
            "bar_style": "success",
            "max": 1,
            "_view_module": "@jupyter-widgets/controls",
            "_model_module_version": "1.5.0",
            "value": 1,
            "_view_count": null,
            "_view_module_version": "1.5.0",
            "orientation": "horizontal",
            "min": 0,
            "description_tooltip": null,
            "_model_module": "@jupyter-widgets/controls",
            "layout": "IPY_MODEL_dc75d4468f8d4dc4a324ae201ec74654"
          }
        },
        "5d4f547d1f9e471a858b4a4ce9c10a70": {
          "model_module": "@jupyter-widgets/controls",
          "model_name": "HTMLModel",
          "model_module_version": "1.5.0",
          "state": {
            "_view_name": "HTMLView",
            "style": "IPY_MODEL_52dac43b3d784a2696a3d0d5057d35dd",
            "_dom_classes": [],
            "description": "",
            "_model_name": "HTMLModel",
            "placeholder": "​",
            "_view_module": "@jupyter-widgets/controls",
            "_model_module_version": "1.5.0",
            "value": " 1/1 [00:00&lt;00:00,  9.19ba/s]",
            "_view_count": null,
            "_view_module_version": "1.5.0",
            "description_tooltip": null,
            "_model_module": "@jupyter-widgets/controls",
            "layout": "IPY_MODEL_f693bf3a3b6a4563a44e4c76bbaccf91"
          }
        },
        "30949fd09a444996a2e2fd1047949ccb": {
          "model_module": "@jupyter-widgets/controls",
          "model_name": "DescriptionStyleModel",
          "model_module_version": "1.5.0",
          "state": {
            "_view_name": "StyleView",
            "_model_name": "DescriptionStyleModel",
            "description_width": "",
            "_view_module": "@jupyter-widgets/base",
            "_model_module_version": "1.5.0",
            "_view_count": null,
            "_view_module_version": "1.2.0",
            "_model_module": "@jupyter-widgets/controls"
          }
        },
        "a5d30a1c40bc4a8f8b5ee8f682c41418": {
          "model_module": "@jupyter-widgets/base",
          "model_name": "LayoutModel",
          "model_module_version": "1.2.0",
          "state": {
            "_view_name": "LayoutView",
            "grid_template_rows": null,
            "right": null,
            "justify_content": null,
            "_view_module": "@jupyter-widgets/base",
            "overflow": null,
            "_model_module_version": "1.2.0",
            "_view_count": null,
            "flex_flow": null,
            "width": null,
            "min_width": null,
            "border": null,
            "align_items": null,
            "bottom": null,
            "_model_module": "@jupyter-widgets/base",
            "top": null,
            "grid_column": null,
            "overflow_y": null,
            "overflow_x": null,
            "grid_auto_flow": null,
            "grid_area": null,
            "grid_template_columns": null,
            "flex": null,
            "_model_name": "LayoutModel",
            "justify_items": null,
            "grid_row": null,
            "max_height": null,
            "align_content": null,
            "visibility": null,
            "align_self": null,
            "height": null,
            "min_height": null,
            "padding": null,
            "grid_auto_rows": null,
            "grid_gap": null,
            "max_width": null,
            "order": null,
            "_view_module_version": "1.2.0",
            "grid_template_areas": null,
            "object_position": null,
            "object_fit": null,
            "grid_auto_columns": null,
            "margin": null,
            "display": null,
            "left": null
          }
        },
        "7ed95facccf14eb5a68720d072c9a0de": {
          "model_module": "@jupyter-widgets/controls",
          "model_name": "ProgressStyleModel",
          "model_module_version": "1.5.0",
          "state": {
            "_view_name": "StyleView",
            "_model_name": "ProgressStyleModel",
            "description_width": "",
            "_view_module": "@jupyter-widgets/base",
            "_model_module_version": "1.5.0",
            "_view_count": null,
            "_view_module_version": "1.2.0",
            "bar_color": null,
            "_model_module": "@jupyter-widgets/controls"
          }
        },
        "dc75d4468f8d4dc4a324ae201ec74654": {
          "model_module": "@jupyter-widgets/base",
          "model_name": "LayoutModel",
          "model_module_version": "1.2.0",
          "state": {
            "_view_name": "LayoutView",
            "grid_template_rows": null,
            "right": null,
            "justify_content": null,
            "_view_module": "@jupyter-widgets/base",
            "overflow": null,
            "_model_module_version": "1.2.0",
            "_view_count": null,
            "flex_flow": null,
            "width": null,
            "min_width": null,
            "border": null,
            "align_items": null,
            "bottom": null,
            "_model_module": "@jupyter-widgets/base",
            "top": null,
            "grid_column": null,
            "overflow_y": null,
            "overflow_x": null,
            "grid_auto_flow": null,
            "grid_area": null,
            "grid_template_columns": null,
            "flex": null,
            "_model_name": "LayoutModel",
            "justify_items": null,
            "grid_row": null,
            "max_height": null,
            "align_content": null,
            "visibility": null,
            "align_self": null,
            "height": null,
            "min_height": null,
            "padding": null,
            "grid_auto_rows": null,
            "grid_gap": null,
            "max_width": null,
            "order": null,
            "_view_module_version": "1.2.0",
            "grid_template_areas": null,
            "object_position": null,
            "object_fit": null,
            "grid_auto_columns": null,
            "margin": null,
            "display": null,
            "left": null
          }
        },
        "52dac43b3d784a2696a3d0d5057d35dd": {
          "model_module": "@jupyter-widgets/controls",
          "model_name": "DescriptionStyleModel",
          "model_module_version": "1.5.0",
          "state": {
            "_view_name": "StyleView",
            "_model_name": "DescriptionStyleModel",
            "description_width": "",
            "_view_module": "@jupyter-widgets/base",
            "_model_module_version": "1.5.0",
            "_view_count": null,
            "_view_module_version": "1.2.0",
            "_model_module": "@jupyter-widgets/controls"
          }
        },
        "f693bf3a3b6a4563a44e4c76bbaccf91": {
          "model_module": "@jupyter-widgets/base",
          "model_name": "LayoutModel",
          "model_module_version": "1.2.0",
          "state": {
            "_view_name": "LayoutView",
            "grid_template_rows": null,
            "right": null,
            "justify_content": null,
            "_view_module": "@jupyter-widgets/base",
            "overflow": null,
            "_model_module_version": "1.2.0",
            "_view_count": null,
            "flex_flow": null,
            "width": null,
            "min_width": null,
            "border": null,
            "align_items": null,
            "bottom": null,
            "_model_module": "@jupyter-widgets/base",
            "top": null,
            "grid_column": null,
            "overflow_y": null,
            "overflow_x": null,
            "grid_auto_flow": null,
            "grid_area": null,
            "grid_template_columns": null,
            "flex": null,
            "_model_name": "LayoutModel",
            "justify_items": null,
            "grid_row": null,
            "max_height": null,
            "align_content": null,
            "visibility": null,
            "align_self": null,
            "height": null,
            "min_height": null,
            "padding": null,
            "grid_auto_rows": null,
            "grid_gap": null,
            "max_width": null,
            "order": null,
            "_view_module_version": "1.2.0",
            "grid_template_areas": null,
            "object_position": null,
            "object_fit": null,
            "grid_auto_columns": null,
            "margin": null,
            "display": null,
            "left": null
          }
        },
        "4ffe5086f37e423c9679becdd2b9d46d": {
          "model_module": "@jupyter-widgets/controls",
          "model_name": "HBoxModel",
          "model_module_version": "1.5.0",
          "state": {
            "_view_name": "HBoxView",
            "_dom_classes": [],
            "_model_name": "HBoxModel",
            "_view_module": "@jupyter-widgets/controls",
            "_model_module_version": "1.5.0",
            "_view_count": null,
            "_view_module_version": "1.5.0",
            "box_style": "",
            "layout": "IPY_MODEL_0e82ef4ca4c644babbce044a405522ed",
            "_model_module": "@jupyter-widgets/controls",
            "children": [
              "IPY_MODEL_a6c4500026f84537ad5aa954bd635a73",
              "IPY_MODEL_1bf40450d2bf40e0809c77573581e0e8",
              "IPY_MODEL_f7e6def78c644bdab1f194ec8428c1f7"
            ]
          }
        },
        "0e82ef4ca4c644babbce044a405522ed": {
          "model_module": "@jupyter-widgets/base",
          "model_name": "LayoutModel",
          "model_module_version": "1.2.0",
          "state": {
            "_view_name": "LayoutView",
            "grid_template_rows": null,
            "right": null,
            "justify_content": null,
            "_view_module": "@jupyter-widgets/base",
            "overflow": null,
            "_model_module_version": "1.2.0",
            "_view_count": null,
            "flex_flow": null,
            "width": null,
            "min_width": null,
            "border": null,
            "align_items": null,
            "bottom": null,
            "_model_module": "@jupyter-widgets/base",
            "top": null,
            "grid_column": null,
            "overflow_y": null,
            "overflow_x": null,
            "grid_auto_flow": null,
            "grid_area": null,
            "grid_template_columns": null,
            "flex": null,
            "_model_name": "LayoutModel",
            "justify_items": null,
            "grid_row": null,
            "max_height": null,
            "align_content": null,
            "visibility": null,
            "align_self": null,
            "height": null,
            "min_height": null,
            "padding": null,
            "grid_auto_rows": null,
            "grid_gap": null,
            "max_width": null,
            "order": null,
            "_view_module_version": "1.2.0",
            "grid_template_areas": null,
            "object_position": null,
            "object_fit": null,
            "grid_auto_columns": null,
            "margin": null,
            "display": null,
            "left": null
          }
        },
        "a6c4500026f84537ad5aa954bd635a73": {
          "model_module": "@jupyter-widgets/controls",
          "model_name": "HTMLModel",
          "model_module_version": "1.5.0",
          "state": {
            "_view_name": "HTMLView",
            "style": "IPY_MODEL_6b08fbfb1d3f479797471135ef28185b",
            "_dom_classes": [],
            "description": "",
            "_model_name": "HTMLModel",
            "placeholder": "​",
            "_view_module": "@jupyter-widgets/controls",
            "_model_module_version": "1.5.0",
            "value": "100%",
            "_view_count": null,
            "_view_module_version": "1.5.0",
            "description_tooltip": null,
            "_model_module": "@jupyter-widgets/controls",
            "layout": "IPY_MODEL_a98ff48a40c4416f9f6e2bb553592f6e"
          }
        },
        "1bf40450d2bf40e0809c77573581e0e8": {
          "model_module": "@jupyter-widgets/controls",
          "model_name": "FloatProgressModel",
          "model_module_version": "1.5.0",
          "state": {
            "_view_name": "ProgressView",
            "style": "IPY_MODEL_879e5a8835644da5945b975e1560e5d8",
            "_dom_classes": [],
            "description": "",
            "_model_name": "FloatProgressModel",
            "bar_style": "success",
            "max": 1,
            "_view_module": "@jupyter-widgets/controls",
            "_model_module_version": "1.5.0",
            "value": 1,
            "_view_count": null,
            "_view_module_version": "1.5.0",
            "orientation": "horizontal",
            "min": 0,
            "description_tooltip": null,
            "_model_module": "@jupyter-widgets/controls",
            "layout": "IPY_MODEL_00bb85a96c604d87a2ec75c30837d5e4"
          }
        },
        "f7e6def78c644bdab1f194ec8428c1f7": {
          "model_module": "@jupyter-widgets/controls",
          "model_name": "HTMLModel",
          "model_module_version": "1.5.0",
          "state": {
            "_view_name": "HTMLView",
            "style": "IPY_MODEL_d42fd0a30b57432dbcc42d021990b906",
            "_dom_classes": [],
            "description": "",
            "_model_name": "HTMLModel",
            "placeholder": "​",
            "_view_module": "@jupyter-widgets/controls",
            "_model_module_version": "1.5.0",
            "value": " 1/1 [00:00&lt;00:00,  8.68ba/s]",
            "_view_count": null,
            "_view_module_version": "1.5.0",
            "description_tooltip": null,
            "_model_module": "@jupyter-widgets/controls",
            "layout": "IPY_MODEL_82ebc24c4c574c27b09a1a2cd5c4f3df"
          }
        },
        "6b08fbfb1d3f479797471135ef28185b": {
          "model_module": "@jupyter-widgets/controls",
          "model_name": "DescriptionStyleModel",
          "model_module_version": "1.5.0",
          "state": {
            "_view_name": "StyleView",
            "_model_name": "DescriptionStyleModel",
            "description_width": "",
            "_view_module": "@jupyter-widgets/base",
            "_model_module_version": "1.5.0",
            "_view_count": null,
            "_view_module_version": "1.2.0",
            "_model_module": "@jupyter-widgets/controls"
          }
        },
        "a98ff48a40c4416f9f6e2bb553592f6e": {
          "model_module": "@jupyter-widgets/base",
          "model_name": "LayoutModel",
          "model_module_version": "1.2.0",
          "state": {
            "_view_name": "LayoutView",
            "grid_template_rows": null,
            "right": null,
            "justify_content": null,
            "_view_module": "@jupyter-widgets/base",
            "overflow": null,
            "_model_module_version": "1.2.0",
            "_view_count": null,
            "flex_flow": null,
            "width": null,
            "min_width": null,
            "border": null,
            "align_items": null,
            "bottom": null,
            "_model_module": "@jupyter-widgets/base",
            "top": null,
            "grid_column": null,
            "overflow_y": null,
            "overflow_x": null,
            "grid_auto_flow": null,
            "grid_area": null,
            "grid_template_columns": null,
            "flex": null,
            "_model_name": "LayoutModel",
            "justify_items": null,
            "grid_row": null,
            "max_height": null,
            "align_content": null,
            "visibility": null,
            "align_self": null,
            "height": null,
            "min_height": null,
            "padding": null,
            "grid_auto_rows": null,
            "grid_gap": null,
            "max_width": null,
            "order": null,
            "_view_module_version": "1.2.0",
            "grid_template_areas": null,
            "object_position": null,
            "object_fit": null,
            "grid_auto_columns": null,
            "margin": null,
            "display": null,
            "left": null
          }
        },
        "879e5a8835644da5945b975e1560e5d8": {
          "model_module": "@jupyter-widgets/controls",
          "model_name": "ProgressStyleModel",
          "model_module_version": "1.5.0",
          "state": {
            "_view_name": "StyleView",
            "_model_name": "ProgressStyleModel",
            "description_width": "",
            "_view_module": "@jupyter-widgets/base",
            "_model_module_version": "1.5.0",
            "_view_count": null,
            "_view_module_version": "1.2.0",
            "bar_color": null,
            "_model_module": "@jupyter-widgets/controls"
          }
        },
        "00bb85a96c604d87a2ec75c30837d5e4": {
          "model_module": "@jupyter-widgets/base",
          "model_name": "LayoutModel",
          "model_module_version": "1.2.0",
          "state": {
            "_view_name": "LayoutView",
            "grid_template_rows": null,
            "right": null,
            "justify_content": null,
            "_view_module": "@jupyter-widgets/base",
            "overflow": null,
            "_model_module_version": "1.2.0",
            "_view_count": null,
            "flex_flow": null,
            "width": null,
            "min_width": null,
            "border": null,
            "align_items": null,
            "bottom": null,
            "_model_module": "@jupyter-widgets/base",
            "top": null,
            "grid_column": null,
            "overflow_y": null,
            "overflow_x": null,
            "grid_auto_flow": null,
            "grid_area": null,
            "grid_template_columns": null,
            "flex": null,
            "_model_name": "LayoutModel",
            "justify_items": null,
            "grid_row": null,
            "max_height": null,
            "align_content": null,
            "visibility": null,
            "align_self": null,
            "height": null,
            "min_height": null,
            "padding": null,
            "grid_auto_rows": null,
            "grid_gap": null,
            "max_width": null,
            "order": null,
            "_view_module_version": "1.2.0",
            "grid_template_areas": null,
            "object_position": null,
            "object_fit": null,
            "grid_auto_columns": null,
            "margin": null,
            "display": null,
            "left": null
          }
        },
        "d42fd0a30b57432dbcc42d021990b906": {
          "model_module": "@jupyter-widgets/controls",
          "model_name": "DescriptionStyleModel",
          "model_module_version": "1.5.0",
          "state": {
            "_view_name": "StyleView",
            "_model_name": "DescriptionStyleModel",
            "description_width": "",
            "_view_module": "@jupyter-widgets/base",
            "_model_module_version": "1.5.0",
            "_view_count": null,
            "_view_module_version": "1.2.0",
            "_model_module": "@jupyter-widgets/controls"
          }
        },
        "82ebc24c4c574c27b09a1a2cd5c4f3df": {
          "model_module": "@jupyter-widgets/base",
          "model_name": "LayoutModel",
          "model_module_version": "1.2.0",
          "state": {
            "_view_name": "LayoutView",
            "grid_template_rows": null,
            "right": null,
            "justify_content": null,
            "_view_module": "@jupyter-widgets/base",
            "overflow": null,
            "_model_module_version": "1.2.0",
            "_view_count": null,
            "flex_flow": null,
            "width": null,
            "min_width": null,
            "border": null,
            "align_items": null,
            "bottom": null,
            "_model_module": "@jupyter-widgets/base",
            "top": null,
            "grid_column": null,
            "overflow_y": null,
            "overflow_x": null,
            "grid_auto_flow": null,
            "grid_area": null,
            "grid_template_columns": null,
            "flex": null,
            "_model_name": "LayoutModel",
            "justify_items": null,
            "grid_row": null,
            "max_height": null,
            "align_content": null,
            "visibility": null,
            "align_self": null,
            "height": null,
            "min_height": null,
            "padding": null,
            "grid_auto_rows": null,
            "grid_gap": null,
            "max_width": null,
            "order": null,
            "_view_module_version": "1.2.0",
            "grid_template_areas": null,
            "object_position": null,
            "object_fit": null,
            "grid_auto_columns": null,
            "margin": null,
            "display": null,
            "left": null
          }
        },
        "7d5a8e8426da4d038b061dd61cc578b4": {
          "model_module": "@jupyter-widgets/controls",
          "model_name": "HBoxModel",
          "model_module_version": "1.5.0",
          "state": {
            "_view_name": "HBoxView",
            "_dom_classes": [],
            "_model_name": "HBoxModel",
            "_view_module": "@jupyter-widgets/controls",
            "_model_module_version": "1.5.0",
            "_view_count": null,
            "_view_module_version": "1.5.0",
            "box_style": "",
            "layout": "IPY_MODEL_268cfc101afe49af84926635e0e3e7d4",
            "_model_module": "@jupyter-widgets/controls",
            "children": [
              "IPY_MODEL_9f5eaf96eeef4c2f80a02cf2093fae4a",
              "IPY_MODEL_6e645d013e2443ff80e4f13a6d00cfac",
              "IPY_MODEL_7f896644e401460cb5cf2300ad306ac8"
            ]
          }
        },
        "268cfc101afe49af84926635e0e3e7d4": {
          "model_module": "@jupyter-widgets/base",
          "model_name": "LayoutModel",
          "model_module_version": "1.2.0",
          "state": {
            "_view_name": "LayoutView",
            "grid_template_rows": null,
            "right": null,
            "justify_content": null,
            "_view_module": "@jupyter-widgets/base",
            "overflow": null,
            "_model_module_version": "1.2.0",
            "_view_count": null,
            "flex_flow": null,
            "width": null,
            "min_width": null,
            "border": null,
            "align_items": null,
            "bottom": null,
            "_model_module": "@jupyter-widgets/base",
            "top": null,
            "grid_column": null,
            "overflow_y": null,
            "overflow_x": null,
            "grid_auto_flow": null,
            "grid_area": null,
            "grid_template_columns": null,
            "flex": null,
            "_model_name": "LayoutModel",
            "justify_items": null,
            "grid_row": null,
            "max_height": null,
            "align_content": null,
            "visibility": null,
            "align_self": null,
            "height": null,
            "min_height": null,
            "padding": null,
            "grid_auto_rows": null,
            "grid_gap": null,
            "max_width": null,
            "order": null,
            "_view_module_version": "1.2.0",
            "grid_template_areas": null,
            "object_position": null,
            "object_fit": null,
            "grid_auto_columns": null,
            "margin": null,
            "display": null,
            "left": null
          }
        },
        "9f5eaf96eeef4c2f80a02cf2093fae4a": {
          "model_module": "@jupyter-widgets/controls",
          "model_name": "HTMLModel",
          "model_module_version": "1.5.0",
          "state": {
            "_view_name": "HTMLView",
            "style": "IPY_MODEL_668aa1c25e8d4bc195b9b4d6bfe2a1d2",
            "_dom_classes": [],
            "description": "",
            "_model_name": "HTMLModel",
            "placeholder": "​",
            "_view_module": "@jupyter-widgets/controls",
            "_model_module_version": "1.5.0",
            "value": "Downloading: 100%",
            "_view_count": null,
            "_view_module_version": "1.5.0",
            "description_tooltip": null,
            "_model_module": "@jupyter-widgets/controls",
            "layout": "IPY_MODEL_3943cfdb4acf48e4b48f60a820a48682"
          }
        },
        "6e645d013e2443ff80e4f13a6d00cfac": {
          "model_module": "@jupyter-widgets/controls",
          "model_name": "FloatProgressModel",
          "model_module_version": "1.5.0",
          "state": {
            "_view_name": "ProgressView",
            "style": "IPY_MODEL_7d9d5b78f6fe4eaa952eee84ca32e9d3",
            "_dom_classes": [],
            "description": "",
            "_model_name": "FloatProgressModel",
            "bar_style": "success",
            "max": 672271273,
            "_view_module": "@jupyter-widgets/controls",
            "_model_module_version": "1.5.0",
            "value": 672271273,
            "_view_count": null,
            "_view_module_version": "1.5.0",
            "orientation": "horizontal",
            "min": 0,
            "description_tooltip": null,
            "_model_module": "@jupyter-widgets/controls",
            "layout": "IPY_MODEL_7f1bce8963064119affc744f4dc602b8"
          }
        },
        "7f896644e401460cb5cf2300ad306ac8": {
          "model_module": "@jupyter-widgets/controls",
          "model_name": "HTMLModel",
          "model_module_version": "1.5.0",
          "state": {
            "_view_name": "HTMLView",
            "style": "IPY_MODEL_9ea68dec881a42e884ae38136b0c7bcd",
            "_dom_classes": [],
            "description": "",
            "_model_name": "HTMLModel",
            "placeholder": "​",
            "_view_module": "@jupyter-widgets/controls",
            "_model_module_version": "1.5.0",
            "value": " 672M/672M [00:25&lt;00:00, 30.1MB/s]",
            "_view_count": null,
            "_view_module_version": "1.5.0",
            "description_tooltip": null,
            "_model_module": "@jupyter-widgets/controls",
            "layout": "IPY_MODEL_a7e7bcea6f414c1b8f8ce14a3a4ed950"
          }
        },
        "668aa1c25e8d4bc195b9b4d6bfe2a1d2": {
          "model_module": "@jupyter-widgets/controls",
          "model_name": "DescriptionStyleModel",
          "model_module_version": "1.5.0",
          "state": {
            "_view_name": "StyleView",
            "_model_name": "DescriptionStyleModel",
            "description_width": "",
            "_view_module": "@jupyter-widgets/base",
            "_model_module_version": "1.5.0",
            "_view_count": null,
            "_view_module_version": "1.2.0",
            "_model_module": "@jupyter-widgets/controls"
          }
        },
        "3943cfdb4acf48e4b48f60a820a48682": {
          "model_module": "@jupyter-widgets/base",
          "model_name": "LayoutModel",
          "model_module_version": "1.2.0",
          "state": {
            "_view_name": "LayoutView",
            "grid_template_rows": null,
            "right": null,
            "justify_content": null,
            "_view_module": "@jupyter-widgets/base",
            "overflow": null,
            "_model_module_version": "1.2.0",
            "_view_count": null,
            "flex_flow": null,
            "width": null,
            "min_width": null,
            "border": null,
            "align_items": null,
            "bottom": null,
            "_model_module": "@jupyter-widgets/base",
            "top": null,
            "grid_column": null,
            "overflow_y": null,
            "overflow_x": null,
            "grid_auto_flow": null,
            "grid_area": null,
            "grid_template_columns": null,
            "flex": null,
            "_model_name": "LayoutModel",
            "justify_items": null,
            "grid_row": null,
            "max_height": null,
            "align_content": null,
            "visibility": null,
            "align_self": null,
            "height": null,
            "min_height": null,
            "padding": null,
            "grid_auto_rows": null,
            "grid_gap": null,
            "max_width": null,
            "order": null,
            "_view_module_version": "1.2.0",
            "grid_template_areas": null,
            "object_position": null,
            "object_fit": null,
            "grid_auto_columns": null,
            "margin": null,
            "display": null,
            "left": null
          }
        },
        "7d9d5b78f6fe4eaa952eee84ca32e9d3": {
          "model_module": "@jupyter-widgets/controls",
          "model_name": "ProgressStyleModel",
          "model_module_version": "1.5.0",
          "state": {
            "_view_name": "StyleView",
            "_model_name": "ProgressStyleModel",
            "description_width": "",
            "_view_module": "@jupyter-widgets/base",
            "_model_module_version": "1.5.0",
            "_view_count": null,
            "_view_module_version": "1.2.0",
            "bar_color": null,
            "_model_module": "@jupyter-widgets/controls"
          }
        },
        "7f1bce8963064119affc744f4dc602b8": {
          "model_module": "@jupyter-widgets/base",
          "model_name": "LayoutModel",
          "model_module_version": "1.2.0",
          "state": {
            "_view_name": "LayoutView",
            "grid_template_rows": null,
            "right": null,
            "justify_content": null,
            "_view_module": "@jupyter-widgets/base",
            "overflow": null,
            "_model_module_version": "1.2.0",
            "_view_count": null,
            "flex_flow": null,
            "width": null,
            "min_width": null,
            "border": null,
            "align_items": null,
            "bottom": null,
            "_model_module": "@jupyter-widgets/base",
            "top": null,
            "grid_column": null,
            "overflow_y": null,
            "overflow_x": null,
            "grid_auto_flow": null,
            "grid_area": null,
            "grid_template_columns": null,
            "flex": null,
            "_model_name": "LayoutModel",
            "justify_items": null,
            "grid_row": null,
            "max_height": null,
            "align_content": null,
            "visibility": null,
            "align_self": null,
            "height": null,
            "min_height": null,
            "padding": null,
            "grid_auto_rows": null,
            "grid_gap": null,
            "max_width": null,
            "order": null,
            "_view_module_version": "1.2.0",
            "grid_template_areas": null,
            "object_position": null,
            "object_fit": null,
            "grid_auto_columns": null,
            "margin": null,
            "display": null,
            "left": null
          }
        },
        "9ea68dec881a42e884ae38136b0c7bcd": {
          "model_module": "@jupyter-widgets/controls",
          "model_name": "DescriptionStyleModel",
          "model_module_version": "1.5.0",
          "state": {
            "_view_name": "StyleView",
            "_model_name": "DescriptionStyleModel",
            "description_width": "",
            "_view_module": "@jupyter-widgets/base",
            "_model_module_version": "1.5.0",
            "_view_count": null,
            "_view_module_version": "1.2.0",
            "_model_module": "@jupyter-widgets/controls"
          }
        },
        "a7e7bcea6f414c1b8f8ce14a3a4ed950": {
          "model_module": "@jupyter-widgets/base",
          "model_name": "LayoutModel",
          "model_module_version": "1.2.0",
          "state": {
            "_view_name": "LayoutView",
            "grid_template_rows": null,
            "right": null,
            "justify_content": null,
            "_view_module": "@jupyter-widgets/base",
            "overflow": null,
            "_model_module_version": "1.2.0",
            "_view_count": null,
            "flex_flow": null,
            "width": null,
            "min_width": null,
            "border": null,
            "align_items": null,
            "bottom": null,
            "_model_module": "@jupyter-widgets/base",
            "top": null,
            "grid_column": null,
            "overflow_y": null,
            "overflow_x": null,
            "grid_auto_flow": null,
            "grid_area": null,
            "grid_template_columns": null,
            "flex": null,
            "_model_name": "LayoutModel",
            "justify_items": null,
            "grid_row": null,
            "max_height": null,
            "align_content": null,
            "visibility": null,
            "align_self": null,
            "height": null,
            "min_height": null,
            "padding": null,
            "grid_auto_rows": null,
            "grid_gap": null,
            "max_width": null,
            "order": null,
            "_view_module_version": "1.2.0",
            "grid_template_areas": null,
            "object_position": null,
            "object_fit": null,
            "grid_auto_columns": null,
            "margin": null,
            "display": null,
            "left": null
          }
        },
        "c74e372cead84329b8e0a0a6069d8902": {
          "model_module": "@jupyter-widgets/controls",
          "model_name": "HBoxModel",
          "model_module_version": "1.5.0",
          "state": {
            "_view_name": "HBoxView",
            "_dom_classes": [],
            "_model_name": "HBoxModel",
            "_view_module": "@jupyter-widgets/controls",
            "_model_module_version": "1.5.0",
            "_view_count": null,
            "_view_module_version": "1.5.0",
            "box_style": "",
            "layout": "IPY_MODEL_0c953265033647b19310e8c1c3ce4ad3",
            "_model_module": "@jupyter-widgets/controls",
            "children": [
              "IPY_MODEL_b18866de2deb43ab9837e8459b671241",
              "IPY_MODEL_4b38cbcda7364535a77fc65c55839877",
              "IPY_MODEL_bda8d973218d47779559da0caef7ff6a"
            ]
          }
        },
        "0c953265033647b19310e8c1c3ce4ad3": {
          "model_module": "@jupyter-widgets/base",
          "model_name": "LayoutModel",
          "model_module_version": "1.2.0",
          "state": {
            "_view_name": "LayoutView",
            "grid_template_rows": null,
            "right": null,
            "justify_content": null,
            "_view_module": "@jupyter-widgets/base",
            "overflow": null,
            "_model_module_version": "1.2.0",
            "_view_count": null,
            "flex_flow": null,
            "width": null,
            "min_width": null,
            "border": null,
            "align_items": null,
            "bottom": null,
            "_model_module": "@jupyter-widgets/base",
            "top": null,
            "grid_column": null,
            "overflow_y": null,
            "overflow_x": null,
            "grid_auto_flow": null,
            "grid_area": null,
            "grid_template_columns": null,
            "flex": null,
            "_model_name": "LayoutModel",
            "justify_items": null,
            "grid_row": null,
            "max_height": null,
            "align_content": null,
            "visibility": null,
            "align_self": null,
            "height": null,
            "min_height": null,
            "padding": null,
            "grid_auto_rows": null,
            "grid_gap": null,
            "max_width": null,
            "order": null,
            "_view_module_version": "1.2.0",
            "grid_template_areas": null,
            "object_position": null,
            "object_fit": null,
            "grid_auto_columns": null,
            "margin": null,
            "display": null,
            "left": null
          }
        },
        "b18866de2deb43ab9837e8459b671241": {
          "model_module": "@jupyter-widgets/controls",
          "model_name": "HTMLModel",
          "model_module_version": "1.5.0",
          "state": {
            "_view_name": "HTMLView",
            "style": "IPY_MODEL_6cd1eceb554048ce8217fb1e74cdfdb1",
            "_dom_classes": [],
            "description": "",
            "_model_name": "HTMLModel",
            "placeholder": "​",
            "_view_module": "@jupyter-widgets/controls",
            "_model_module_version": "1.5.0",
            "value": "Downloading: ",
            "_view_count": null,
            "_view_module_version": "1.5.0",
            "description_tooltip": null,
            "_model_module": "@jupyter-widgets/controls",
            "layout": "IPY_MODEL_6a633959a45e46ebb6702bf9a138c417"
          }
        },
        "4b38cbcda7364535a77fc65c55839877": {
          "model_module": "@jupyter-widgets/controls",
          "model_name": "FloatProgressModel",
          "model_module_version": "1.5.0",
          "state": {
            "_view_name": "ProgressView",
            "style": "IPY_MODEL_6b238da8bb8b403990dc93471f40f2c9",
            "_dom_classes": [],
            "description": "",
            "_model_name": "FloatProgressModel",
            "bar_style": "success",
            "max": 2482,
            "_view_module": "@jupyter-widgets/controls",
            "_model_module_version": "1.5.0",
            "value": 2482,
            "_view_count": null,
            "_view_module_version": "1.5.0",
            "orientation": "horizontal",
            "min": 0,
            "description_tooltip": null,
            "_model_module": "@jupyter-widgets/controls",
            "layout": "IPY_MODEL_aeec92cb0d7d42be9a62e9db25b3a3a5"
          }
        },
        "bda8d973218d47779559da0caef7ff6a": {
          "model_module": "@jupyter-widgets/controls",
          "model_name": "HTMLModel",
          "model_module_version": "1.5.0",
          "state": {
            "_view_name": "HTMLView",
            "style": "IPY_MODEL_e0b1f8d715e3402aa756508b12d44ba3",
            "_dom_classes": [],
            "description": "",
            "_model_name": "HTMLModel",
            "placeholder": "​",
            "_view_module": "@jupyter-widgets/controls",
            "_model_module_version": "1.5.0",
            "value": " 6.34k/? [00:00&lt;00:00, 64.8kB/s]",
            "_view_count": null,
            "_view_module_version": "1.5.0",
            "description_tooltip": null,
            "_model_module": "@jupyter-widgets/controls",
            "layout": "IPY_MODEL_59f1ebaa784642a7a5e369437b40946a"
          }
        },
        "6cd1eceb554048ce8217fb1e74cdfdb1": {
          "model_module": "@jupyter-widgets/controls",
          "model_name": "DescriptionStyleModel",
          "model_module_version": "1.5.0",
          "state": {
            "_view_name": "StyleView",
            "_model_name": "DescriptionStyleModel",
            "description_width": "",
            "_view_module": "@jupyter-widgets/base",
            "_model_module_version": "1.5.0",
            "_view_count": null,
            "_view_module_version": "1.2.0",
            "_model_module": "@jupyter-widgets/controls"
          }
        },
        "6a633959a45e46ebb6702bf9a138c417": {
          "model_module": "@jupyter-widgets/base",
          "model_name": "LayoutModel",
          "model_module_version": "1.2.0",
          "state": {
            "_view_name": "LayoutView",
            "grid_template_rows": null,
            "right": null,
            "justify_content": null,
            "_view_module": "@jupyter-widgets/base",
            "overflow": null,
            "_model_module_version": "1.2.0",
            "_view_count": null,
            "flex_flow": null,
            "width": null,
            "min_width": null,
            "border": null,
            "align_items": null,
            "bottom": null,
            "_model_module": "@jupyter-widgets/base",
            "top": null,
            "grid_column": null,
            "overflow_y": null,
            "overflow_x": null,
            "grid_auto_flow": null,
            "grid_area": null,
            "grid_template_columns": null,
            "flex": null,
            "_model_name": "LayoutModel",
            "justify_items": null,
            "grid_row": null,
            "max_height": null,
            "align_content": null,
            "visibility": null,
            "align_self": null,
            "height": null,
            "min_height": null,
            "padding": null,
            "grid_auto_rows": null,
            "grid_gap": null,
            "max_width": null,
            "order": null,
            "_view_module_version": "1.2.0",
            "grid_template_areas": null,
            "object_position": null,
            "object_fit": null,
            "grid_auto_columns": null,
            "margin": null,
            "display": null,
            "left": null
          }
        },
        "6b238da8bb8b403990dc93471f40f2c9": {
          "model_module": "@jupyter-widgets/controls",
          "model_name": "ProgressStyleModel",
          "model_module_version": "1.5.0",
          "state": {
            "_view_name": "StyleView",
            "_model_name": "ProgressStyleModel",
            "description_width": "",
            "_view_module": "@jupyter-widgets/base",
            "_model_module_version": "1.5.0",
            "_view_count": null,
            "_view_module_version": "1.2.0",
            "bar_color": null,
            "_model_module": "@jupyter-widgets/controls"
          }
        },
        "aeec92cb0d7d42be9a62e9db25b3a3a5": {
          "model_module": "@jupyter-widgets/base",
          "model_name": "LayoutModel",
          "model_module_version": "1.2.0",
          "state": {
            "_view_name": "LayoutView",
            "grid_template_rows": null,
            "right": null,
            "justify_content": null,
            "_view_module": "@jupyter-widgets/base",
            "overflow": null,
            "_model_module_version": "1.2.0",
            "_view_count": null,
            "flex_flow": null,
            "width": null,
            "min_width": null,
            "border": null,
            "align_items": null,
            "bottom": null,
            "_model_module": "@jupyter-widgets/base",
            "top": null,
            "grid_column": null,
            "overflow_y": null,
            "overflow_x": null,
            "grid_auto_flow": null,
            "grid_area": null,
            "grid_template_columns": null,
            "flex": null,
            "_model_name": "LayoutModel",
            "justify_items": null,
            "grid_row": null,
            "max_height": null,
            "align_content": null,
            "visibility": null,
            "align_self": null,
            "height": null,
            "min_height": null,
            "padding": null,
            "grid_auto_rows": null,
            "grid_gap": null,
            "max_width": null,
            "order": null,
            "_view_module_version": "1.2.0",
            "grid_template_areas": null,
            "object_position": null,
            "object_fit": null,
            "grid_auto_columns": null,
            "margin": null,
            "display": null,
            "left": null
          }
        },
        "e0b1f8d715e3402aa756508b12d44ba3": {
          "model_module": "@jupyter-widgets/controls",
          "model_name": "DescriptionStyleModel",
          "model_module_version": "1.5.0",
          "state": {
            "_view_name": "StyleView",
            "_model_name": "DescriptionStyleModel",
            "description_width": "",
            "_view_module": "@jupyter-widgets/base",
            "_model_module_version": "1.5.0",
            "_view_count": null,
            "_view_module_version": "1.2.0",
            "_model_module": "@jupyter-widgets/controls"
          }
        },
        "59f1ebaa784642a7a5e369437b40946a": {
          "model_module": "@jupyter-widgets/base",
          "model_name": "LayoutModel",
          "model_module_version": "1.2.0",
          "state": {
            "_view_name": "LayoutView",
            "grid_template_rows": null,
            "right": null,
            "justify_content": null,
            "_view_module": "@jupyter-widgets/base",
            "overflow": null,
            "_model_module_version": "1.2.0",
            "_view_count": null,
            "flex_flow": null,
            "width": null,
            "min_width": null,
            "border": null,
            "align_items": null,
            "bottom": null,
            "_model_module": "@jupyter-widgets/base",
            "top": null,
            "grid_column": null,
            "overflow_y": null,
            "overflow_x": null,
            "grid_auto_flow": null,
            "grid_area": null,
            "grid_template_columns": null,
            "flex": null,
            "_model_name": "LayoutModel",
            "justify_items": null,
            "grid_row": null,
            "max_height": null,
            "align_content": null,
            "visibility": null,
            "align_self": null,
            "height": null,
            "min_height": null,
            "padding": null,
            "grid_auto_rows": null,
            "grid_gap": null,
            "max_width": null,
            "order": null,
            "_view_module_version": "1.2.0",
            "grid_template_areas": null,
            "object_position": null,
            "object_fit": null,
            "grid_auto_columns": null,
            "margin": null,
            "display": null,
            "left": null
          }
        }
      }
    }
  },
  "cells": [
    {
      "cell_type": "markdown",
      "metadata": {
        "id": "krfw4kITuvKq"
      },
      "source": [
        "# Pre-Work"
      ]
    },
    {
      "cell_type": "markdown",
      "metadata": {
        "id": "-XFoU36FuxxS"
      },
      "source": [
        "## Mount Google Drive and Change Directory"
      ]
    },
    {
      "cell_type": "code",
      "metadata": {
        "colab": {
          "base_uri": "https://localhost:8080/"
        },
        "id": "WUj4gT1Qujus",
        "outputId": "f6e96958-d97a-4c5c-d2f6-26481669cd49"
      },
      "source": [
        "from google.colab import drive\n",
        "drive.mount('/content/gdrive')"
      ],
      "execution_count": null,
      "outputs": [
        {
          "output_type": "stream",
          "name": "stdout",
          "text": [
            "Mounted at /content/gdrive\n"
          ]
        }
      ]
    },
    {
      "cell_type": "code",
      "metadata": {
        "colab": {
          "base_uri": "https://localhost:8080/"
        },
        "id": "aSu5tU08urbT",
        "outputId": "3a07a5b6-0db9-4e86-8ebd-85c7a4c5bd33"
      },
      "source": [
        "%cd gdrive/MyDrive/Machine_Learning/Code/"
      ],
      "execution_count": null,
      "outputs": [
        {
          "output_type": "stream",
          "name": "stdout",
          "text": [
            "/content/gdrive/MyDrive/Machine_Learning/Code\n"
          ]
        }
      ]
    },
    {
      "cell_type": "markdown",
      "metadata": {
        "id": "5I9jL82RvFXs"
      },
      "source": [
        "## Install Modules\n"
      ]
    },
    {
      "cell_type": "code",
      "metadata": {
        "colab": {
          "base_uri": "https://localhost:8080/"
        },
        "id": "C340c_4rZaO_",
        "outputId": "e92d51b4-ac7f-4bc7-cb02-236500032eb8"
      },
      "source": [
        "!pip install torch"
      ],
      "execution_count": null,
      "outputs": [
        {
          "output_type": "stream",
          "name": "stdout",
          "text": [
            "Requirement already satisfied: torch in /usr/local/lib/python3.7/dist-packages (1.9.0+cu102)\n",
            "Requirement already satisfied: typing-extensions in /usr/local/lib/python3.7/dist-packages (from torch) (3.7.4.3)\n"
          ]
        }
      ]
    },
    {
      "cell_type": "code",
      "metadata": {
        "colab": {
          "base_uri": "https://localhost:8080/"
        },
        "id": "JmDnrRhHkLKX",
        "outputId": "00c5dce4-1d1b-4284-873c-67affbf93977"
      },
      "source": [
        "!pip install pyvi"
      ],
      "execution_count": null,
      "outputs": [
        {
          "output_type": "stream",
          "name": "stdout",
          "text": [
            "Collecting pyvi\n",
            "  Downloading pyvi-0.1.1-py2.py3-none-any.whl (8.5 MB)\n",
            "\u001b[K     |████████████████████████████████| 8.5 MB 4.4 MB/s \n",
            "\u001b[?25hCollecting sklearn-crfsuite\n",
            "  Downloading sklearn_crfsuite-0.3.6-py2.py3-none-any.whl (12 kB)\n",
            "Requirement already satisfied: scikit-learn in /usr/local/lib/python3.7/dist-packages (from pyvi) (0.22.2.post1)\n",
            "Requirement already satisfied: scipy>=0.17.0 in /usr/local/lib/python3.7/dist-packages (from scikit-learn->pyvi) (1.4.1)\n",
            "Requirement already satisfied: joblib>=0.11 in /usr/local/lib/python3.7/dist-packages (from scikit-learn->pyvi) (1.0.1)\n",
            "Requirement already satisfied: numpy>=1.11.0 in /usr/local/lib/python3.7/dist-packages (from scikit-learn->pyvi) (1.19.5)\n",
            "Requirement already satisfied: tqdm>=2.0 in /usr/local/lib/python3.7/dist-packages (from sklearn-crfsuite->pyvi) (4.62.2)\n",
            "Requirement already satisfied: six in /usr/local/lib/python3.7/dist-packages (from sklearn-crfsuite->pyvi) (1.15.0)\n",
            "Requirement already satisfied: tabulate in /usr/local/lib/python3.7/dist-packages (from sklearn-crfsuite->pyvi) (0.8.9)\n",
            "Collecting python-crfsuite>=0.8.3\n",
            "  Downloading python_crfsuite-0.9.7-cp37-cp37m-manylinux1_x86_64.whl (743 kB)\n",
            "\u001b[K     |████████████████████████████████| 743 kB 44.5 MB/s \n",
            "\u001b[?25hInstalling collected packages: python-crfsuite, sklearn-crfsuite, pyvi\n",
            "Successfully installed python-crfsuite-0.9.7 pyvi-0.1.1 sklearn-crfsuite-0.3.6\n"
          ]
        }
      ]
    },
    {
      "cell_type": "code",
      "metadata": {
        "colab": {
          "base_uri": "https://localhost:8080/"
        },
        "id": "y6y8vns6uspa",
        "outputId": "c4455fe5-4760-444a-f736-34763057c8fa"
      },
      "source": [
        "!pip install jsonl_to_conll"
      ],
      "execution_count": null,
      "outputs": [
        {
          "output_type": "stream",
          "name": "stdout",
          "text": [
            "Collecting jsonl_to_conll\n",
            "  Downloading jsonl_to_conll-1.0.2-py3-none-any.whl (7.2 kB)\n",
            "Installing collected packages: jsonl-to-conll\n",
            "Successfully installed jsonl-to-conll-1.0.2\n"
          ]
        }
      ]
    },
    {
      "cell_type": "code",
      "metadata": {
        "colab": {
          "base_uri": "https://localhost:8080/"
        },
        "id": "APng1gw6vK_S",
        "outputId": "242947a4-8a6c-4b33-a221-9ac6a311a312"
      },
      "source": [
        "! pip install datasets transformers seqeval"
      ],
      "execution_count": null,
      "outputs": [
        {
          "output_type": "stream",
          "name": "stdout",
          "text": [
            "Collecting datasets\n",
            "  Downloading datasets-1.12.1-py3-none-any.whl (270 kB)\n",
            "\u001b[K     |████████████████████████████████| 270 kB 5.3 MB/s \n",
            "\u001b[?25hCollecting transformers\n",
            "  Downloading transformers-4.10.2-py3-none-any.whl (2.8 MB)\n",
            "\u001b[K     |████████████████████████████████| 2.8 MB 33.2 MB/s \n",
            "\u001b[?25hCollecting seqeval\n",
            "  Downloading seqeval-1.2.2.tar.gz (43 kB)\n",
            "\u001b[K     |████████████████████████████████| 43 kB 1.9 MB/s \n",
            "\u001b[?25hRequirement already satisfied: pandas in /usr/local/lib/python3.7/dist-packages (from datasets) (1.1.5)\n",
            "Collecting aiohttp\n",
            "  Downloading aiohttp-3.7.4.post0-cp37-cp37m-manylinux2014_x86_64.whl (1.3 MB)\n",
            "\u001b[K     |████████████████████████████████| 1.3 MB 43.7 MB/s \n",
            "\u001b[?25hCollecting huggingface-hub<0.1.0,>=0.0.14\n",
            "  Downloading huggingface_hub-0.0.17-py3-none-any.whl (52 kB)\n",
            "\u001b[K     |████████████████████████████████| 52 kB 1.5 MB/s \n",
            "\u001b[?25hCollecting xxhash\n",
            "  Downloading xxhash-2.0.2-cp37-cp37m-manylinux2010_x86_64.whl (243 kB)\n",
            "\u001b[K     |████████████████████████████████| 243 kB 42.0 MB/s \n",
            "\u001b[?25hRequirement already satisfied: pyarrow!=4.0.0,>=1.0.0 in /usr/local/lib/python3.7/dist-packages (from datasets) (3.0.0)\n",
            "Requirement already satisfied: dill in /usr/local/lib/python3.7/dist-packages (from datasets) (0.3.4)\n",
            "Requirement already satisfied: packaging in /usr/local/lib/python3.7/dist-packages (from datasets) (21.0)\n",
            "Collecting fsspec[http]>=2021.05.0\n",
            "  Downloading fsspec-2021.8.1-py3-none-any.whl (119 kB)\n",
            "\u001b[K     |████████████████████████████████| 119 kB 42.9 MB/s \n",
            "\u001b[?25hRequirement already satisfied: multiprocess in /usr/local/lib/python3.7/dist-packages (from datasets) (0.70.12.2)\n",
            "Requirement already satisfied: tqdm>=4.62.1 in /usr/local/lib/python3.7/dist-packages (from datasets) (4.62.2)\n",
            "Requirement already satisfied: requests>=2.19.0 in /usr/local/lib/python3.7/dist-packages (from datasets) (2.23.0)\n",
            "Requirement already satisfied: numpy>=1.17 in /usr/local/lib/python3.7/dist-packages (from datasets) (1.19.5)\n",
            "Requirement already satisfied: importlib-metadata in /usr/local/lib/python3.7/dist-packages (from datasets) (4.8.1)\n",
            "Requirement already satisfied: filelock in /usr/local/lib/python3.7/dist-packages (from huggingface-hub<0.1.0,>=0.0.14->datasets) (3.0.12)\n",
            "Requirement already satisfied: typing-extensions in /usr/local/lib/python3.7/dist-packages (from huggingface-hub<0.1.0,>=0.0.14->datasets) (3.7.4.3)\n",
            "Requirement already satisfied: pyparsing>=2.0.2 in /usr/local/lib/python3.7/dist-packages (from packaging->datasets) (2.4.7)\n",
            "Requirement already satisfied: chardet<4,>=3.0.2 in /usr/local/lib/python3.7/dist-packages (from requests>=2.19.0->datasets) (3.0.4)\n",
            "Requirement already satisfied: idna<3,>=2.5 in /usr/local/lib/python3.7/dist-packages (from requests>=2.19.0->datasets) (2.10)\n",
            "Requirement already satisfied: certifi>=2017.4.17 in /usr/local/lib/python3.7/dist-packages (from requests>=2.19.0->datasets) (2021.5.30)\n",
            "Requirement already satisfied: urllib3!=1.25.0,!=1.25.1,<1.26,>=1.21.1 in /usr/local/lib/python3.7/dist-packages (from requests>=2.19.0->datasets) (1.24.3)\n",
            "Collecting tokenizers<0.11,>=0.10.1\n",
            "  Downloading tokenizers-0.10.3-cp37-cp37m-manylinux_2_5_x86_64.manylinux1_x86_64.manylinux_2_12_x86_64.manylinux2010_x86_64.whl (3.3 MB)\n",
            "\u001b[K     |████████████████████████████████| 3.3 MB 31.7 MB/s \n",
            "\u001b[?25hRequirement already satisfied: regex!=2019.12.17 in /usr/local/lib/python3.7/dist-packages (from transformers) (2019.12.20)\n",
            "Collecting pyyaml>=5.1\n",
            "  Downloading PyYAML-5.4.1-cp37-cp37m-manylinux1_x86_64.whl (636 kB)\n",
            "\u001b[K     |████████████████████████████████| 636 kB 38.2 MB/s \n",
            "\u001b[?25hCollecting sacremoses\n",
            "  Downloading sacremoses-0.0.45-py3-none-any.whl (895 kB)\n",
            "\u001b[K     |████████████████████████████████| 895 kB 53.5 MB/s \n",
            "\u001b[?25hRequirement already satisfied: scikit-learn>=0.21.3 in /usr/local/lib/python3.7/dist-packages (from seqeval) (0.22.2.post1)\n",
            "Requirement already satisfied: joblib>=0.11 in /usr/local/lib/python3.7/dist-packages (from scikit-learn>=0.21.3->seqeval) (1.0.1)\n",
            "Requirement already satisfied: scipy>=0.17.0 in /usr/local/lib/python3.7/dist-packages (from scikit-learn>=0.21.3->seqeval) (1.4.1)\n",
            "Collecting async-timeout<4.0,>=3.0\n",
            "  Downloading async_timeout-3.0.1-py3-none-any.whl (8.2 kB)\n",
            "Requirement already satisfied: attrs>=17.3.0 in /usr/local/lib/python3.7/dist-packages (from aiohttp->datasets) (21.2.0)\n",
            "Collecting yarl<2.0,>=1.0\n",
            "  Downloading yarl-1.6.3-cp37-cp37m-manylinux2014_x86_64.whl (294 kB)\n",
            "\u001b[K     |████████████████████████████████| 294 kB 46.1 MB/s \n",
            "\u001b[?25hCollecting multidict<7.0,>=4.5\n",
            "  Downloading multidict-5.1.0-cp37-cp37m-manylinux2014_x86_64.whl (142 kB)\n",
            "\u001b[K     |████████████████████████████████| 142 kB 42.3 MB/s \n",
            "\u001b[?25hRequirement already satisfied: zipp>=0.5 in /usr/local/lib/python3.7/dist-packages (from importlib-metadata->datasets) (3.5.0)\n",
            "Requirement already satisfied: python-dateutil>=2.7.3 in /usr/local/lib/python3.7/dist-packages (from pandas->datasets) (2.8.2)\n",
            "Requirement already satisfied: pytz>=2017.2 in /usr/local/lib/python3.7/dist-packages (from pandas->datasets) (2018.9)\n",
            "Requirement already satisfied: six>=1.5 in /usr/local/lib/python3.7/dist-packages (from python-dateutil>=2.7.3->pandas->datasets) (1.15.0)\n",
            "Requirement already satisfied: click in /usr/local/lib/python3.7/dist-packages (from sacremoses->transformers) (7.1.2)\n",
            "Building wheels for collected packages: seqeval\n",
            "  Building wheel for seqeval (setup.py) ... \u001b[?25l\u001b[?25hdone\n",
            "  Created wheel for seqeval: filename=seqeval-1.2.2-py3-none-any.whl size=16181 sha256=a39d734a729c61a08ca56a3b5e6aa10630e361280d52885254af10e99d54ea8c\n",
            "  Stored in directory: /root/.cache/pip/wheels/05/96/ee/7cac4e74f3b19e3158dce26a20a1c86b3533c43ec72a549fd7\n",
            "Successfully built seqeval\n",
            "Installing collected packages: multidict, yarl, async-timeout, fsspec, aiohttp, xxhash, tokenizers, sacremoses, pyyaml, huggingface-hub, transformers, seqeval, datasets\n",
            "  Attempting uninstall: pyyaml\n",
            "    Found existing installation: PyYAML 3.13\n",
            "    Uninstalling PyYAML-3.13:\n",
            "      Successfully uninstalled PyYAML-3.13\n",
            "Successfully installed aiohttp-3.7.4.post0 async-timeout-3.0.1 datasets-1.12.1 fsspec-2021.8.1 huggingface-hub-0.0.17 multidict-5.1.0 pyyaml-5.4.1 sacremoses-0.0.45 seqeval-1.2.2 tokenizers-0.10.3 transformers-4.10.2 xxhash-2.0.2 yarl-1.6.3\n"
          ]
        }
      ]
    },
    {
      "cell_type": "markdown",
      "metadata": {
        "id": "Y2YTtvcobCuo"
      },
      "source": [
        "## Pip Show Modules"
      ]
    },
    {
      "cell_type": "code",
      "metadata": {
        "colab": {
          "base_uri": "https://localhost:8080/"
        },
        "id": "gqSyDEVXbG_3",
        "outputId": "7ebffe80-70ce-4f4d-f7b4-302eb2d27cd8"
      },
      "source": [
        "pip show transformers"
      ],
      "execution_count": null,
      "outputs": [
        {
          "output_type": "stream",
          "name": "stdout",
          "text": [
            "Name: transformers\n",
            "Version: 4.10.2\n",
            "Summary: State-of-the-art Natural Language Processing for TensorFlow 2.0 and PyTorch\n",
            "Home-page: https://github.com/huggingface/transformers\n",
            "Author: Thomas Wolf, Lysandre Debut, Victor Sanh, Julien Chaumond, Sam Shleifer, Patrick von Platen, Sylvain Gugger, Suraj Patil, Stas Bekman, Google AI Language Team Authors, Open AI team Authors, Facebook AI Authors, Carnegie Mellon University Authors\n",
            "Author-email: thomas@huggingface.co\n",
            "License: Apache\n",
            "Location: /usr/local/lib/python3.7/dist-packages\n",
            "Requires: packaging, sacremoses, importlib-metadata, numpy, requests, tqdm, tokenizers, filelock, regex, pyyaml, huggingface-hub\n",
            "Required-by: \n"
          ]
        }
      ]
    },
    {
      "cell_type": "code",
      "metadata": {
        "colab": {
          "base_uri": "https://localhost:8080/"
        },
        "id": "jX1VYmAubY3w",
        "outputId": "bd968566-c152-4610-ff75-1b24ff2ae01e"
      },
      "source": [
        "pip show seqeval"
      ],
      "execution_count": null,
      "outputs": [
        {
          "output_type": "stream",
          "name": "stdout",
          "text": [
            "Name: seqeval\n",
            "Version: 1.2.2\n",
            "Summary: Testing framework for sequence labeling\n",
            "Home-page: https://github.com/chakki-works/seqeval\n",
            "Author: Hironsan\n",
            "Author-email: hiroki.nakayama.py@gmail.com\n",
            "License: MIT\n",
            "Location: /usr/local/lib/python3.7/dist-packages\n",
            "Requires: scikit-learn, numpy\n",
            "Required-by: \n"
          ]
        }
      ]
    },
    {
      "cell_type": "markdown",
      "metadata": {
        "id": "pzvsTGw5vPmN"
      },
      "source": [
        "## Import Module"
      ]
    },
    {
      "cell_type": "code",
      "metadata": {
        "colab": {
          "base_uri": "https://localhost:8080/"
        },
        "id": "_ux33DWivOyV",
        "outputId": "3684870d-e294-436d-ffd6-8aa127fca9e5"
      },
      "source": [
        "import transformers\n",
        "print(transformers.__version__)"
      ],
      "execution_count": null,
      "outputs": [
        {
          "output_type": "stream",
          "name": "stdout",
          "text": [
            "4.10.2\n"
          ]
        }
      ]
    },
    {
      "cell_type": "code",
      "metadata": {
        "id": "v6loh8RHzA-L"
      },
      "source": [
        "#@title Importing Machine Learning Library\n",
        "import torch\n",
        "import transformers\n",
        "import tensorflow as tf\n",
        "from transformers import AutoTokenizer\n",
        "from transformers import tokenization_utils_base as tub\n",
        "from transformers import AutoModelForTokenClassification, TrainingArguments, Trainer\n",
        "from transformers import DataCollatorForTokenClassification\n",
        "from sklearn.model_selection import train_test_split"
      ],
      "execution_count": null,
      "outputs": []
    },
    {
      "cell_type": "code",
      "metadata": {
        "id": "ClqyhBBnzBAq"
      },
      "source": [
        "#@title Importing tqdm\n",
        "from tqdm import tqdm, trange"
      ],
      "execution_count": null,
      "outputs": []
    },
    {
      "cell_type": "code",
      "metadata": {
        "id": "6Zhm9T1Lktew"
      },
      "source": [
        "#@title Importing Vietnamese Tokenizer\n",
        "from pyvi import ViTokenizer"
      ],
      "execution_count": null,
      "outputs": []
    },
    {
      "cell_type": "code",
      "metadata": {
        "id": "cNlOq1AnzBC7"
      },
      "source": [
        "#@title import json_to_conll\n",
        "from jsonl_to_conll import convert"
      ],
      "execution_count": null,
      "outputs": []
    },
    {
      "cell_type": "code",
      "metadata": {
        "id": "bCHLjiCUzBHr"
      },
      "source": [
        "#@title import pytorch dataset\n",
        "from datasets import load_dataset, load_metric\n",
        "from datasets import Dataset\n",
        "import datasets"
      ],
      "execution_count": null,
      "outputs": []
    },
    {
      "cell_type": "code",
      "metadata": {
        "id": "eWOZ8nvVzBJ7"
      },
      "source": [
        "#@title Importing common Python libraries\n",
        "import pandas as pd\n",
        "import io\n",
        "import ast\n",
        "import os\n",
        "import json\n",
        "import numpy as np\n",
        "#from pyvi import ViTokenizer\n",
        "import matplotlib.pyplot as plt\n",
        "from collections import OrderedDict"
      ],
      "execution_count": null,
      "outputs": []
    },
    {
      "cell_type": "markdown",
      "metadata": {
        "id": "ipdoyhRt-AUb"
      },
      "source": [
        "# Preprocess the data"
      ]
    },
    {
      "cell_type": "markdown",
      "metadata": {
        "id": "l7IQ2IJz-DTA"
      },
      "source": [
        "## Read labeled data 1 as dataframe"
      ]
    },
    {
      "cell_type": "markdown",
      "metadata": {
        "id": "OKFqsNAHfjwn"
      },
      "source": [
        "We read the first labeled data"
      ]
    },
    {
      "cell_type": "code",
      "metadata": {
        "id": "Wm8v_Gjz-F-v"
      },
      "source": [
        "with open('/content/gdrive/My Drive/Machine_Learning/Code/Data/BERT_CTEL/Labeled_CTEL_Data1.jsonl') as f:\n",
        "    lines = f.read().splitlines()"
      ],
      "execution_count": null,
      "outputs": []
    },
    {
      "cell_type": "code",
      "metadata": {
        "id": "IupvXK2G-GD_"
      },
      "source": [
        "df_CTEL = pd.DataFrame(lines)\n",
        "df_CTEL.columns = ['json_element']"
      ],
      "execution_count": null,
      "outputs": []
    },
    {
      "cell_type": "code",
      "metadata": {
        "colab": {
          "base_uri": "https://localhost:8080/"
        },
        "id": "a3iwNbCv-J5l",
        "outputId": "746fcf2f-f014-4a5c-9277-dfc03c630132"
      },
      "source": [
        "df_CTEL['json_element'].apply(json.loads)"
      ],
      "execution_count": null,
      "outputs": [
        {
          "output_type": "execute_result",
          "data": {
            "text/plain": [
              "0       {'id': 2, 'data': 'Hà Luxury ; 3 tháng 1 , 201...\n",
              "1       {'id': 3, 'data': 'BIDV Thành Đô', 'label': [[...\n",
              "2       {'id': 4, 'data': 'Nikken Sekkei ; Architect &...\n",
              "3       {'id': 5, 'data': 'Obayashi Viet Nam ; Archite...\n",
              "4       {'id': 6, 'data': 'Obayashi Design Partner ; A...\n",
              "                              ...                        \n",
              "1158    {'id': 1698, 'data': 'BAO MINH ; 9 tháng 5 , 2...\n",
              "1159    {'id': 1699, 'data': 'Geniee International Pte...\n",
              "1160    {'id': 1700, 'data': 'TPBank ; 2 tháng 10 , 20...\n",
              "1161    {'id': 1701, 'data': 'FIS ; 13 tháng 10 , 2014...\n",
              "1162    {'id': 12218, 'data': 'Lend Lease Tyco Joint V...\n",
              "Name: json_element, Length: 1163, dtype: object"
            ]
          },
          "metadata": {},
          "execution_count": 117
        }
      ]
    },
    {
      "cell_type": "code",
      "metadata": {
        "id": "Vw20cxwe-J71"
      },
      "source": [
        "df_CTEL_final1 = pd.json_normalize(df_CTEL['json_element'].apply(json.loads))"
      ],
      "execution_count": null,
      "outputs": []
    },
    {
      "cell_type": "code",
      "metadata": {
        "id": "BiQK9yIY0O-O"
      },
      "source": [
        "for i in range(len(df_CTEL_final1['label'].tolist())):\n",
        "  for num in range(len(df_CTEL_final1['label'][i])):\n",
        "    if df_CTEL_final1['label'][i][num][2] == 'company':\n",
        "      df_CTEL_final1['label'][i][num][2] = df_CTEL_final1['label'][i][num][2].replace('company', 'COM')\n",
        "    if df_CTEL_final1['label'][i][num][2] == 'COMPANY':\n",
        "      df_CTEL_final1['label'][i][num][2] = df_CTEL_final1['label'][i][num][2].replace('COMPANY', 'COM')\n",
        "    if df_CTEL_final1['label'][i][num][2] == 'job':\n",
        "      df_CTEL_final1['label'][i][num][2] = df_CTEL_final1['label'][i][num][2].replace('job', 'JOB')"
      ],
      "execution_count": null,
      "outputs": []
    },
    {
      "cell_type": "code",
      "metadata": {
        "colab": {
          "base_uri": "https://localhost:8080/",
          "height": 205
        },
        "id": "Cn9tFZpZ2bpK",
        "outputId": "4894131e-852d-44f8-9a94-e3b4d2a7afd8"
      },
      "source": [
        "df_CTEL_final1.head(5)"
      ],
      "execution_count": null,
      "outputs": [
        {
          "output_type": "execute_result",
          "data": {
            "text/html": [
              "<div>\n",
              "<style scoped>\n",
              "    .dataframe tbody tr th:only-of-type {\n",
              "        vertical-align: middle;\n",
              "    }\n",
              "\n",
              "    .dataframe tbody tr th {\n",
              "        vertical-align: top;\n",
              "    }\n",
              "\n",
              "    .dataframe thead th {\n",
              "        text-align: right;\n",
              "    }\n",
              "</style>\n",
              "<table border=\"1\" class=\"dataframe\">\n",
              "  <thead>\n",
              "    <tr style=\"text-align: right;\">\n",
              "      <th></th>\n",
              "      <th>id</th>\n",
              "      <th>data</th>\n",
              "      <th>label</th>\n",
              "    </tr>\n",
              "  </thead>\n",
              "  <tbody>\n",
              "    <tr>\n",
              "      <th>0</th>\n",
              "      <td>2</td>\n",
              "      <td>Hà Luxury ; 3 tháng 1 , 2019 - Hiện tại</td>\n",
              "      <td>[[0, 9, COM]]</td>\n",
              "    </tr>\n",
              "    <tr>\n",
              "      <th>1</th>\n",
              "      <td>3</td>\n",
              "      <td>BIDV Thành Đô</td>\n",
              "      <td>[[0, 15, COM]]</td>\n",
              "    </tr>\n",
              "    <tr>\n",
              "      <th>2</th>\n",
              "      <td>4</td>\n",
              "      <td>Nikken Sekkei ; Architect &amp; Urban Design - Kiế...</td>\n",
              "      <td>[[16, 25, JOB], [28, 40, JOB], [43, 52, JOB], ...</td>\n",
              "    </tr>\n",
              "    <tr>\n",
              "      <th>3</th>\n",
              "      <td>5</td>\n",
              "      <td>Obayashi Viet Nam ; Architect ; Thành phố Hồ C...</td>\n",
              "      <td>[[0, 17, COM], [20, 29, JOB]]</td>\n",
              "    </tr>\n",
              "    <tr>\n",
              "      <th>4</th>\n",
              "      <td>6</td>\n",
              "      <td>Obayashi Design Partner ; Architect ; Shinagaw...</td>\n",
              "      <td>[[0, 23, COM], [26, 35, JOB]]</td>\n",
              "    </tr>\n",
              "  </tbody>\n",
              "</table>\n",
              "</div>"
            ],
            "text/plain": [
              "   id  ...                                              label\n",
              "0   2  ...                                      [[0, 9, COM]]\n",
              "1   3  ...                                     [[0, 15, COM]]\n",
              "2   4  ...  [[16, 25, JOB], [28, 40, JOB], [43, 52, JOB], ...\n",
              "3   5  ...                      [[0, 17, COM], [20, 29, JOB]]\n",
              "4   6  ...                      [[0, 23, COM], [26, 35, JOB]]\n",
              "\n",
              "[5 rows x 3 columns]"
            ]
          },
          "metadata": {},
          "execution_count": 120
        }
      ]
    },
    {
      "cell_type": "code",
      "metadata": {
        "colab": {
          "base_uri": "https://localhost:8080/"
        },
        "id": "SUFVQUlRXUvp",
        "outputId": "0ecb4450-49ed-4ef7-e2ab-737d4bc8c38a"
      },
      "source": [
        "df_CTEL_final1.shape"
      ],
      "execution_count": null,
      "outputs": [
        {
          "output_type": "execute_result",
          "data": {
            "text/plain": [
              "(1163, 3)"
            ]
          },
          "metadata": {},
          "execution_count": 121
        }
      ]
    },
    {
      "cell_type": "markdown",
      "metadata": {
        "id": "APRBN6opxhdW"
      },
      "source": [
        "## Read labeled data 2 as dataframe"
      ]
    },
    {
      "cell_type": "markdown",
      "metadata": {
        "id": "t6V9j7KQgaIn"
      },
      "source": [
        "We read the second labeled data"
      ]
    },
    {
      "cell_type": "code",
      "metadata": {
        "id": "A5sogXb3xg2a"
      },
      "source": [
        "with open('/content/gdrive/My Drive/Machine_Learning/Code/Data/BERT_CTEL/Labeled_CTEL_Data2.jsonl') as f:\n",
        "    lines = f.read().splitlines()"
      ],
      "execution_count": null,
      "outputs": []
    },
    {
      "cell_type": "code",
      "metadata": {
        "id": "ao1WrYbLx280"
      },
      "source": [
        "df_CTEL2 = pd.DataFrame(lines)\n",
        "df_CTEL2.columns = ['json_element']"
      ],
      "execution_count": null,
      "outputs": []
    },
    {
      "cell_type": "code",
      "metadata": {
        "colab": {
          "base_uri": "https://localhost:8080/"
        },
        "id": "S69LoZRkx3Cm",
        "outputId": "fd728c31-4ca4-4960-9ac8-85875935e061"
      },
      "source": [
        "df_CTEL2['json_element'].apply(json.loads)"
      ],
      "execution_count": null,
      "outputs": [
        {
          "output_type": "execute_result",
          "data": {
            "text/plain": [
              "0       {'id': 56815, 'data': 'Ho chi minh city ; Appl...\n",
              "1       {'id': 56816, 'data': 'Dimark Australia ; Dire...\n",
              "2       {'id': 56817, 'data': 'Dimark Australia Pty Lt...\n",
              "3       {'id': 56819, 'data': 'University of Transport...\n",
              "4       {'id': 56820, 'data': 'Trần Minh Thương Hiệu M...\n",
              "                              ...                        \n",
              "1399    {'id': 58857, 'data': 'PayPal ; Full-Stack Eng...\n",
              "1400    {'id': 58858, 'data': 'Berkeley City College ;...\n",
              "1401    {'id': 58859, 'data': 'UC Berkeley ; Lab Assis...\n",
              "1402    {'id': 58860, 'data': 'APU International Schoo...\n",
              "1403    {'id': 58862, 'data': 'Minh Son HealthCare Co ...\n",
              "Name: json_element, Length: 1404, dtype: object"
            ]
          },
          "metadata": {},
          "execution_count": 124
        }
      ]
    },
    {
      "cell_type": "code",
      "metadata": {
        "colab": {
          "base_uri": "https://localhost:8080/",
          "height": 205
        },
        "id": "J67k5BD4x3Fn",
        "outputId": "55089cb8-5b6b-4b59-ef56-eb98444f2d16"
      },
      "source": [
        "df_CTEL_final2 = pd.json_normalize(df_CTEL2['json_element'].apply(json.loads))\n",
        "df_CTEL_final2.head(5)"
      ],
      "execution_count": null,
      "outputs": [
        {
          "output_type": "execute_result",
          "data": {
            "text/html": [
              "<div>\n",
              "<style scoped>\n",
              "    .dataframe tbody tr th:only-of-type {\n",
              "        vertical-align: middle;\n",
              "    }\n",
              "\n",
              "    .dataframe tbody tr th {\n",
              "        vertical-align: top;\n",
              "    }\n",
              "\n",
              "    .dataframe thead th {\n",
              "        text-align: right;\n",
              "    }\n",
              "</style>\n",
              "<table border=\"1\" class=\"dataframe\">\n",
              "  <thead>\n",
              "    <tr style=\"text-align: right;\">\n",
              "      <th></th>\n",
              "      <th>id</th>\n",
              "      <th>data</th>\n",
              "      <th>label</th>\n",
              "    </tr>\n",
              "  </thead>\n",
              "  <tbody>\n",
              "    <tr>\n",
              "      <th>0</th>\n",
              "      <td>56815</td>\n",
              "      <td>Ho chi minh city ; Applications Developer ; Th...</td>\n",
              "      <td>[[19, 41, JOB]]</td>\n",
              "    </tr>\n",
              "    <tr>\n",
              "      <th>1</th>\n",
              "      <td>56816</td>\n",
              "      <td>Dimark Australia ; Director ; 10 tháng 10 , 20...</td>\n",
              "      <td>[[0, 16, COM], [19, 27, JOB]]</td>\n",
              "    </tr>\n",
              "    <tr>\n",
              "      <th>2</th>\n",
              "      <td>56817</td>\n",
              "      <td>Dimark Australia Pty Ltd ; Director ; Sydney</td>\n",
              "      <td>[[0, 24, COM], [27, 35, JOB]]</td>\n",
              "    </tr>\n",
              "    <tr>\n",
              "      <th>3</th>\n",
              "      <td>56819</td>\n",
              "      <td>University of Transport and Communications ; D...</td>\n",
              "      <td>[[45, 60, JOB]]</td>\n",
              "    </tr>\n",
              "    <tr>\n",
              "      <th>4</th>\n",
              "      <td>56820</td>\n",
              "      <td>Trần Minh Thương Hiệu Môi Giới BĐS Số 1 ; Nhà ...</td>\n",
              "      <td>[[42, 54, JOB]]</td>\n",
              "    </tr>\n",
              "  </tbody>\n",
              "</table>\n",
              "</div>"
            ],
            "text/plain": [
              "      id  ...                          label\n",
              "0  56815  ...                [[19, 41, JOB]]\n",
              "1  56816  ...  [[0, 16, COM], [19, 27, JOB]]\n",
              "2  56817  ...  [[0, 24, COM], [27, 35, JOB]]\n",
              "3  56819  ...                [[45, 60, JOB]]\n",
              "4  56820  ...                [[42, 54, JOB]]\n",
              "\n",
              "[5 rows x 3 columns]"
            ]
          },
          "metadata": {},
          "execution_count": 125
        }
      ]
    },
    {
      "cell_type": "code",
      "metadata": {
        "colab": {
          "base_uri": "https://localhost:8080/"
        },
        "id": "CZoFkOczx3IW",
        "outputId": "ec1f3ffc-0955-405b-d4b0-e09be4c06534"
      },
      "source": [
        "df_CTEL_final2.shape"
      ],
      "execution_count": null,
      "outputs": [
        {
          "output_type": "execute_result",
          "data": {
            "text/plain": [
              "(1404, 3)"
            ]
          },
          "metadata": {},
          "execution_count": 126
        }
      ]
    },
    {
      "cell_type": "markdown",
      "metadata": {
        "id": "_vlP-0h62pyp"
      },
      "source": [
        "## Read labeled CTEL 2000 only-company data as dataframe"
      ]
    },
    {
      "cell_type": "markdown",
      "metadata": {
        "id": "wvkl7X5ngheP"
      },
      "source": [
        "We read the 2000 only-company data"
      ]
    },
    {
      "cell_type": "code",
      "metadata": {
        "id": "2drURvFr2pLB"
      },
      "source": [
        "df_CTEL_comp = pd.read_csv('/content/gdrive/My Drive/Machine_Learning/Code/Data/BERT_CTEL/Labeled_CTEL_2000_OnlyCompany.csv')"
      ],
      "execution_count": null,
      "outputs": []
    },
    {
      "cell_type": "code",
      "metadata": {
        "colab": {
          "base_uri": "https://localhost:8080/",
          "height": 518
        },
        "id": "7GLCa2xm5Geq",
        "outputId": "a8610eb8-a291-4bfb-8272-d73f761d2665"
      },
      "source": [
        "df_CTEL_comp.head(15)"
      ],
      "execution_count": null,
      "outputs": [
        {
          "output_type": "execute_result",
          "data": {
            "text/html": [
              "<div>\n",
              "<style scoped>\n",
              "    .dataframe tbody tr th:only-of-type {\n",
              "        vertical-align: middle;\n",
              "    }\n",
              "\n",
              "    .dataframe tbody tr th {\n",
              "        vertical-align: top;\n",
              "    }\n",
              "\n",
              "    .dataframe thead th {\n",
              "        text-align: right;\n",
              "    }\n",
              "</style>\n",
              "<table border=\"1\" class=\"dataframe\">\n",
              "  <thead>\n",
              "    <tr style=\"text-align: right;\">\n",
              "      <th></th>\n",
              "      <th>Unnamed: 0</th>\n",
              "      <th>Sentence #</th>\n",
              "      <th>Word</th>\n",
              "      <th>Tag</th>\n",
              "    </tr>\n",
              "  </thead>\n",
              "  <tbody>\n",
              "    <tr>\n",
              "      <th>0</th>\n",
              "      <td>0</td>\n",
              "      <td>Sentence: 1</td>\n",
              "      <td>CÔNG</td>\n",
              "      <td>B-COM</td>\n",
              "    </tr>\n",
              "    <tr>\n",
              "      <th>1</th>\n",
              "      <td>1</td>\n",
              "      <td>Sentence: 1</td>\n",
              "      <td>TY</td>\n",
              "      <td>I-COM</td>\n",
              "    </tr>\n",
              "    <tr>\n",
              "      <th>2</th>\n",
              "      <td>2</td>\n",
              "      <td>Sentence: 1</td>\n",
              "      <td>TNHH</td>\n",
              "      <td>I-COM</td>\n",
              "    </tr>\n",
              "    <tr>\n",
              "      <th>3</th>\n",
              "      <td>3</td>\n",
              "      <td>Sentence: 1</td>\n",
              "      <td>TỔNG</td>\n",
              "      <td>I-COM</td>\n",
              "    </tr>\n",
              "    <tr>\n",
              "      <th>4</th>\n",
              "      <td>4</td>\n",
              "      <td>Sentence: 1</td>\n",
              "      <td>HỢP</td>\n",
              "      <td>I-COM</td>\n",
              "    </tr>\n",
              "    <tr>\n",
              "      <th>5</th>\n",
              "      <td>5</td>\n",
              "      <td>Sentence: 1</td>\n",
              "      <td>N</td>\n",
              "      <td>I-COM</td>\n",
              "    </tr>\n",
              "    <tr>\n",
              "      <th>6</th>\n",
              "      <td>6</td>\n",
              "      <td>Sentence: 1</td>\n",
              "      <td>K</td>\n",
              "      <td>I-COM</td>\n",
              "    </tr>\n",
              "    <tr>\n",
              "      <th>7</th>\n",
              "      <td>7</td>\n",
              "      <td>Sentence: 1</td>\n",
              "      <td>T</td>\n",
              "      <td>I-COM</td>\n",
              "    </tr>\n",
              "    <tr>\n",
              "      <th>8</th>\n",
              "      <td>8</td>\n",
              "      <td>Sentence: 2</td>\n",
              "      <td>B&amp;K</td>\n",
              "      <td>B-COM</td>\n",
              "    </tr>\n",
              "    <tr>\n",
              "      <th>9</th>\n",
              "      <td>9</td>\n",
              "      <td>Sentence: 2</td>\n",
              "      <td>VINA</td>\n",
              "      <td>I-COM</td>\n",
              "    </tr>\n",
              "    <tr>\n",
              "      <th>10</th>\n",
              "      <td>10</td>\n",
              "      <td>Sentence: 2</td>\n",
              "      <td>IMPORT</td>\n",
              "      <td>I-COM</td>\n",
              "    </tr>\n",
              "    <tr>\n",
              "      <th>11</th>\n",
              "      <td>11</td>\n",
              "      <td>Sentence: 2</td>\n",
              "      <td>EXPORT</td>\n",
              "      <td>I-COM</td>\n",
              "    </tr>\n",
              "    <tr>\n",
              "      <th>12</th>\n",
              "      <td>12</td>\n",
              "      <td>Sentence: 2</td>\n",
              "      <td>COMPANY</td>\n",
              "      <td>I-COM</td>\n",
              "    </tr>\n",
              "    <tr>\n",
              "      <th>13</th>\n",
              "      <td>13</td>\n",
              "      <td>Sentence: 2</td>\n",
              "      <td>LIMITED</td>\n",
              "      <td>I-COM</td>\n",
              "    </tr>\n",
              "    <tr>\n",
              "      <th>14</th>\n",
              "      <td>14</td>\n",
              "      <td>Sentence: 2</td>\n",
              "      <td>,</td>\n",
              "      <td>O</td>\n",
              "    </tr>\n",
              "  </tbody>\n",
              "</table>\n",
              "</div>"
            ],
            "text/plain": [
              "    Unnamed: 0   Sentence #     Word    Tag\n",
              "0            0  Sentence: 1     CÔNG  B-COM\n",
              "1            1  Sentence: 1       TY  I-COM\n",
              "2            2  Sentence: 1     TNHH  I-COM\n",
              "3            3  Sentence: 1     TỔNG  I-COM\n",
              "4            4  Sentence: 1      HỢP  I-COM\n",
              "5            5  Sentence: 1        N  I-COM\n",
              "6            6  Sentence: 1        K  I-COM\n",
              "7            7  Sentence: 1        T  I-COM\n",
              "8            8  Sentence: 2      B&K  B-COM\n",
              "9            9  Sentence: 2     VINA  I-COM\n",
              "10          10  Sentence: 2   IMPORT  I-COM\n",
              "11          11  Sentence: 2   EXPORT  I-COM\n",
              "12          12  Sentence: 2  COMPANY  I-COM\n",
              "13          13  Sentence: 2  LIMITED  I-COM\n",
              "14          14  Sentence: 2        ,      O"
            ]
          },
          "metadata": {},
          "execution_count": 128
        }
      ]
    },
    {
      "cell_type": "code",
      "metadata": {
        "colab": {
          "base_uri": "https://localhost:8080/"
        },
        "id": "iO3hHUNXfUKI",
        "outputId": "2f13f800-3884-432c-a4de-afef03a89814"
      },
      "source": [
        "df_CTEL_comp.shape"
      ],
      "execution_count": null,
      "outputs": [
        {
          "output_type": "execute_result",
          "data": {
            "text/plain": [
              "(33372, 4)"
            ]
          },
          "metadata": {},
          "execution_count": 129
        }
      ]
    },
    {
      "cell_type": "markdown",
      "metadata": {
        "id": "rAnCKy7E5tTz"
      },
      "source": [
        "## Preporcess 2000 only-company dataframe"
      ]
    },
    {
      "cell_type": "code",
      "metadata": {
        "id": "KYQARhgm5tDc"
      },
      "source": [
        "clone_CTEL_comp = df_CTEL_comp\n",
        "token_list = clone_CTEL_comp.groupby('Sentence #')['Word'].apply(pd.Series.tolist).tolist()\n",
        "nertag_list = clone_CTEL_comp.groupby('Sentence #')['Tag'].apply(pd.Series.tolist).tolist()"
      ],
      "execution_count": null,
      "outputs": []
    },
    {
      "cell_type": "code",
      "metadata": {
        "colab": {
          "base_uri": "https://localhost:8080/"
        },
        "id": "g_XCYNlZ_eFB",
        "outputId": "77044cf8-dda4-4af3-fe0c-08cf3191c3bb"
      },
      "source": [
        "nertag_list[0]"
      ],
      "execution_count": null,
      "outputs": [
        {
          "output_type": "execute_result",
          "data": {
            "text/plain": [
              "['B-COM', 'I-COM', 'I-COM', 'I-COM', 'I-COM', 'I-COM', 'I-COM', 'I-COM']"
            ]
          },
          "metadata": {},
          "execution_count": 131
        }
      ]
    },
    {
      "cell_type": "code",
      "metadata": {
        "colab": {
          "base_uri": "https://localhost:8080/"
        },
        "id": "M3Q9pfOa70gE",
        "outputId": "111cc5f5-07ad-4b59-869f-0181ad2d194c"
      },
      "source": [
        "token_list[0]"
      ],
      "execution_count": null,
      "outputs": [
        {
          "output_type": "execute_result",
          "data": {
            "text/plain": [
              "['CÔNG', 'TY', 'TNHH', 'TỔNG', 'HỢP', 'N', 'K', 'T']"
            ]
          },
          "metadata": {},
          "execution_count": 132
        }
      ]
    },
    {
      "cell_type": "code",
      "metadata": {
        "colab": {
          "base_uri": "https://localhost:8080/",
          "height": 35
        },
        "id": "eASVvUvE98P3",
        "outputId": "fbe254c8-4b19-4eba-b536-8d9d32a94eca"
      },
      "source": [
        "' '.join(map(str, token_list[0]))"
      ],
      "execution_count": null,
      "outputs": [
        {
          "output_type": "execute_result",
          "data": {
            "application/vnd.google.colaboratory.intrinsic+json": {
              "type": "string"
            },
            "text/plain": [
              "'CÔNG TY TNHH TỔNG HỢP N K T'"
            ]
          },
          "metadata": {},
          "execution_count": 133
        }
      ]
    },
    {
      "cell_type": "code",
      "metadata": {
        "id": "fbpUuowx8TyU"
      },
      "source": [
        "company_list = [' '.join(map(str, i)) for i in token_list]"
      ],
      "execution_count": null,
      "outputs": []
    },
    {
      "cell_type": "code",
      "metadata": {
        "colab": {
          "base_uri": "https://localhost:8080/"
        },
        "id": "ivlSus4lfgO_",
        "outputId": "49bb2b9e-09c3-4eb5-e494-2212eadc7645"
      },
      "source": [
        "len(company_list)"
      ],
      "execution_count": null,
      "outputs": [
        {
          "output_type": "execute_result",
          "data": {
            "text/plain": [
              "1998"
            ]
          },
          "metadata": {},
          "execution_count": 135
        }
      ]
    },
    {
      "cell_type": "markdown",
      "metadata": {
        "id": "ebpZiKD-yKJP"
      },
      "source": [
        "## Merge the first and second labeled dataframe\n"
      ]
    },
    {
      "cell_type": "code",
      "metadata": {
        "id": "752nBatrx3K5"
      },
      "source": [
        "df_CTEL_final = pd.concat([df_CTEL_final1, df_CTEL_final2])"
      ],
      "execution_count": null,
      "outputs": []
    },
    {
      "cell_type": "code",
      "metadata": {
        "colab": {
          "base_uri": "https://localhost:8080/"
        },
        "id": "MCTDN6VDycvs",
        "outputId": "b1825e13-9298-4a2b-9cf3-fee72c9ebb0a"
      },
      "source": [
        "df_CTEL_final.iloc[2200]"
      ],
      "execution_count": null,
      "outputs": [
        {
          "output_type": "execute_result",
          "data": {
            "text/plain": [
              "id                                                   58316\n",
              "data     Hanoi - Amsterdam Art Team [ HAT ] ; Vice Pres...\n",
              "label                                      [[37, 51, JOB]]\n",
              "Name: 1037, dtype: object"
            ]
          },
          "metadata": {},
          "execution_count": 137
        }
      ]
    },
    {
      "cell_type": "code",
      "metadata": {
        "colab": {
          "base_uri": "https://localhost:8080/"
        },
        "id": "tUJXG22AyfAr",
        "outputId": "9a51bfbd-297e-43fd-ff61-bb3b51405158"
      },
      "source": [
        "df_CTEL_final.shape"
      ],
      "execution_count": null,
      "outputs": [
        {
          "output_type": "execute_result",
          "data": {
            "text/plain": [
              "(2567, 3)"
            ]
          },
          "metadata": {},
          "execution_count": 138
        }
      ]
    },
    {
      "cell_type": "code",
      "metadata": {
        "colab": {
          "base_uri": "https://localhost:8080/"
        },
        "id": "2CYCFGcsyhXD",
        "outputId": "dc93aa1a-47ed-40e8-d049-acdc404d71f9"
      },
      "source": [
        "type(df_CTEL_final['label'])"
      ],
      "execution_count": null,
      "outputs": [
        {
          "output_type": "execute_result",
          "data": {
            "text/plain": [
              "pandas.core.series.Series"
            ]
          },
          "metadata": {},
          "execution_count": 139
        }
      ]
    },
    {
      "cell_type": "markdown",
      "metadata": {
        "id": "PBAetXcT-Pm1"
      },
      "source": [
        "## Using json_to_conll to generate ner_tags for the first and second labeled dataframe"
      ]
    },
    {
      "cell_type": "code",
      "metadata": {
        "colab": {
          "base_uri": "https://localhost:8080/",
          "height": 205
        },
        "id": "ZdEhIn_j-J9_",
        "outputId": "7b248590-8fc8-4970-b23a-a812a8d4c701"
      },
      "source": [
        "clone_CTEL = df_CTEL_final.drop(columns = ['id']).rename(columns={'data': 'text', 'label': 'labels'})\n",
        "clone_CTEL['text'] = clone_CTEL['text'].str.lower()\n",
        "clone_CTEL.head()"
      ],
      "execution_count": null,
      "outputs": [
        {
          "output_type": "execute_result",
          "data": {
            "text/html": [
              "<div>\n",
              "<style scoped>\n",
              "    .dataframe tbody tr th:only-of-type {\n",
              "        vertical-align: middle;\n",
              "    }\n",
              "\n",
              "    .dataframe tbody tr th {\n",
              "        vertical-align: top;\n",
              "    }\n",
              "\n",
              "    .dataframe thead th {\n",
              "        text-align: right;\n",
              "    }\n",
              "</style>\n",
              "<table border=\"1\" class=\"dataframe\">\n",
              "  <thead>\n",
              "    <tr style=\"text-align: right;\">\n",
              "      <th></th>\n",
              "      <th>text</th>\n",
              "      <th>labels</th>\n",
              "    </tr>\n",
              "  </thead>\n",
              "  <tbody>\n",
              "    <tr>\n",
              "      <th>0</th>\n",
              "      <td>hà luxury ; 3 tháng 1 , 2019 - hiện tại</td>\n",
              "      <td>[[0, 9, COM]]</td>\n",
              "    </tr>\n",
              "    <tr>\n",
              "      <th>1</th>\n",
              "      <td>bidv thành đô</td>\n",
              "      <td>[[0, 15, COM]]</td>\n",
              "    </tr>\n",
              "    <tr>\n",
              "      <th>2</th>\n",
              "      <td>nikken sekkei ; architect &amp; urban design - kiế...</td>\n",
              "      <td>[[16, 25, JOB], [28, 40, JOB], [43, 52, JOB], ...</td>\n",
              "    </tr>\n",
              "    <tr>\n",
              "      <th>3</th>\n",
              "      <td>obayashi viet nam ; architect ; thành phố hồ c...</td>\n",
              "      <td>[[0, 17, COM], [20, 29, JOB]]</td>\n",
              "    </tr>\n",
              "    <tr>\n",
              "      <th>4</th>\n",
              "      <td>obayashi design partner ; architect ; shinagaw...</td>\n",
              "      <td>[[0, 23, COM], [26, 35, JOB]]</td>\n",
              "    </tr>\n",
              "  </tbody>\n",
              "</table>\n",
              "</div>"
            ],
            "text/plain": [
              "                                                text                                             labels\n",
              "0            hà luxury ; 3 tháng 1 , 2019 - hiện tại                                      [[0, 9, COM]]\n",
              "1                                      bidv thành đô                                     [[0, 15, COM]]\n",
              "2  nikken sekkei ; architect & urban design - kiế...  [[16, 25, JOB], [28, 40, JOB], [43, 52, JOB], ...\n",
              "3  obayashi viet nam ; architect ; thành phố hồ c...                      [[0, 17, COM], [20, 29, JOB]]\n",
              "4  obayashi design partner ; architect ; shinagaw...                      [[0, 23, COM], [26, 35, JOB]]"
            ]
          },
          "metadata": {},
          "execution_count": 140
        }
      ]
    },
    {
      "cell_type": "code",
      "metadata": {
        "colab": {
          "base_uri": "https://localhost:8080/"
        },
        "id": "nA9EyCEtgvec",
        "outputId": "c40d668c-bec9-47b7-953d-e254bad5888e"
      },
      "source": [
        "clone_CTEL.shape"
      ],
      "execution_count": null,
      "outputs": [
        {
          "output_type": "execute_result",
          "data": {
            "text/plain": [
              "(2567, 2)"
            ]
          },
          "metadata": {},
          "execution_count": 141
        }
      ]
    },
    {
      "cell_type": "code",
      "metadata": {
        "id": "UF4f8rFmPitW"
      },
      "source": [
        "label_list = ['O', 'B-COM', 'I-COM', 'B-JOB', 'I-JOB']"
      ],
      "execution_count": null,
      "outputs": []
    },
    {
      "cell_type": "code",
      "metadata": {
        "id": "uQ95YQpB-J_9"
      },
      "source": [
        "#@title Convert ner_tags into int\n",
        "dict_label_list = {label_list[i]:i for i in range(len(label_list))}\n",
        "dict_num_to_label = {i:label_list[i] for i in range(len(label_list))}"
      ],
      "execution_count": null,
      "outputs": []
    },
    {
      "cell_type": "code",
      "metadata": {
        "colab": {
          "base_uri": "https://localhost:8080/",
          "height": 205
        },
        "id": "xdfd9bR8-URa",
        "outputId": "2ecf9e7d-9526-450b-acea-680a6013cf84"
      },
      "source": [
        "#@title Change tokens in each sentence into corresponding ner_tags\n",
        "ner_tags = []\n",
        "tokens = []\n",
        "for i in range(clone_CTEL.shape[0]):\n",
        "  arr = convert.flatten(dict(clone_CTEL.iloc[i]))\n",
        "  ner_tags.append([dict_label_list[tup[1]] for tup in arr])\n",
        "  tokens.append([tup[0] for tup in arr])\n",
        "d = {'ner_tags': ner_tags, 'tokens': tokens}\n",
        "bert_CTEL_df = pd.DataFrame(d)\n",
        "bert_CTEL_df.head()"
      ],
      "execution_count": null,
      "outputs": [
        {
          "output_type": "execute_result",
          "data": {
            "text/html": [
              "<div>\n",
              "<style scoped>\n",
              "    .dataframe tbody tr th:only-of-type {\n",
              "        vertical-align: middle;\n",
              "    }\n",
              "\n",
              "    .dataframe tbody tr th {\n",
              "        vertical-align: top;\n",
              "    }\n",
              "\n",
              "    .dataframe thead th {\n",
              "        text-align: right;\n",
              "    }\n",
              "</style>\n",
              "<table border=\"1\" class=\"dataframe\">\n",
              "  <thead>\n",
              "    <tr style=\"text-align: right;\">\n",
              "      <th></th>\n",
              "      <th>ner_tags</th>\n",
              "      <th>tokens</th>\n",
              "    </tr>\n",
              "  </thead>\n",
              "  <tbody>\n",
              "    <tr>\n",
              "      <th>0</th>\n",
              "      <td>[1, 2, 0, 0, 0, 0, 0, 0, 0, 0, 0]</td>\n",
              "      <td>[hà, luxury, ;, 3, tháng, 1, ,, 2019, -, hiện,...</td>\n",
              "    </tr>\n",
              "    <tr>\n",
              "      <th>1</th>\n",
              "      <td>[1, 2, 2]</td>\n",
              "      <td>[bidv, thành, đô]</td>\n",
              "    </tr>\n",
              "    <tr>\n",
              "      <th>2</th>\n",
              "      <td>[1, 2, 0, 3, 0, 3, 4, 0, 3, 4, 0, 3, 4, 4, 4, ...</td>\n",
              "      <td>[nikken, sekkei, ;, architect, &amp;, urban, desig...</td>\n",
              "    </tr>\n",
              "    <tr>\n",
              "      <th>3</th>\n",
              "      <td>[1, 2, 2, 0, 3, 0, 0, 0, 0, 0, 0]</td>\n",
              "      <td>[obayashi, viet, nam, ;, architect, ;, thành, ...</td>\n",
              "    </tr>\n",
              "    <tr>\n",
              "      <th>4</th>\n",
              "      <td>[1, 2, 2, 0, 3, 0, 0, 0, 0, 0, 0]</td>\n",
              "      <td>[obayashi, design, partner, ;, architect, ;, s...</td>\n",
              "    </tr>\n",
              "  </tbody>\n",
              "</table>\n",
              "</div>"
            ],
            "text/plain": [
              "                                            ner_tags                                             tokens\n",
              "0                  [1, 2, 0, 0, 0, 0, 0, 0, 0, 0, 0]  [hà, luxury, ;, 3, tháng, 1, ,, 2019, -, hiện,...\n",
              "1                                          [1, 2, 2]                                  [bidv, thành, đô]\n",
              "2  [1, 2, 0, 3, 0, 3, 4, 0, 3, 4, 0, 3, 4, 4, 4, ...  [nikken, sekkei, ;, architect, &, urban, desig...\n",
              "3                  [1, 2, 2, 0, 3, 0, 0, 0, 0, 0, 0]  [obayashi, viet, nam, ;, architect, ;, thành, ...\n",
              "4                  [1, 2, 2, 0, 3, 0, 0, 0, 0, 0, 0]  [obayashi, design, partner, ;, architect, ;, s..."
            ]
          },
          "metadata": {},
          "execution_count": 144
        }
      ]
    },
    {
      "cell_type": "markdown",
      "metadata": {
        "id": "8QfdXIsGd8Ip"
      },
      "source": [
        "## Generate ner_tags for 2000 only-company dataframe"
      ]
    },
    {
      "cell_type": "code",
      "metadata": {
        "id": "wMnxlwPPd_i5"
      },
      "source": [
        "train_comp_dataframe = pd.DataFrame({'ner_tags': [[dict_label_list[i] for i in j] for j in nertag_list], 'tokens': token_list})"
      ],
      "execution_count": null,
      "outputs": []
    },
    {
      "cell_type": "code",
      "metadata": {
        "colab": {
          "base_uri": "https://localhost:8080/",
          "height": 362
        },
        "id": "VoZDWyLWeDsY",
        "outputId": "cbe577e8-43d0-44e2-98a1-764e42e4df09"
      },
      "source": [
        "train_comp_dataframe.head(10)"
      ],
      "execution_count": null,
      "outputs": [
        {
          "output_type": "execute_result",
          "data": {
            "text/html": [
              "<div>\n",
              "<style scoped>\n",
              "    .dataframe tbody tr th:only-of-type {\n",
              "        vertical-align: middle;\n",
              "    }\n",
              "\n",
              "    .dataframe tbody tr th {\n",
              "        vertical-align: top;\n",
              "    }\n",
              "\n",
              "    .dataframe thead th {\n",
              "        text-align: right;\n",
              "    }\n",
              "</style>\n",
              "<table border=\"1\" class=\"dataframe\">\n",
              "  <thead>\n",
              "    <tr style=\"text-align: right;\">\n",
              "      <th></th>\n",
              "      <th>ner_tags</th>\n",
              "      <th>tokens</th>\n",
              "    </tr>\n",
              "  </thead>\n",
              "  <tbody>\n",
              "    <tr>\n",
              "      <th>0</th>\n",
              "      <td>[1, 2, 2, 2, 2, 2, 2, 2]</td>\n",
              "      <td>[CÔNG, TY, TNHH, TỔNG, HỢP, N, K, T]</td>\n",
              "    </tr>\n",
              "    <tr>\n",
              "      <th>1</th>\n",
              "      <td>[1, 2, 2, 0, 1, 2, 2, 2, 2, 2, 2, 2, 2, 2, 2, ...</td>\n",
              "      <td>[T.B.K, CO.,, LTD, ,, CÔNG, TY, TNHH, THƯƠNG, ...</td>\n",
              "    </tr>\n",
              "    <tr>\n",
              "      <th>2</th>\n",
              "      <td>[1, 2, 2, 2, 2, 2, 2, 2, 2, 2, 2, 2, 2]</td>\n",
              "      <td>[CÔNG, TY, TNHH, DỊCH, VỤ, THƯƠNG, MẠI, DƯỢC, ...</td>\n",
              "    </tr>\n",
              "    <tr>\n",
              "      <th>3</th>\n",
              "      <td>[1, 2, 2, 2, 2, 2, 2, 0, 1, 2, 2, 2, 2, 2, 2, ...</td>\n",
              "      <td>[VAN, GIAO, SOLAR, POWER, PLANT, COMPANY, LIMI...</td>\n",
              "    </tr>\n",
              "    <tr>\n",
              "      <th>4</th>\n",
              "      <td>[1, 2, 0, 1, 2, 0, 1, 2, 2, 2, 2, 2, 2, 2, 2, ...</td>\n",
              "      <td>[VIETNAMFOOD, CO.,LTD, ,, VIETNAMFOOD, CO.,LTD...</td>\n",
              "    </tr>\n",
              "    <tr>\n",
              "      <th>5</th>\n",
              "      <td>[1, 2, 2, 2, 0, 1, 2, 2, 2, 0, 1, 2, 2, 2, 2, ...</td>\n",
              "      <td>[CAO, GIA, MAN, CO.,LTD, ,, CAO, GIA, MAN, CO....</td>\n",
              "    </tr>\n",
              "    <tr>\n",
              "      <th>6</th>\n",
              "      <td>[1, 2, 2, 2, 2, 2, 2, 2, 2, 2, 2, 2, 2, 2, 2, ...</td>\n",
              "      <td>[CÔNG, TY, TRÁCH, NHIỆM, HỮU, HẠN, MỘT, THÀNH,...</td>\n",
              "    </tr>\n",
              "    <tr>\n",
              "      <th>7</th>\n",
              "      <td>[1, 2, 2, 2, 0, 1, 2, 2, 2, 2, 2, 2, 2, 0, 1, ...</td>\n",
              "      <td>[T, DUNG, CO.,, LTD, ,, Tran, Dung, Quality, A...</td>\n",
              "    </tr>\n",
              "    <tr>\n",
              "      <th>8</th>\n",
              "      <td>[1, 2, 2, 2, 2, 2, 2, 0, 1, 2, 2, 2, 2, 2, 2, ...</td>\n",
              "      <td>[ARC, GENTLE, CONSTRUCTION, CONSULTING, SERVIC...</td>\n",
              "    </tr>\n",
              "    <tr>\n",
              "      <th>9</th>\n",
              "      <td>[1, 2, 2, 2, 0, 1, 2, 2, 2, 0, 1, 2, 2, 2, 2, ...</td>\n",
              "      <td>[TRAN, GIA, PHAT, IMEXTRADICO, ,, TRAN, GIA, P...</td>\n",
              "    </tr>\n",
              "  </tbody>\n",
              "</table>\n",
              "</div>"
            ],
            "text/plain": [
              "                                            ner_tags                                             tokens\n",
              "0                           [1, 2, 2, 2, 2, 2, 2, 2]               [CÔNG, TY, TNHH, TỔNG, HỢP, N, K, T]\n",
              "1  [1, 2, 2, 0, 1, 2, 2, 2, 2, 2, 2, 2, 2, 2, 2, ...  [T.B.K, CO.,, LTD, ,, CÔNG, TY, TNHH, THƯƠNG, ...\n",
              "2            [1, 2, 2, 2, 2, 2, 2, 2, 2, 2, 2, 2, 2]  [CÔNG, TY, TNHH, DỊCH, VỤ, THƯƠNG, MẠI, DƯỢC, ...\n",
              "3  [1, 2, 2, 2, 2, 2, 2, 0, 1, 2, 2, 2, 2, 2, 2, ...  [VAN, GIAO, SOLAR, POWER, PLANT, COMPANY, LIMI...\n",
              "4  [1, 2, 0, 1, 2, 0, 1, 2, 2, 2, 2, 2, 2, 2, 2, ...  [VIETNAMFOOD, CO.,LTD, ,, VIETNAMFOOD, CO.,LTD...\n",
              "5  [1, 2, 2, 2, 0, 1, 2, 2, 2, 0, 1, 2, 2, 2, 2, ...  [CAO, GIA, MAN, CO.,LTD, ,, CAO, GIA, MAN, CO....\n",
              "6  [1, 2, 2, 2, 2, 2, 2, 2, 2, 2, 2, 2, 2, 2, 2, ...  [CÔNG, TY, TRÁCH, NHIỆM, HỮU, HẠN, MỘT, THÀNH,...\n",
              "7  [1, 2, 2, 2, 0, 1, 2, 2, 2, 2, 2, 2, 2, 0, 1, ...  [T, DUNG, CO.,, LTD, ,, Tran, Dung, Quality, A...\n",
              "8  [1, 2, 2, 2, 2, 2, 2, 0, 1, 2, 2, 2, 2, 2, 2, ...  [ARC, GENTLE, CONSTRUCTION, CONSULTING, SERVIC...\n",
              "9  [1, 2, 2, 2, 0, 1, 2, 2, 2, 0, 1, 2, 2, 2, 2, ...  [TRAN, GIA, PHAT, IMEXTRADICO, ,, TRAN, GIA, P..."
            ]
          },
          "metadata": {},
          "execution_count": 146
        }
      ]
    },
    {
      "cell_type": "markdown",
      "metadata": {
        "id": "qjccV6S4-XQ4"
      },
      "source": [
        "# Convert data to fit the model's input"
      ]
    },
    {
      "cell_type": "markdown",
      "metadata": {
        "id": "bVSaXELy-YIo"
      },
      "source": [
        "## Generate PyTorch Train, Validation Dataset"
      ]
    },
    {
      "cell_type": "markdown",
      "metadata": {
        "id": "HeP3OdRzg9cE"
      },
      "source": [
        "Here, we would want only full sentence (included job title) on the valid and test dataset. Therefore, we would treat all of the only-company data as training data"
      ]
    },
    {
      "cell_type": "code",
      "metadata": {
        "colab": {
          "base_uri": "https://localhost:8080/"
        },
        "id": "NXSuLKJpiVvY",
        "outputId": "152413c6-61fd-407b-897f-afd68f77ac5a"
      },
      "source": [
        "bert_CTEL_df.shape"
      ],
      "execution_count": null,
      "outputs": [
        {
          "output_type": "execute_result",
          "data": {
            "text/plain": [
              "(2567, 2)"
            ]
          },
          "metadata": {},
          "execution_count": 147
        }
      ]
    },
    {
      "cell_type": "code",
      "metadata": {
        "id": "_Bsukwdp-WtI"
      },
      "source": [
        "train_df, test_df = train_test_split(bert_CTEL_df, test_size=0.2)\n",
        "valid_df, test_df = train_test_split(test_df, test_size=0.5)"
      ],
      "execution_count": null,
      "outputs": []
    },
    {
      "cell_type": "markdown",
      "metadata": {
        "id": "caLJVb0MB0Re"
      },
      "source": [
        "## Export test dataframe"
      ]
    },
    {
      "cell_type": "code",
      "metadata": {
        "id": "JStWeXwiB3oF",
        "colab": {
          "base_uri": "https://localhost:8080/",
          "height": 322
        },
        "outputId": "41a1e5db-294c-4d73-a231-2ce1c0b81836"
      },
      "source": [
        "test_df.to_csv('/content/gdrive/My Drive/Machine_Learning/Code/Data/Dataset_CTEL/Test_CTEL_company.csv')"
      ],
      "execution_count": null,
      "outputs": [
        {
          "output_type": "error",
          "ename": "FileNotFoundError",
          "evalue": "ignored",
          "traceback": [
            "\u001b[0;31m---------------------------------------------------------------------------\u001b[0m",
            "\u001b[0;31mFileNotFoundError\u001b[0m                         Traceback (most recent call last)",
            "\u001b[0;32m<ipython-input-52-943d10000a0f>\u001b[0m in \u001b[0;36m<module>\u001b[0;34m()\u001b[0m\n\u001b[0;32m----> 1\u001b[0;31m \u001b[0mtest_df\u001b[0m\u001b[0;34m.\u001b[0m\u001b[0mto_csv\u001b[0m\u001b[0;34m(\u001b[0m\u001b[0;34m'/content/gdrive/My Drive/Machine_Learning/Code/Data/Dataset_CTEL/Test_CTEL_company.csv'\u001b[0m\u001b[0;34m)\u001b[0m\u001b[0;34m\u001b[0m\u001b[0;34m\u001b[0m\u001b[0m\n\u001b[0m",
            "\u001b[0;32m/usr/local/lib/python3.7/dist-packages/pandas/core/generic.py\u001b[0m in \u001b[0;36mto_csv\u001b[0;34m(self, path_or_buf, sep, na_rep, float_format, columns, header, index, index_label, mode, encoding, compression, quoting, quotechar, line_terminator, chunksize, date_format, doublequote, escapechar, decimal, errors)\u001b[0m\n\u001b[1;32m   3168\u001b[0m             \u001b[0mdecimal\u001b[0m\u001b[0;34m=\u001b[0m\u001b[0mdecimal\u001b[0m\u001b[0;34m,\u001b[0m\u001b[0;34m\u001b[0m\u001b[0;34m\u001b[0m\u001b[0m\n\u001b[1;32m   3169\u001b[0m         )\n\u001b[0;32m-> 3170\u001b[0;31m         \u001b[0mformatter\u001b[0m\u001b[0;34m.\u001b[0m\u001b[0msave\u001b[0m\u001b[0;34m(\u001b[0m\u001b[0;34m)\u001b[0m\u001b[0;34m\u001b[0m\u001b[0;34m\u001b[0m\u001b[0m\n\u001b[0m\u001b[1;32m   3171\u001b[0m \u001b[0;34m\u001b[0m\u001b[0m\n\u001b[1;32m   3172\u001b[0m         \u001b[0;32mif\u001b[0m \u001b[0mpath_or_buf\u001b[0m \u001b[0;32mis\u001b[0m \u001b[0;32mNone\u001b[0m\u001b[0;34m:\u001b[0m\u001b[0;34m\u001b[0m\u001b[0;34m\u001b[0m\u001b[0m\n",
            "\u001b[0;32m/usr/local/lib/python3.7/dist-packages/pandas/io/formats/csvs.py\u001b[0m in \u001b[0;36msave\u001b[0;34m(self)\u001b[0m\n\u001b[1;32m    188\u001b[0m                 \u001b[0mencoding\u001b[0m\u001b[0;34m=\u001b[0m\u001b[0mself\u001b[0m\u001b[0;34m.\u001b[0m\u001b[0mencoding\u001b[0m\u001b[0;34m,\u001b[0m\u001b[0;34m\u001b[0m\u001b[0;34m\u001b[0m\u001b[0m\n\u001b[1;32m    189\u001b[0m                 \u001b[0merrors\u001b[0m\u001b[0;34m=\u001b[0m\u001b[0mself\u001b[0m\u001b[0;34m.\u001b[0m\u001b[0merrors\u001b[0m\u001b[0;34m,\u001b[0m\u001b[0;34m\u001b[0m\u001b[0;34m\u001b[0m\u001b[0m\n\u001b[0;32m--> 190\u001b[0;31m                 \u001b[0mcompression\u001b[0m\u001b[0;34m=\u001b[0m\u001b[0mdict\u001b[0m\u001b[0;34m(\u001b[0m\u001b[0mself\u001b[0m\u001b[0;34m.\u001b[0m\u001b[0mcompression_args\u001b[0m\u001b[0;34m,\u001b[0m \u001b[0mmethod\u001b[0m\u001b[0;34m=\u001b[0m\u001b[0mself\u001b[0m\u001b[0;34m.\u001b[0m\u001b[0mcompression\u001b[0m\u001b[0;34m)\u001b[0m\u001b[0;34m,\u001b[0m\u001b[0;34m\u001b[0m\u001b[0;34m\u001b[0m\u001b[0m\n\u001b[0m\u001b[1;32m    191\u001b[0m             )\n\u001b[1;32m    192\u001b[0m             \u001b[0mclose\u001b[0m \u001b[0;34m=\u001b[0m \u001b[0;32mTrue\u001b[0m\u001b[0;34m\u001b[0m\u001b[0;34m\u001b[0m\u001b[0m\n",
            "\u001b[0;32m/usr/local/lib/python3.7/dist-packages/pandas/io/common.py\u001b[0m in \u001b[0;36mget_handle\u001b[0;34m(path_or_buf, mode, encoding, compression, memory_map, is_text, errors)\u001b[0m\n\u001b[1;32m    491\u001b[0m         \u001b[0;32mif\u001b[0m \u001b[0mencoding\u001b[0m\u001b[0;34m:\u001b[0m\u001b[0;34m\u001b[0m\u001b[0;34m\u001b[0m\u001b[0m\n\u001b[1;32m    492\u001b[0m             \u001b[0;31m# Encoding\u001b[0m\u001b[0;34m\u001b[0m\u001b[0;34m\u001b[0m\u001b[0;34m\u001b[0m\u001b[0m\n\u001b[0;32m--> 493\u001b[0;31m             \u001b[0mf\u001b[0m \u001b[0;34m=\u001b[0m \u001b[0mopen\u001b[0m\u001b[0;34m(\u001b[0m\u001b[0mpath_or_buf\u001b[0m\u001b[0;34m,\u001b[0m \u001b[0mmode\u001b[0m\u001b[0;34m,\u001b[0m \u001b[0mencoding\u001b[0m\u001b[0;34m=\u001b[0m\u001b[0mencoding\u001b[0m\u001b[0;34m,\u001b[0m \u001b[0merrors\u001b[0m\u001b[0;34m=\u001b[0m\u001b[0merrors\u001b[0m\u001b[0;34m,\u001b[0m \u001b[0mnewline\u001b[0m\u001b[0;34m=\u001b[0m\u001b[0;34m\"\"\u001b[0m\u001b[0;34m)\u001b[0m\u001b[0;34m\u001b[0m\u001b[0;34m\u001b[0m\u001b[0m\n\u001b[0m\u001b[1;32m    494\u001b[0m         \u001b[0;32melif\u001b[0m \u001b[0mis_text\u001b[0m\u001b[0;34m:\u001b[0m\u001b[0;34m\u001b[0m\u001b[0;34m\u001b[0m\u001b[0m\n\u001b[1;32m    495\u001b[0m             \u001b[0;31m# No explicit encoding\u001b[0m\u001b[0;34m\u001b[0m\u001b[0;34m\u001b[0m\u001b[0;34m\u001b[0m\u001b[0m\n",
            "\u001b[0;31mFileNotFoundError\u001b[0m: [Errno 2] No such file or directory: '/content/gdrive/My Drive/Machine_Learning/Code/Data/Dataset_CTEL/Test_CTEL_company.csv'"
          ]
        }
      ]
    },
    {
      "cell_type": "markdown",
      "metadata": {
        "id": "Tz2ebk8ojLuJ"
      },
      "source": [
        "## Export train dataframe"
      ]
    },
    {
      "cell_type": "code",
      "metadata": {
        "id": "_fZui9ChjNyb"
      },
      "source": [
        "train_df.to_csv('/content/gdrive/My Drive/Machine_Learning/Code/Data/Dataset_CTEL/train_CTEL_company.csv')"
      ],
      "execution_count": null,
      "outputs": []
    },
    {
      "cell_type": "markdown",
      "metadata": {
        "id": "DZ4b88H8xD-U"
      },
      "source": [
        "## Export valid dataframe"
      ]
    },
    {
      "cell_type": "code",
      "metadata": {
        "id": "muaY4mkFxFzM"
      },
      "source": [
        "valid_df.to_csv('/content/gdrive/My Drive/Machine_Learning/Code/Data/Dataset_CTEL/valid_CTEL_company.csv')"
      ],
      "execution_count": null,
      "outputs": []
    },
    {
      "cell_type": "markdown",
      "metadata": {
        "id": "RbxJDGdYAApl"
      },
      "source": [
        "## Merge train dataframe with 2000 only-company dataframe"
      ]
    },
    {
      "cell_type": "code",
      "metadata": {
        "colab": {
          "base_uri": "https://localhost:8080/"
        },
        "id": "KKY9sWUJes5m",
        "outputId": "58b0f968-2225-4189-9f95-3d9394c5a6f5"
      },
      "source": [
        "train_df.shape"
      ],
      "execution_count": null,
      "outputs": [
        {
          "output_type": "execute_result",
          "data": {
            "text/plain": [
              "(2053, 2)"
            ]
          },
          "metadata": {},
          "execution_count": 149
        }
      ]
    },
    {
      "cell_type": "code",
      "metadata": {
        "id": "gwaT0WdLAEZh"
      },
      "source": [
        "clone_train_df = pd.concat([train_df, train_comp_dataframe])"
      ],
      "execution_count": null,
      "outputs": []
    },
    {
      "cell_type": "code",
      "metadata": {
        "id": "71Iz8lBm-hN2"
      },
      "source": [
        "dataset_train = Dataset.from_pandas(train_df)\n",
        "dataset_valid = Dataset.from_pandas(valid_df)\n",
        "#dataset_test = Dataset.from_pandas(test_df)"
      ],
      "execution_count": null,
      "outputs": []
    },
    {
      "cell_type": "code",
      "metadata": {
        "colab": {
          "base_uri": "https://localhost:8080/"
        },
        "id": "nGJx7XzUMFLq",
        "outputId": "57a646f7-9a58-428f-a199-944469a89ab3"
      },
      "source": [
        "dataset_train"
      ],
      "execution_count": null,
      "outputs": [
        {
          "output_type": "execute_result",
          "data": {
            "text/plain": [
              "Dataset({\n",
              "    features: ['ner_tags', 'tokens', '__index_level_0__'],\n",
              "    num_rows: 2053\n",
              "})"
            ]
          },
          "metadata": {},
          "execution_count": 152
        }
      ]
    },
    {
      "cell_type": "code",
      "metadata": {
        "colab": {
          "base_uri": "https://localhost:8080/"
        },
        "id": "VxwWmPoTfqPj",
        "outputId": "722628ce-03b0-4c83-f80a-111859f74130"
      },
      "source": [
        "dataset_train_comp = Dataset.from_pandas(clone_train_df)\n",
        "dataset_train_comp"
      ],
      "execution_count": null,
      "outputs": [
        {
          "output_type": "execute_result",
          "data": {
            "text/plain": [
              "Dataset({\n",
              "    features: ['ner_tags', 'tokens', '__index_level_0__'],\n",
              "    num_rows: 4051\n",
              "})"
            ]
          },
          "metadata": {},
          "execution_count": 153
        }
      ]
    },
    {
      "cell_type": "code",
      "metadata": {
        "id": "m5WWMzeQoxSB"
      },
      "source": [
        "#dataset_train_comp['tokens']"
      ],
      "execution_count": null,
      "outputs": []
    },
    {
      "cell_type": "code",
      "metadata": {
        "colab": {
          "base_uri": "https://localhost:8080/"
        },
        "id": "IUkvTSSYgI1Y",
        "outputId": "5d19cdcc-a53c-4da6-9040-162ee61c4594"
      },
      "source": [
        "t_arr = dataset_train_comp['tokens']\n",
        "for i in range(len(t_arr)):\n",
        "  n = False\n",
        "  for j in range(len(t_arr[i])):\n",
        "    if t_arr[i][j] == 'None' or t_arr[i][j] == 'NONE' or t_arr[i][j] == None:\n",
        "      n = True\n",
        "  if n == True:\n",
        "    dataset_train_comp['tokens'][i] = dataset_train_comp['tokens'][i].remove(None)\n",
        "    print(i, \" \", dataset_train_comp['tokens'][i], \" \")\n",
        "    print(dataset_train_comp['tokens'][i][:-1])"
      ],
      "execution_count": null,
      "outputs": [
        {
          "output_type": "stream",
          "name": "stdout",
          "text": [
            "2432   ['BQ', 'VINA', 'CO.,', 'LTD', ',', 'BQ', 'VINA', 'CO.,', 'LTD', ',', 'CÔNG', 'TY', 'TNHH', 'BẢO', 'QUÂN', 'VI', None]  \n",
            "['BQ', 'VINA', 'CO.,', 'LTD', ',', 'BQ', 'VINA', 'CO.,', 'LTD', ',', 'CÔNG', 'TY', 'TNHH', 'BẢO', 'QUÂN', 'VI']\n",
            "2576   [None, 'RU', 'VINA', 'CO.,', 'LTD', ',', 'CÔNG', 'TY', 'TNHH', None, 'RU', 'VI', None]  \n",
            "[None, 'RU', 'VINA', 'CO.,', 'LTD', ',', 'CÔNG', 'TY', 'TNHH', None, 'RU', 'VI']\n"
          ]
        }
      ]
    },
    {
      "cell_type": "code",
      "metadata": {
        "colab": {
          "base_uri": "https://localhost:8080/",
          "height": 49,
          "referenced_widgets": [
            "12cee44187ff4575821315e334393be7",
            "e272ab25c9cb4f8592ba01a036337c5e",
            "d9f5e502ba1349ca93723148e579c226",
            "685a09ee04be47c8b6af9b2a690f295f",
            "1d2f6ebc750f4d7391f7b77322dc812a",
            "6d87e9b4daf9472fbb0f5abac796c8df",
            "97084bdbcb4c4456a7f39235b59a41f4",
            "9ee061ecafcf495b921ed5151f327d8e",
            "a3591e27ff284ec2b56d2f0e4d1fa2f3",
            "f644abd4c1f24297af4be65b1d6182d2",
            "0c9c6148e56e434b9871e71d292ed544"
          ]
        },
        "id": "jirYKRjbuzoY",
        "outputId": "6b30c261-47d3-49db-ba1f-ee163353403e"
      },
      "source": [
        "dataset_train_comp = dataset_train_comp.filter(lambda ex: ex['tokens'].count(None) == 0)"
      ],
      "execution_count": null,
      "outputs": [
        {
          "output_type": "display_data",
          "data": {
            "application/vnd.jupyter.widget-view+json": {
              "model_id": "12cee44187ff4575821315e334393be7",
              "version_minor": 0,
              "version_major": 2
            },
            "text/plain": [
              "  0%|          | 0/5 [00:00<?, ?ba/s]"
            ]
          },
          "metadata": {}
        }
      ]
    },
    {
      "cell_type": "markdown",
      "metadata": {
        "id": "OTe1ZvVnLzv4"
      },
      "source": [
        "## Import Train Dataframe"
      ]
    },
    {
      "cell_type": "code",
      "metadata": {
        "id": "0V_NrZgDL562"
      },
      "source": [
        "CTEL_train_df = pd.read_csv('/content/gdrive/My Drive/Machine_Learning/Code/Data/Dataset_CTEL/train_CTEL_company.csv')"
      ],
      "execution_count": null,
      "outputs": []
    },
    {
      "cell_type": "code",
      "metadata": {
        "id": "PVAfZhvrS2v2"
      },
      "source": [
        "CTEL_train_df['ner_tags'] = CTEL_train_df['ner_tags'].apply(lambda x: json.loads(x))\n",
        "CTEL_train_df['tokens'] = CTEL_train_df['tokens'].apply(lambda x: ast.literal_eval(x))"
      ],
      "execution_count": null,
      "outputs": []
    },
    {
      "cell_type": "code",
      "metadata": {
        "colab": {
          "base_uri": "https://localhost:8080/",
          "height": 204
        },
        "id": "j8QR2peL01HK",
        "outputId": "dce684a3-6eb2-42a7-8b9c-7c34c5d59d1c"
      },
      "source": [
        "CTEL_train_df = CTEL_train_df.drop(columns = ['Unnamed: 0'])\n",
        "CTEL_train_df.head()"
      ],
      "execution_count": null,
      "outputs": [
        {
          "data": {
            "text/html": [
              "<div>\n",
              "<style scoped>\n",
              "    .dataframe tbody tr th:only-of-type {\n",
              "        vertical-align: middle;\n",
              "    }\n",
              "\n",
              "    .dataframe tbody tr th {\n",
              "        vertical-align: top;\n",
              "    }\n",
              "\n",
              "    .dataframe thead th {\n",
              "        text-align: right;\n",
              "    }\n",
              "</style>\n",
              "<table border=\"1\" class=\"dataframe\">\n",
              "  <thead>\n",
              "    <tr style=\"text-align: right;\">\n",
              "      <th></th>\n",
              "      <th>ner_tags</th>\n",
              "      <th>tokens</th>\n",
              "    </tr>\n",
              "  </thead>\n",
              "  <tbody>\n",
              "    <tr>\n",
              "      <th>0</th>\n",
              "      <td>[1, 2, 0, 3, 4, 0, 0, 0, 0, 0, 0, 0, 0, 0, 0, ...</td>\n",
              "      <td>[arasaka, sarl, ;, team, leader, ;, tháng, 5, ...</td>\n",
              "    </tr>\n",
              "    <tr>\n",
              "      <th>1</th>\n",
              "      <td>[0, 0, 0, 0, 3, 0, 0, 0, 0, 0, 0, 0, 0]</td>\n",
              "      <td>[health, management, associates, ;, principal,...</td>\n",
              "    </tr>\n",
              "    <tr>\n",
              "      <th>2</th>\n",
              "      <td>[1, 2, 2, 2, 2, 2]</td>\n",
              "      <td>[công, ty, truyền, thông, toàn, dũng]</td>\n",
              "    </tr>\n",
              "    <tr>\n",
              "      <th>3</th>\n",
              "      <td>[0, 0, 0, 0, 3, 0, 0, 0, 0, 0, 0, 0, 0, 0, 0, ...</td>\n",
              "      <td>[hanoi, medical, university, ;, lecturer, ;, t...</td>\n",
              "    </tr>\n",
              "    <tr>\n",
              "      <th>4</th>\n",
              "      <td>[0, 0, 0, 3, 4]</td>\n",
              "      <td>[hà, nội, ;, sinh, viên]</td>\n",
              "    </tr>\n",
              "  </tbody>\n",
              "</table>\n",
              "</div>"
            ],
            "text/plain": [
              "                                            ner_tags                                             tokens\n",
              "0  [1, 2, 0, 3, 4, 0, 0, 0, 0, 0, 0, 0, 0, 0, 0, ...  [arasaka, sarl, ;, team, leader, ;, tháng, 5, ...\n",
              "1            [0, 0, 0, 0, 3, 0, 0, 0, 0, 0, 0, 0, 0]  [health, management, associates, ;, principal,...\n",
              "2                                 [1, 2, 2, 2, 2, 2]              [công, ty, truyền, thông, toàn, dũng]\n",
              "3  [0, 0, 0, 0, 3, 0, 0, 0, 0, 0, 0, 0, 0, 0, 0, ...  [hanoi, medical, university, ;, lecturer, ;, t...\n",
              "4                                    [0, 0, 0, 3, 4]                           [hà, nội, ;, sinh, viên]"
            ]
          },
          "execution_count": 18,
          "metadata": {
            "tags": []
          },
          "output_type": "execute_result"
        }
      ]
    },
    {
      "cell_type": "markdown",
      "metadata": {
        "id": "bb7FuhJ1KEGU"
      },
      "source": [
        "## Preprocess 4000 more only-company data"
      ]
    },
    {
      "cell_type": "markdown",
      "metadata": {
        "id": "2PCAT2yrhvdp"
      },
      "source": [
        "Here, besided 2000 companies that we have for the training, we could add 4000 companies for the training to see if we can achieve the better result"
      ]
    },
    {
      "cell_type": "markdown",
      "metadata": {
        "id": "BtMYtHZpKc-l"
      },
      "source": [
        "### Import 4000 only-company DataFrame"
      ]
    },
    {
      "cell_type": "code",
      "metadata": {
        "id": "U3AUYYJvKDhG"
      },
      "source": [
        "CTEL_cutcomp_df = pd.read_csv('/content/gdrive/My Drive/Machine_Learning/Code/Data/BERT_CTEL/Labeled_CTEL_4000_OnlyCompany.csv')"
      ],
      "execution_count": null,
      "outputs": []
    },
    {
      "cell_type": "code",
      "metadata": {
        "colab": {
          "base_uri": "https://localhost:8080/",
          "height": 205
        },
        "id": "SwJLIurrNfqD",
        "outputId": "4dd274b6-35a8-4259-c321-28801296412e"
      },
      "source": [
        "CTEL_cutcomp_df.head()"
      ],
      "execution_count": null,
      "outputs": [
        {
          "output_type": "execute_result",
          "data": {
            "text/html": [
              "<div>\n",
              "<style scoped>\n",
              "    .dataframe tbody tr th:only-of-type {\n",
              "        vertical-align: middle;\n",
              "    }\n",
              "\n",
              "    .dataframe tbody tr th {\n",
              "        vertical-align: top;\n",
              "    }\n",
              "\n",
              "    .dataframe thead th {\n",
              "        text-align: right;\n",
              "    }\n",
              "</style>\n",
              "<table border=\"1\" class=\"dataframe\">\n",
              "  <thead>\n",
              "    <tr style=\"text-align: right;\">\n",
              "      <th></th>\n",
              "      <th>brief_name</th>\n",
              "      <th>eng_name</th>\n",
              "      <th>name</th>\n",
              "    </tr>\n",
              "  </thead>\n",
              "  <tbody>\n",
              "    <tr>\n",
              "      <th>0</th>\n",
              "      <td>-1</td>\n",
              "      <td>S&amp;t Logistics And Trading Service Company Limited</td>\n",
              "      <td>Công Ty TNHH Tiếp Vận Và Dịch Vụ Thương Mại S&amp;t</td>\n",
              "    </tr>\n",
              "    <tr>\n",
              "      <th>1</th>\n",
              "      <td>-1</td>\n",
              "      <td>-1</td>\n",
              "      <td>CÔNG TY TRÁCH NHIỆM HỮU HẠN THƯƠNG MẠI VẬN TẢI...</td>\n",
              "    </tr>\n",
              "    <tr>\n",
              "      <th>2</th>\n",
              "      <td>-1</td>\n",
              "      <td>-1</td>\n",
              "      <td>CÔNG TY TNHH BÁCH THI</td>\n",
              "    </tr>\n",
              "    <tr>\n",
              "      <th>3</th>\n",
              "      <td>CTY TNHH MTV DƯƠNG ĐÔNG - GIA LAI</td>\n",
              "      <td>CTY TNHH MTV DƯƠNG ĐÔNG - GIA LAI</td>\n",
              "      <td>CÔNG TY TNHH MỘT THÀNH VIÊN DƯƠNG ĐÔNG - GIA LAI</td>\n",
              "    </tr>\n",
              "    <tr>\n",
              "      <th>4</th>\n",
              "      <td>-1</td>\n",
              "      <td>-1</td>\n",
              "      <td>CÔNG TY TNHH THƯƠNG MẠI DỊCH VỤ VẬT LIỆU XÂY D...</td>\n",
              "    </tr>\n",
              "  </tbody>\n",
              "</table>\n",
              "</div>"
            ],
            "text/plain": [
              "                          brief_name  ...                                               name\n",
              "0                                 -1  ...    Công Ty TNHH Tiếp Vận Và Dịch Vụ Thương Mại S&t\n",
              "1                                 -1  ...  CÔNG TY TRÁCH NHIỆM HỮU HẠN THƯƠNG MẠI VẬN TẢI...\n",
              "2                                 -1  ...                              CÔNG TY TNHH BÁCH THI\n",
              "3  CTY TNHH MTV DƯƠNG ĐÔNG - GIA LAI  ...   CÔNG TY TNHH MỘT THÀNH VIÊN DƯƠNG ĐÔNG - GIA LAI\n",
              "4                                 -1  ...  CÔNG TY TNHH THƯƠNG MẠI DỊCH VỤ VẬT LIỆU XÂY D...\n",
              "\n",
              "[5 rows x 3 columns]"
            ]
          },
          "metadata": {},
          "execution_count": 158
        }
      ]
    },
    {
      "cell_type": "code",
      "metadata": {
        "colab": {
          "base_uri": "https://localhost:8080/"
        },
        "id": "mfrPV2UKheO3",
        "outputId": "5c0cfcb4-80e1-4545-b40d-2b2c8faa8c74"
      },
      "source": [
        "CTEL_cutcomp_df.shape"
      ],
      "execution_count": null,
      "outputs": [
        {
          "output_type": "execute_result",
          "data": {
            "text/plain": [
              "(4000, 3)"
            ]
          },
          "metadata": {},
          "execution_count": 159
        }
      ]
    },
    {
      "cell_type": "markdown",
      "metadata": {
        "id": "yGieut5yKiPz"
      },
      "source": [
        "### Assign ner-tag for 4000 only-company"
      ]
    },
    {
      "cell_type": "code",
      "metadata": {
        "id": "7F4-3uwHKqn0"
      },
      "source": [
        "sr_bn = CTEL_cutcomp_df['brief_name'][CTEL_cutcomp_df['brief_name'] != '-1']"
      ],
      "execution_count": null,
      "outputs": []
    },
    {
      "cell_type": "code",
      "metadata": {
        "id": "Tr3MD_C3NWqj"
      },
      "source": [
        "sr_en = CTEL_cutcomp_df['eng_name'][CTEL_cutcomp_df['eng_name'] != '-1']"
      ],
      "execution_count": null,
      "outputs": []
    },
    {
      "cell_type": "code",
      "metadata": {
        "id": "FzpTNnmONWtE"
      },
      "source": [
        "sr_n = CTEL_cutcomp_df['name'][CTEL_cutcomp_df['name'] != '-1']"
      ],
      "execution_count": null,
      "outputs": []
    },
    {
      "cell_type": "code",
      "metadata": {
        "id": "BEmBTYiGNWvc"
      },
      "source": [
        "cutcomp_dict = {}\n",
        "cutcomp_dict['ner_tags'] = []\n",
        "cutcomp_dict['tokens'] = []"
      ],
      "execution_count": null,
      "outputs": []
    },
    {
      "cell_type": "code",
      "metadata": {
        "id": "jQACu7WHZJpx"
      },
      "source": [
        "#tokenizer_cutcomp = AutoTokenizer.from_pretrained('vinai/phobert-base')"
      ],
      "execution_count": null,
      "outputs": []
    },
    {
      "cell_type": "code",
      "metadata": {
        "id": "gcZZA03XNWyD"
      },
      "source": [
        "sr_bn_l = sr_bn.tolist()\n",
        "for i in range(len(sr_bn_l)):\n",
        "  tok_sen = ViTokenizer.tokenize(sr_bn_l[i])\n",
        "  tok_arr = tok_sen.split(' ')\n",
        "  ner = []\n",
        "  for j in range(len(tok_arr)):\n",
        "    if j == 0:\n",
        "      ner.append(1)\n",
        "    else:\n",
        "      ner.append(2)\n",
        "  cutcomp_dict['ner_tags'].append(ner)\n",
        "  cutcomp_dict['tokens'].append(tok_arr)"
      ],
      "execution_count": null,
      "outputs": []
    },
    {
      "cell_type": "code",
      "metadata": {
        "id": "pD1YxNF_NWzr"
      },
      "source": [
        "sr_en_l = sr_en.tolist()\n",
        "for i in range(len(sr_en_l)):\n",
        "  tok_sen = ViTokenizer.tokenize(sr_en_l[i])\n",
        "  tok_arr = tok_sen.split(' ')\n",
        "  ner = []\n",
        "  for j in range(len(tok_arr)):\n",
        "    if j == 0:\n",
        "      ner.append(1)\n",
        "    else:\n",
        "      ner.append(2)\n",
        "  cutcomp_dict['ner_tags'].append(ner)\n",
        "  cutcomp_dict['tokens'].append(tok_arr)"
      ],
      "execution_count": null,
      "outputs": []
    },
    {
      "cell_type": "code",
      "metadata": {
        "id": "ptkHzhFXPbbw"
      },
      "source": [
        "sr_n_l = sr_n.tolist()\n",
        "for i in range(len(sr_n_l)):\n",
        "  tok_sen = ViTokenizer.tokenize(sr_n_l[i])\n",
        "  tok_arr = tok_sen.split(' ')\n",
        "  ner = []\n",
        "  for j in range(len(tok_arr)):\n",
        "    if j == 0:\n",
        "      ner.append(1)\n",
        "    else:\n",
        "      ner.append(2)\n",
        "  cutcomp_dict['ner_tags'].append(ner)\n",
        "  cutcomp_dict['tokens'].append(tok_arr)"
      ],
      "execution_count": null,
      "outputs": []
    },
    {
      "cell_type": "code",
      "metadata": {
        "colab": {
          "base_uri": "https://localhost:8080/"
        },
        "id": "jhLlCB4PPiUJ",
        "outputId": "e91aa4e8-5e9c-4745-fc78-300ecb0fa6cf"
      },
      "source": [
        "CTEL_labeled_cutcomp_df = pd.DataFrame(cutcomp_dict)\n",
        "CTEL_labeled_cutcomp_df.shape"
      ],
      "execution_count": null,
      "outputs": [
        {
          "output_type": "execute_result",
          "data": {
            "text/plain": [
              "(8482, 2)"
            ]
          },
          "metadata": {},
          "execution_count": 168
        }
      ]
    },
    {
      "cell_type": "code",
      "metadata": {
        "id": "crwEM7toSH-3"
      },
      "source": [
        "# CTEL_labeled_cutcomp_df['ner_tags'] = CTEL_labeled_cutcomp_df['ner_tags'].apply(lambda x: json.loads(x))\n",
        "# CTEL_labeled_cutcomp_df['tokens'] = CTEL_labeled_cutcomp_df['tokens'].apply(lambda x: ast.literal_eval(x))"
      ],
      "execution_count": null,
      "outputs": []
    },
    {
      "cell_type": "code",
      "metadata": {
        "colab": {
          "base_uri": "https://localhost:8080/",
          "height": 205
        },
        "id": "6uZ3rSx3P4yH",
        "outputId": "2d276319-85c5-40fa-db0e-48760bc85b1d"
      },
      "source": [
        "CTEL_labeled_cutcomp_df.head()"
      ],
      "execution_count": null,
      "outputs": [
        {
          "output_type": "execute_result",
          "data": {
            "text/html": [
              "<div>\n",
              "<style scoped>\n",
              "    .dataframe tbody tr th:only-of-type {\n",
              "        vertical-align: middle;\n",
              "    }\n",
              "\n",
              "    .dataframe tbody tr th {\n",
              "        vertical-align: top;\n",
              "    }\n",
              "\n",
              "    .dataframe thead th {\n",
              "        text-align: right;\n",
              "    }\n",
              "</style>\n",
              "<table border=\"1\" class=\"dataframe\">\n",
              "  <thead>\n",
              "    <tr style=\"text-align: right;\">\n",
              "      <th></th>\n",
              "      <th>ner_tags</th>\n",
              "      <th>tokens</th>\n",
              "    </tr>\n",
              "  </thead>\n",
              "  <tbody>\n",
              "    <tr>\n",
              "      <th>0</th>\n",
              "      <td>[1, 2, 2, 2, 2, 2, 2]</td>\n",
              "      <td>[CTY_TNHH, MTV, DƯƠNG, ĐÔNG, -, GIA, LAI]</td>\n",
              "    </tr>\n",
              "    <tr>\n",
              "      <th>1</th>\n",
              "      <td>[1, 2, 2, 2, 2]</td>\n",
              "      <td>[KIEN, TRUC, ADH, ,, JSC]</td>\n",
              "    </tr>\n",
              "    <tr>\n",
              "      <th>2</th>\n",
              "      <td>[1, 2, 2, 2]</td>\n",
              "      <td>[MTV, ADS., ,, JSC]</td>\n",
              "    </tr>\n",
              "    <tr>\n",
              "      <th>3</th>\n",
              "      <td>[1, 2, 2, 2, 2, 2]</td>\n",
              "      <td>[CTY_TNHH, TT, &amp;, DV, VIETSHOW, CÀ_MAU]</td>\n",
              "    </tr>\n",
              "    <tr>\n",
              "      <th>4</th>\n",
              "      <td>[1, 2, 2, 2, 2]</td>\n",
              "      <td>[G., D., S, COMPANY, LIMITED]</td>\n",
              "    </tr>\n",
              "  </tbody>\n",
              "</table>\n",
              "</div>"
            ],
            "text/plain": [
              "                ner_tags                                     tokens\n",
              "0  [1, 2, 2, 2, 2, 2, 2]  [CTY_TNHH, MTV, DƯƠNG, ĐÔNG, -, GIA, LAI]\n",
              "1        [1, 2, 2, 2, 2]                  [KIEN, TRUC, ADH, ,, JSC]\n",
              "2           [1, 2, 2, 2]                        [MTV, ADS., ,, JSC]\n",
              "3     [1, 2, 2, 2, 2, 2]    [CTY_TNHH, TT, &, DV, VIETSHOW, CÀ_MAU]\n",
              "4        [1, 2, 2, 2, 2]              [G., D., S, COMPANY, LIMITED]"
            ]
          },
          "metadata": {},
          "execution_count": 170
        }
      ]
    },
    {
      "cell_type": "markdown",
      "metadata": {
        "id": "-8s-NyBqKsDK"
      },
      "source": [
        "### Merge the train dataframe with the labeled 4000 only-company dataframe"
      ]
    },
    {
      "cell_type": "code",
      "metadata": {
        "colab": {
          "base_uri": "https://localhost:8080/"
        },
        "id": "c4XrwYBlQMR3",
        "outputId": "3240b59e-4584-4faa-a178-cdaf9b1109b9"
      },
      "source": [
        "CTEL_train_df = pd.concat([clone_train_df, CTEL_labeled_cutcomp_df])\n",
        "CTEL_train_df.shape"
      ],
      "execution_count": null,
      "outputs": [
        {
          "output_type": "execute_result",
          "data": {
            "text/plain": [
              "(12533, 2)"
            ]
          },
          "metadata": {},
          "execution_count": 171
        }
      ]
    },
    {
      "cell_type": "code",
      "metadata": {
        "id": "b-8u1T6tSlyO"
      },
      "source": [
        "# CTEL_train_df['ner_tags'] = CTEL_train_df['ner_tags'].apply(lambda x: json.loads(x))\n",
        "# CTEL_train_df['tokens'] = CTEL_train_df['tokens'].apply(lambda x: ast.literal_eval(x))"
      ],
      "execution_count": null,
      "outputs": []
    },
    {
      "cell_type": "code",
      "metadata": {
        "colab": {
          "base_uri": "https://localhost:8080/",
          "height": 205
        },
        "id": "khj9wOAPQeCf",
        "outputId": "4b4da6b3-f513-4103-fab0-f612d211df17"
      },
      "source": [
        "CTEL_train_df.head()"
      ],
      "execution_count": null,
      "outputs": [
        {
          "output_type": "execute_result",
          "data": {
            "text/html": [
              "<div>\n",
              "<style scoped>\n",
              "    .dataframe tbody tr th:only-of-type {\n",
              "        vertical-align: middle;\n",
              "    }\n",
              "\n",
              "    .dataframe tbody tr th {\n",
              "        vertical-align: top;\n",
              "    }\n",
              "\n",
              "    .dataframe thead th {\n",
              "        text-align: right;\n",
              "    }\n",
              "</style>\n",
              "<table border=\"1\" class=\"dataframe\">\n",
              "  <thead>\n",
              "    <tr style=\"text-align: right;\">\n",
              "      <th></th>\n",
              "      <th>ner_tags</th>\n",
              "      <th>tokens</th>\n",
              "    </tr>\n",
              "  </thead>\n",
              "  <tbody>\n",
              "    <tr>\n",
              "      <th>981</th>\n",
              "      <td>[0, 0, 0, 0, 0, 0, 0, 3, 4, 4, 0, 0, 0, 0, 0, ...</td>\n",
              "      <td>[clb, học, làm, giàu, ., hce, ;, phó, chủ, nhi...</td>\n",
              "    </tr>\n",
              "    <tr>\n",
              "      <th>1474</th>\n",
              "      <td>[1, 2, 0, 0, 0, 0, 0, 0, 0, 0, 0, 0, 0, 0]</td>\n",
              "      <td>[fpt, telecom, ;, support, services, ;, 27, th...</td>\n",
              "    </tr>\n",
              "    <tr>\n",
              "      <th>1551</th>\n",
              "      <td>[0, 0, 0, 3, 4, 4, 4, 0, 3, 4, 0, 0, 0, 0, 0, ...</td>\n",
              "      <td>[hà, nội, ;, tư, vấn, thuế, , &amp;, kế, toán, ;, ...</td>\n",
              "    </tr>\n",
              "    <tr>\n",
              "      <th>1712</th>\n",
              "      <td>[0, 0, 0, 0, 0, 0, 0, 0, 0, 0, 0, 0, 3, 4, 0, ...</td>\n",
              "      <td>[giải, pháp, phần, mềm, trọn, gói, game, net, ...</td>\n",
              "    </tr>\n",
              "    <tr>\n",
              "      <th>2450</th>\n",
              "      <td>[1, 0, 3, 0, 0, 0, 0, 0, 0, 0, 0, 0, 0, 0, 0, ...</td>\n",
              "      <td>[bigtrees, ;, ceo, ;, 14, tháng, 10, ,, 2019, ...</td>\n",
              "    </tr>\n",
              "  </tbody>\n",
              "</table>\n",
              "</div>"
            ],
            "text/plain": [
              "                                               ner_tags                                             tokens\n",
              "981   [0, 0, 0, 0, 0, 0, 0, 3, 4, 4, 0, 0, 0, 0, 0, ...  [clb, học, làm, giàu, ., hce, ;, phó, chủ, nhi...\n",
              "1474         [1, 2, 0, 0, 0, 0, 0, 0, 0, 0, 0, 0, 0, 0]  [fpt, telecom, ;, support, services, ;, 27, th...\n",
              "1551  [0, 0, 0, 3, 4, 4, 4, 0, 3, 4, 0, 0, 0, 0, 0, ...  [hà, nội, ;, tư, vấn, thuế, , &, kế, toán, ;, ...\n",
              "1712  [0, 0, 0, 0, 0, 0, 0, 0, 0, 0, 0, 0, 3, 4, 0, ...  [giải, pháp, phần, mềm, trọn, gói, game, net, ...\n",
              "2450  [1, 0, 3, 0, 0, 0, 0, 0, 0, 0, 0, 0, 0, 0, 0, ...  [bigtrees, ;, ceo, ;, 14, tháng, 10, ,, 2019, ..."
            ]
          },
          "metadata": {},
          "execution_count": 173
        }
      ]
    },
    {
      "cell_type": "code",
      "metadata": {
        "colab": {
          "base_uri": "https://localhost:8080/"
        },
        "id": "jqDeCgIOQrBX",
        "outputId": "d21037b9-e41e-4209-ed41-d29554784f5c"
      },
      "source": [
        "CTEL_train_df.shape"
      ],
      "execution_count": null,
      "outputs": [
        {
          "output_type": "execute_result",
          "data": {
            "text/plain": [
              "(12533, 2)"
            ]
          },
          "metadata": {},
          "execution_count": 174
        }
      ]
    },
    {
      "cell_type": "markdown",
      "metadata": {
        "id": "1B7EIw89RKOv"
      },
      "source": [
        "### Count company and job tags"
      ]
    },
    {
      "cell_type": "code",
      "metadata": {
        "colab": {
          "base_uri": "https://localhost:8080/"
        },
        "id": "5AjJIJBZRNnf",
        "outputId": "43217c14-1b61-4b92-dab4-eb18447ee447"
      },
      "source": [
        "c_comp = 0\n",
        "c_job = 0\n",
        "for i in CTEL_train_df['ner_tags'].tolist():\n",
        "  for arr in i:\n",
        "    if dict_num_to_label[arr] == 'B-COM' or dict_num_to_label[arr] == 'I-COM':\n",
        "      c_comp = c_comp + 1\n",
        "    if dict_num_to_label[arr] == 'B-JOB' or dict_num_to_label[arr] == 'I-JOB':\n",
        "      c_job = c_job + 1\n",
        "print(c_comp , \" \", c_job)"
      ],
      "execution_count": null,
      "outputs": [
        {
          "output_type": "stream",
          "name": "stdout",
          "text": [
            "82473   3802\n"
          ]
        }
      ]
    },
    {
      "cell_type": "markdown",
      "metadata": {
        "id": "vIziEN8mL2Hq"
      },
      "source": [
        "## Import Validation Dataframe"
      ]
    },
    {
      "cell_type": "code",
      "metadata": {
        "id": "8TlKsEk5L6RP",
        "colab": {
          "base_uri": "https://localhost:8080/",
          "height": 395
        },
        "outputId": "23c3d59c-ef2b-4bec-e39a-648c6f570a3e"
      },
      "source": [
        "CTEL_valid_df = pd.read_csv('/content/gdrive/My Drive/Machine_Learning/Code/Data/Dataset_CTEL/valid_CTEL_company.csv')"
      ],
      "execution_count": null,
      "outputs": [
        {
          "output_type": "error",
          "ename": "FileNotFoundError",
          "evalue": "ignored",
          "traceback": [
            "\u001b[0;31m---------------------------------------------------------------------------\u001b[0m",
            "\u001b[0;31mFileNotFoundError\u001b[0m                         Traceback (most recent call last)",
            "\u001b[0;32m<ipython-input-80-ee3bac344078>\u001b[0m in \u001b[0;36m<module>\u001b[0;34m()\u001b[0m\n\u001b[0;32m----> 1\u001b[0;31m \u001b[0mCTEL_valid_df\u001b[0m \u001b[0;34m=\u001b[0m \u001b[0mpd\u001b[0m\u001b[0;34m.\u001b[0m\u001b[0mread_csv\u001b[0m\u001b[0;34m(\u001b[0m\u001b[0;34m'/content/gdrive/My Drive/Machine_Learning/Code/Data/Dataset_CTEL/valid_CTEL_company.csv'\u001b[0m\u001b[0;34m)\u001b[0m\u001b[0;34m\u001b[0m\u001b[0;34m\u001b[0m\u001b[0m\n\u001b[0m",
            "\u001b[0;32m/usr/local/lib/python3.7/dist-packages/pandas/io/parsers.py\u001b[0m in \u001b[0;36mread_csv\u001b[0;34m(filepath_or_buffer, sep, delimiter, header, names, index_col, usecols, squeeze, prefix, mangle_dupe_cols, dtype, engine, converters, true_values, false_values, skipinitialspace, skiprows, skipfooter, nrows, na_values, keep_default_na, na_filter, verbose, skip_blank_lines, parse_dates, infer_datetime_format, keep_date_col, date_parser, dayfirst, cache_dates, iterator, chunksize, compression, thousands, decimal, lineterminator, quotechar, quoting, doublequote, escapechar, comment, encoding, dialect, error_bad_lines, warn_bad_lines, delim_whitespace, low_memory, memory_map, float_precision)\u001b[0m\n\u001b[1;32m    686\u001b[0m     )\n\u001b[1;32m    687\u001b[0m \u001b[0;34m\u001b[0m\u001b[0m\n\u001b[0;32m--> 688\u001b[0;31m     \u001b[0;32mreturn\u001b[0m \u001b[0m_read\u001b[0m\u001b[0;34m(\u001b[0m\u001b[0mfilepath_or_buffer\u001b[0m\u001b[0;34m,\u001b[0m \u001b[0mkwds\u001b[0m\u001b[0;34m)\u001b[0m\u001b[0;34m\u001b[0m\u001b[0;34m\u001b[0m\u001b[0m\n\u001b[0m\u001b[1;32m    689\u001b[0m \u001b[0;34m\u001b[0m\u001b[0m\n\u001b[1;32m    690\u001b[0m \u001b[0;34m\u001b[0m\u001b[0m\n",
            "\u001b[0;32m/usr/local/lib/python3.7/dist-packages/pandas/io/parsers.py\u001b[0m in \u001b[0;36m_read\u001b[0;34m(filepath_or_buffer, kwds)\u001b[0m\n\u001b[1;32m    452\u001b[0m \u001b[0;34m\u001b[0m\u001b[0m\n\u001b[1;32m    453\u001b[0m     \u001b[0;31m# Create the parser.\u001b[0m\u001b[0;34m\u001b[0m\u001b[0;34m\u001b[0m\u001b[0;34m\u001b[0m\u001b[0m\n\u001b[0;32m--> 454\u001b[0;31m     \u001b[0mparser\u001b[0m \u001b[0;34m=\u001b[0m \u001b[0mTextFileReader\u001b[0m\u001b[0;34m(\u001b[0m\u001b[0mfp_or_buf\u001b[0m\u001b[0;34m,\u001b[0m \u001b[0;34m**\u001b[0m\u001b[0mkwds\u001b[0m\u001b[0;34m)\u001b[0m\u001b[0;34m\u001b[0m\u001b[0;34m\u001b[0m\u001b[0m\n\u001b[0m\u001b[1;32m    455\u001b[0m \u001b[0;34m\u001b[0m\u001b[0m\n\u001b[1;32m    456\u001b[0m     \u001b[0;32mif\u001b[0m \u001b[0mchunksize\u001b[0m \u001b[0;32mor\u001b[0m \u001b[0miterator\u001b[0m\u001b[0;34m:\u001b[0m\u001b[0;34m\u001b[0m\u001b[0;34m\u001b[0m\u001b[0m\n",
            "\u001b[0;32m/usr/local/lib/python3.7/dist-packages/pandas/io/parsers.py\u001b[0m in \u001b[0;36m__init__\u001b[0;34m(self, f, engine, **kwds)\u001b[0m\n\u001b[1;32m    946\u001b[0m             \u001b[0mself\u001b[0m\u001b[0;34m.\u001b[0m\u001b[0moptions\u001b[0m\u001b[0;34m[\u001b[0m\u001b[0;34m\"has_index_names\"\u001b[0m\u001b[0;34m]\u001b[0m \u001b[0;34m=\u001b[0m \u001b[0mkwds\u001b[0m\u001b[0;34m[\u001b[0m\u001b[0;34m\"has_index_names\"\u001b[0m\u001b[0;34m]\u001b[0m\u001b[0;34m\u001b[0m\u001b[0;34m\u001b[0m\u001b[0m\n\u001b[1;32m    947\u001b[0m \u001b[0;34m\u001b[0m\u001b[0m\n\u001b[0;32m--> 948\u001b[0;31m         \u001b[0mself\u001b[0m\u001b[0;34m.\u001b[0m\u001b[0m_make_engine\u001b[0m\u001b[0;34m(\u001b[0m\u001b[0mself\u001b[0m\u001b[0;34m.\u001b[0m\u001b[0mengine\u001b[0m\u001b[0;34m)\u001b[0m\u001b[0;34m\u001b[0m\u001b[0;34m\u001b[0m\u001b[0m\n\u001b[0m\u001b[1;32m    949\u001b[0m \u001b[0;34m\u001b[0m\u001b[0m\n\u001b[1;32m    950\u001b[0m     \u001b[0;32mdef\u001b[0m \u001b[0mclose\u001b[0m\u001b[0;34m(\u001b[0m\u001b[0mself\u001b[0m\u001b[0;34m)\u001b[0m\u001b[0;34m:\u001b[0m\u001b[0;34m\u001b[0m\u001b[0;34m\u001b[0m\u001b[0m\n",
            "\u001b[0;32m/usr/local/lib/python3.7/dist-packages/pandas/io/parsers.py\u001b[0m in \u001b[0;36m_make_engine\u001b[0;34m(self, engine)\u001b[0m\n\u001b[1;32m   1178\u001b[0m     \u001b[0;32mdef\u001b[0m \u001b[0m_make_engine\u001b[0m\u001b[0;34m(\u001b[0m\u001b[0mself\u001b[0m\u001b[0;34m,\u001b[0m \u001b[0mengine\u001b[0m\u001b[0;34m=\u001b[0m\u001b[0;34m\"c\"\u001b[0m\u001b[0;34m)\u001b[0m\u001b[0;34m:\u001b[0m\u001b[0;34m\u001b[0m\u001b[0;34m\u001b[0m\u001b[0m\n\u001b[1;32m   1179\u001b[0m         \u001b[0;32mif\u001b[0m \u001b[0mengine\u001b[0m \u001b[0;34m==\u001b[0m \u001b[0;34m\"c\"\u001b[0m\u001b[0;34m:\u001b[0m\u001b[0;34m\u001b[0m\u001b[0;34m\u001b[0m\u001b[0m\n\u001b[0;32m-> 1180\u001b[0;31m             \u001b[0mself\u001b[0m\u001b[0;34m.\u001b[0m\u001b[0m_engine\u001b[0m \u001b[0;34m=\u001b[0m \u001b[0mCParserWrapper\u001b[0m\u001b[0;34m(\u001b[0m\u001b[0mself\u001b[0m\u001b[0;34m.\u001b[0m\u001b[0mf\u001b[0m\u001b[0;34m,\u001b[0m \u001b[0;34m**\u001b[0m\u001b[0mself\u001b[0m\u001b[0;34m.\u001b[0m\u001b[0moptions\u001b[0m\u001b[0;34m)\u001b[0m\u001b[0;34m\u001b[0m\u001b[0;34m\u001b[0m\u001b[0m\n\u001b[0m\u001b[1;32m   1181\u001b[0m         \u001b[0;32melse\u001b[0m\u001b[0;34m:\u001b[0m\u001b[0;34m\u001b[0m\u001b[0;34m\u001b[0m\u001b[0m\n\u001b[1;32m   1182\u001b[0m             \u001b[0;32mif\u001b[0m \u001b[0mengine\u001b[0m \u001b[0;34m==\u001b[0m \u001b[0;34m\"python\"\u001b[0m\u001b[0;34m:\u001b[0m\u001b[0;34m\u001b[0m\u001b[0;34m\u001b[0m\u001b[0m\n",
            "\u001b[0;32m/usr/local/lib/python3.7/dist-packages/pandas/io/parsers.py\u001b[0m in \u001b[0;36m__init__\u001b[0;34m(self, src, **kwds)\u001b[0m\n\u001b[1;32m   2008\u001b[0m         \u001b[0mkwds\u001b[0m\u001b[0;34m[\u001b[0m\u001b[0;34m\"usecols\"\u001b[0m\u001b[0;34m]\u001b[0m \u001b[0;34m=\u001b[0m \u001b[0mself\u001b[0m\u001b[0;34m.\u001b[0m\u001b[0musecols\u001b[0m\u001b[0;34m\u001b[0m\u001b[0;34m\u001b[0m\u001b[0m\n\u001b[1;32m   2009\u001b[0m \u001b[0;34m\u001b[0m\u001b[0m\n\u001b[0;32m-> 2010\u001b[0;31m         \u001b[0mself\u001b[0m\u001b[0;34m.\u001b[0m\u001b[0m_reader\u001b[0m \u001b[0;34m=\u001b[0m \u001b[0mparsers\u001b[0m\u001b[0;34m.\u001b[0m\u001b[0mTextReader\u001b[0m\u001b[0;34m(\u001b[0m\u001b[0msrc\u001b[0m\u001b[0;34m,\u001b[0m \u001b[0;34m**\u001b[0m\u001b[0mkwds\u001b[0m\u001b[0;34m)\u001b[0m\u001b[0;34m\u001b[0m\u001b[0;34m\u001b[0m\u001b[0m\n\u001b[0m\u001b[1;32m   2011\u001b[0m         \u001b[0mself\u001b[0m\u001b[0;34m.\u001b[0m\u001b[0munnamed_cols\u001b[0m \u001b[0;34m=\u001b[0m \u001b[0mself\u001b[0m\u001b[0;34m.\u001b[0m\u001b[0m_reader\u001b[0m\u001b[0;34m.\u001b[0m\u001b[0munnamed_cols\u001b[0m\u001b[0;34m\u001b[0m\u001b[0;34m\u001b[0m\u001b[0m\n\u001b[1;32m   2012\u001b[0m \u001b[0;34m\u001b[0m\u001b[0m\n",
            "\u001b[0;32mpandas/_libs/parsers.pyx\u001b[0m in \u001b[0;36mpandas._libs.parsers.TextReader.__cinit__\u001b[0;34m()\u001b[0m\n",
            "\u001b[0;32mpandas/_libs/parsers.pyx\u001b[0m in \u001b[0;36mpandas._libs.parsers.TextReader._setup_parser_source\u001b[0;34m()\u001b[0m\n",
            "\u001b[0;31mFileNotFoundError\u001b[0m: [Errno 2] No such file or directory: '/content/gdrive/My Drive/Machine_Learning/Code/Data/Dataset_CTEL/valid_CTEL_company.csv'"
          ]
        }
      ]
    },
    {
      "cell_type": "code",
      "metadata": {
        "id": "dETLOc8a4uTW"
      },
      "source": [
        "CTEL_valid_df['ner_tags'] = CTEL_valid_df['ner_tags'].apply(lambda x: json.loads(x))\n",
        "CTEL_valid_df['tokens'] = CTEL_valid_df['tokens'].apply(lambda x: ast.literal_eval(x))"
      ],
      "execution_count": null,
      "outputs": []
    },
    {
      "cell_type": "code",
      "metadata": {
        "colab": {
          "base_uri": "https://localhost:8080/",
          "height": 204
        },
        "id": "v96c_jcz0yPc",
        "outputId": "33369992-6f0f-48d2-d156-ecb3e3c9bb2b"
      },
      "source": [
        "CTEL_valid_df = CTEL_valid_df.drop(columns = ['Unnamed: 0'])\n",
        "CTEL_valid_df.head()"
      ],
      "execution_count": null,
      "outputs": [
        {
          "data": {
            "text/html": [
              "<div>\n",
              "<style scoped>\n",
              "    .dataframe tbody tr th:only-of-type {\n",
              "        vertical-align: middle;\n",
              "    }\n",
              "\n",
              "    .dataframe tbody tr th {\n",
              "        vertical-align: top;\n",
              "    }\n",
              "\n",
              "    .dataframe thead th {\n",
              "        text-align: right;\n",
              "    }\n",
              "</style>\n",
              "<table border=\"1\" class=\"dataframe\">\n",
              "  <thead>\n",
              "    <tr style=\"text-align: right;\">\n",
              "      <th></th>\n",
              "      <th>ner_tags</th>\n",
              "      <th>tokens</th>\n",
              "    </tr>\n",
              "  </thead>\n",
              "  <tbody>\n",
              "    <tr>\n",
              "      <th>0</th>\n",
              "      <td>[1, 2, 0, 0, 0, 0, 0, 0, 0, 0, 0, 0, 0, 0, 0]</td>\n",
              "      <td>[vtc, intecom, ;, tháng, 8, năm, 2009, -, thán...</td>\n",
              "    </tr>\n",
              "    <tr>\n",
              "      <th>1</th>\n",
              "      <td>[0, 0, 0, 0, 0, 3, 4, 0, 0, 0, 0, 0, 0, 0, 0, ...</td>\n",
              "      <td>[autonomous, intelligent, robotics, lab, ;, te...</td>\n",
              "    </tr>\n",
              "    <tr>\n",
              "      <th>2</th>\n",
              "      <td>[1, 0, 0, 0, 0, 0, 0, 0, 0, 0, 0, 0, 0, 0, 0, 0]</td>\n",
              "      <td>[google, ;, 2020, -, hiện, tại, ;, austin, ,, ...</td>\n",
              "    </tr>\n",
              "    <tr>\n",
              "      <th>3</th>\n",
              "      <td>[1, 0, 3, 4, 0, 0, 0, 0, 0, 0, 0, 0, 0, 0, 0, 0]</td>\n",
              "      <td>[pi-top, ;, software, engineer, ;, tháng, 9, n...</td>\n",
              "    </tr>\n",
              "    <tr>\n",
              "      <th>4</th>\n",
              "      <td>[0, 0, 0, 3, 0, 0, 0, 0, 0, 0, 0, 0, 0, 0, 0, 0]</td>\n",
              "      <td>[les, éclaireurs, ;, chroniqueuse, ;, tháng, 9...</td>\n",
              "    </tr>\n",
              "  </tbody>\n",
              "</table>\n",
              "</div>"
            ],
            "text/plain": [
              "                                            ner_tags                                             tokens\n",
              "0      [1, 2, 0, 0, 0, 0, 0, 0, 0, 0, 0, 0, 0, 0, 0]  [vtc, intecom, ;, tháng, 8, năm, 2009, -, thán...\n",
              "1  [0, 0, 0, 0, 0, 3, 4, 0, 0, 0, 0, 0, 0, 0, 0, ...  [autonomous, intelligent, robotics, lab, ;, te...\n",
              "2   [1, 0, 0, 0, 0, 0, 0, 0, 0, 0, 0, 0, 0, 0, 0, 0]  [google, ;, 2020, -, hiện, tại, ;, austin, ,, ...\n",
              "3   [1, 0, 3, 4, 0, 0, 0, 0, 0, 0, 0, 0, 0, 0, 0, 0]  [pi-top, ;, software, engineer, ;, tháng, 9, n...\n",
              "4   [0, 0, 0, 3, 0, 0, 0, 0, 0, 0, 0, 0, 0, 0, 0, 0]  [les, éclaireurs, ;, chroniqueuse, ;, tháng, 9..."
            ]
          },
          "execution_count": 39,
          "metadata": {
            "tags": []
          },
          "output_type": "execute_result"
        }
      ]
    },
    {
      "cell_type": "markdown",
      "metadata": {
        "id": "o4kAT_Z0HOMO"
      },
      "source": [
        "## Import Test Dataframe"
      ]
    },
    {
      "cell_type": "code",
      "metadata": {
        "id": "aAM03C2KHT6i"
      },
      "source": [
        "CTEL_test_df = pd.read_csv('/content/gdrive/My Drive/Machine_Learning/Code/Data/Dataset_CTEL/Test_CTEL_company.csv')"
      ],
      "execution_count": null,
      "outputs": []
    },
    {
      "cell_type": "code",
      "metadata": {
        "id": "tTzZZeQk40T0"
      },
      "source": [
        "CTEL_test_df['ner_tags'] = CTEL_test_df['ner_tags'].apply(lambda x: json.loads(x))\n",
        "CTEL_test_df['tokens'] = CTEL_test_df['tokens'].apply(lambda x: ast.literal_eval(x))"
      ],
      "execution_count": null,
      "outputs": []
    },
    {
      "cell_type": "code",
      "metadata": {
        "id": "qvyrw8hAHh-f"
      },
      "source": [
        "CTEL_test_df = CTEL_test_df.drop(columns= ['Unnamed: 0'])"
      ],
      "execution_count": null,
      "outputs": []
    },
    {
      "cell_type": "code",
      "metadata": {
        "colab": {
          "base_uri": "https://localhost:8080/",
          "height": 204
        },
        "id": "pnEhdzsQHu9p",
        "outputId": "7e67fd7b-46d5-4b1f-ae2d-10a52c664df5"
      },
      "source": [
        "CTEL_test_df.head()"
      ],
      "execution_count": null,
      "outputs": [
        {
          "data": {
            "text/html": [
              "<div>\n",
              "<style scoped>\n",
              "    .dataframe tbody tr th:only-of-type {\n",
              "        vertical-align: middle;\n",
              "    }\n",
              "\n",
              "    .dataframe tbody tr th {\n",
              "        vertical-align: top;\n",
              "    }\n",
              "\n",
              "    .dataframe thead th {\n",
              "        text-align: right;\n",
              "    }\n",
              "</style>\n",
              "<table border=\"1\" class=\"dataframe\">\n",
              "  <thead>\n",
              "    <tr style=\"text-align: right;\">\n",
              "      <th></th>\n",
              "      <th>ner_tags</th>\n",
              "      <th>tokens</th>\n",
              "    </tr>\n",
              "  </thead>\n",
              "  <tbody>\n",
              "    <tr>\n",
              "      <th>0</th>\n",
              "      <td>[1, 0, 3, 4, 4, 0, 0, 0, 0, 0, 0, 0, 0, 0, 0, ...</td>\n",
              "      <td>[google, ;, software, engineering, intern, ;, ...</td>\n",
              "    </tr>\n",
              "    <tr>\n",
              "      <th>1</th>\n",
              "      <td>[0, 0, 0, 0, 3, 0, 3, 0, 0, 0, 0, 0, 0, 0]</td>\n",
              "      <td>[rue, des, chats, ;, co-founder, &amp;, designer, ...</td>\n",
              "    </tr>\n",
              "    <tr>\n",
              "      <th>2</th>\n",
              "      <td>[1, 0, 3, 4, 0, 0]</td>\n",
              "      <td>[inescid, ;, postdoctoral, researcher, ;, lisboa]</td>\n",
              "    </tr>\n",
              "    <tr>\n",
              "      <th>3</th>\n",
              "      <td>[1, 2, 2, 0, 3, 4, 4, 4, 0, 0, 0, 0, 0, 0, 0, ...</td>\n",
              "      <td>[seta, international, llc, ;, director, of, vn...</td>\n",
              "    </tr>\n",
              "    <tr>\n",
              "      <th>4</th>\n",
              "      <td>[0, 0, 0, 3, 4, 0, 0, 0, 0, 0, 0, 0, 0, 0, 0, ...</td>\n",
              "      <td>[vietseeds, foundation, ;, sinh, viên, ;, 19, ...</td>\n",
              "    </tr>\n",
              "  </tbody>\n",
              "</table>\n",
              "</div>"
            ],
            "text/plain": [
              "                                            ner_tags                                             tokens\n",
              "0  [1, 0, 3, 4, 4, 0, 0, 0, 0, 0, 0, 0, 0, 0, 0, ...  [google, ;, software, engineering, intern, ;, ...\n",
              "1         [0, 0, 0, 0, 3, 0, 3, 0, 0, 0, 0, 0, 0, 0]  [rue, des, chats, ;, co-founder, &, designer, ...\n",
              "2                                 [1, 0, 3, 4, 0, 0]  [inescid, ;, postdoctoral, researcher, ;, lisboa]\n",
              "3  [1, 2, 2, 0, 3, 4, 4, 4, 0, 0, 0, 0, 0, 0, 0, ...  [seta, international, llc, ;, director, of, vn...\n",
              "4  [0, 0, 0, 3, 4, 0, 0, 0, 0, 0, 0, 0, 0, 0, 0, ...  [vietseeds, foundation, ;, sinh, viên, ;, 19, ..."
            ]
          },
          "execution_count": 43,
          "metadata": {
            "tags": []
          },
          "output_type": "execute_result"
        }
      ]
    },
    {
      "cell_type": "markdown",
      "metadata": {
        "id": "yMpeU5f4HBH4"
      },
      "source": [
        "## Remove None in the tokens array"
      ]
    },
    {
      "cell_type": "code",
      "metadata": {
        "id": "lD8TkVHfKj3C"
      },
      "source": [
        "def remove_none(string):\n",
        "  index = 0\n",
        "  while index < len(string):\n",
        "    if not isinstance(string[index], str):\n",
        "      string.pop(index)\n",
        "    else:\n",
        "      index = index + 1\n",
        "  return string"
      ],
      "execution_count": null,
      "outputs": []
    },
    {
      "cell_type": "code",
      "metadata": {
        "colab": {
          "base_uri": "https://localhost:8080/"
        },
        "id": "DWkoPt0aNLt9",
        "outputId": "12816afc-bf9a-4a34-9162-f439746a0254"
      },
      "source": [
        "test = dataset_train['tokens'][2576]\n",
        "test"
      ],
      "execution_count": null,
      "outputs": [
        {
          "output_type": "execute_result",
          "data": {
            "text/plain": [
              "['RU', 'VINA', 'CO.,', 'LTD', ',', 'CÔNG', 'TY', 'TNHH', None, 'RU', 'VI']"
            ]
          },
          "metadata": {},
          "execution_count": 220
        }
      ]
    },
    {
      "cell_type": "code",
      "metadata": {
        "id": "yk0WsMc3HDqw"
      },
      "source": [
        "CTEL_train_df['tokens'] = CTEL_train_df['tokens'].map(remove_none)"
      ],
      "execution_count": null,
      "outputs": []
    },
    {
      "cell_type": "markdown",
      "metadata": {
        "id": "BMLDUq5S0-JJ"
      },
      "source": [
        "## Create Dataset from Processed Dataframes"
      ]
    },
    {
      "cell_type": "code",
      "metadata": {
        "id": "BiEsdol609lM"
      },
      "source": [
        "dataset_train = Dataset.from_pandas(CTEL_train_df)"
      ],
      "execution_count": null,
      "outputs": []
    },
    {
      "cell_type": "code",
      "metadata": {
        "colab": {
          "base_uri": "https://localhost:8080/"
        },
        "id": "Vdu3JezaThWh",
        "outputId": "470be6d2-ed0a-423c-cc6b-a1b5269ffc1f"
      },
      "source": [
        "dataset_train = dataset_train.remove_columns('__index_level_0__')\n",
        "dataset_train"
      ],
      "execution_count": null,
      "outputs": [
        {
          "output_type": "execute_result",
          "data": {
            "text/plain": [
              "Dataset({\n",
              "    features: ['ner_tags', 'tokens'],\n",
              "    num_rows: 12533\n",
              "})"
            ]
          },
          "metadata": {},
          "execution_count": 224
        }
      ]
    },
    {
      "cell_type": "code",
      "metadata": {
        "id": "s2z3kkmh1E6s"
      },
      "source": [
        "#dataset_valid = Dataset.from_pandas(CTEL_valid_df)\n",
        "dataset_valid = Dataset.from_pandas(valid_df)\n",
        "dataset_valid = dataset_valid.remove_columns('__index_level_0__')"
      ],
      "execution_count": null,
      "outputs": []
    },
    {
      "cell_type": "code",
      "metadata": {
        "colab": {
          "base_uri": "https://localhost:8080/"
        },
        "id": "UzocMqVbTix5",
        "outputId": "d821d762-4851-4492-b3e8-2470ee3f7c9a"
      },
      "source": [
        "dataset_valid"
      ],
      "execution_count": null,
      "outputs": [
        {
          "output_type": "execute_result",
          "data": {
            "text/plain": [
              "Dataset({\n",
              "    features: ['ner_tags', 'tokens'],\n",
              "    num_rows: 257\n",
              "})"
            ]
          },
          "metadata": {},
          "execution_count": 226
        }
      ]
    },
    {
      "cell_type": "code",
      "metadata": {
        "id": "W3BSYu2NHVFB"
      },
      "source": [
        "#dataset_test = Dataset.from_pandas(CTEL_test_df)\n",
        "dataset_test = Dataset.from_pandas(test_df)\n",
        "dataset_test = dataset_test.remove_columns('__index_level_0__')"
      ],
      "execution_count": null,
      "outputs": []
    },
    {
      "cell_type": "code",
      "metadata": {
        "colab": {
          "base_uri": "https://localhost:8080/"
        },
        "id": "p97a_hw-Te2Z",
        "outputId": "acd057d1-8035-4ec4-c6a5-3cb78d2c93d7"
      },
      "source": [
        "dataset_test"
      ],
      "execution_count": null,
      "outputs": [
        {
          "output_type": "execute_result",
          "data": {
            "text/plain": [
              "Dataset({\n",
              "    features: ['ner_tags', 'tokens'],\n",
              "    num_rows: 257\n",
              "})"
            ]
          },
          "metadata": {},
          "execution_count": 228
        }
      ]
    },
    {
      "cell_type": "markdown",
      "metadata": {
        "id": "EceVDVtQ4Jo_"
      },
      "source": [
        "## Create Dataset Dict"
      ]
    },
    {
      "cell_type": "code",
      "metadata": {
        "colab": {
          "base_uri": "https://localhost:8080/"
        },
        "id": "BkWC0Saa-hQE",
        "outputId": "e7bf3e94-a150-4285-9b13-99ba7e97c1ac"
      },
      "source": [
        "temp_dataset = {'train': dataset_train, 'validation': dataset_valid, 'test': dataset_test} \n",
        "dataset_dict = datasets.DatasetDict(temp_dataset)\n",
        "dataset_dict"
      ],
      "execution_count": null,
      "outputs": [
        {
          "output_type": "execute_result",
          "data": {
            "text/plain": [
              "DatasetDict({\n",
              "    train: Dataset({\n",
              "        features: ['ner_tags', 'tokens'],\n",
              "        num_rows: 12533\n",
              "    })\n",
              "    validation: Dataset({\n",
              "        features: ['ner_tags', 'tokens'],\n",
              "        num_rows: 257\n",
              "    })\n",
              "    test: Dataset({\n",
              "        features: ['ner_tags', 'tokens'],\n",
              "        num_rows: 257\n",
              "    })\n",
              "})"
            ]
          },
          "metadata": {},
          "execution_count": 229
        }
      ]
    },
    {
      "cell_type": "markdown",
      "metadata": {
        "id": "pH5YMvwL-n1x"
      },
      "source": [
        "## Define model tokenizer"
      ]
    },
    {
      "cell_type": "code",
      "metadata": {
        "id": "7CqjObx5-hSd"
      },
      "source": [
        "model_checkpoint = 'bert-base-multilingual-uncased'\n",
        "batch_size = 16"
      ],
      "execution_count": null,
      "outputs": []
    },
    {
      "cell_type": "code",
      "metadata": {
        "id": "CibjlAbw-hUv"
      },
      "source": [
        "tokenizer = AutoTokenizer.from_pretrained(model_checkpoint)"
      ],
      "execution_count": null,
      "outputs": []
    },
    {
      "cell_type": "markdown",
      "metadata": {
        "id": "rT0Vf5xR-txM"
      },
      "source": [
        "## Tokenize dataset"
      ]
    },
    {
      "cell_type": "code",
      "metadata": {
        "id": "de6FZLyY-hWt"
      },
      "source": [
        "label_all_tokens = True"
      ],
      "execution_count": null,
      "outputs": []
    },
    {
      "cell_type": "code",
      "metadata": {
        "id": "PvFwafzq-3od"
      },
      "source": [
        "def tokenize_and_align_labels(examples):\n",
        "    tokenized_inputs = tokenizer(examples['tokens'], truncation=True, is_split_into_words=True)\n",
        "\n",
        "    labels = []\n",
        "    for i, label in enumerate(examples[\"ner_tags\"]):\n",
        "        word_ids = tokenized_inputs.word_ids(batch_index=i)\n",
        "        previous_word_idx = None\n",
        "        label_ids = []\n",
        "        for word_idx in word_ids:\n",
        "            # Special tokens have a word id that is None. We set the label to -100 so they are automatically\n",
        "            # ignored in the loss function.\n",
        "            if word_idx is None:\n",
        "                label_ids.append(-100)\n",
        "            # We set the label for the first token of each word.\n",
        "            elif word_idx != previous_word_idx:\n",
        "                label_ids.append(label[word_idx])\n",
        "            # For the other tokens in a word, we set the label to either the current label or -100, depending on\n",
        "            # the label_all_tokens flag.\n",
        "            else:\n",
        "                label_ids.append(label[word_idx] if label_all_tokens else -100)\n",
        "            previous_word_idx = word_idx\n",
        "\n",
        "        labels.append(label_ids)\n",
        "\n",
        "    tokenized_inputs[\"labels\"] = labels\n",
        "    return tokenized_inputs"
      ],
      "execution_count": null,
      "outputs": []
    },
    {
      "cell_type": "code",
      "metadata": {
        "id": "yWE7A3UV-3q8"
      },
      "source": [
        "test_function = tokenize_and_align_labels(dataset_train)"
      ],
      "execution_count": null,
      "outputs": []
    },
    {
      "cell_type": "code",
      "metadata": {
        "colab": {
          "base_uri": "https://localhost:8080/",
          "height": 113,
          "referenced_widgets": [
            "1f8560a9557b4d158bf4f87af4df1345",
            "859f40f4754e4a1dbbd53c498f726f68",
            "738f50671c6c46a29ae2750bf3b3d7fa",
            "515b195acb3849f9930dd7a9cf41c4d8",
            "6fa1c619580a4e12989ac2ee6453c4ce",
            "61e87d4a607340a18e75d0af7dfff268",
            "d2db6341a62c44bc853c827de3dcb70b",
            "66a29203e7694b4792122b3e5d7fd92d",
            "4a730ae1abf14682819bc29bbe5655ac",
            "6d4d4d7f6d6e4f3da65dd8b6f54a95e7",
            "e37ae973cb5b43ec80a2c6c149f09960",
            "015f261114e44ec89f69fb3dade54d78",
            "1c384df4523c440ca00319665702149c",
            "b4a790d029d44878be0c33f2b6cbf0b2",
            "2290a5b86b07493eb162e7287cdad7a4",
            "5d4f547d1f9e471a858b4a4ce9c10a70",
            "30949fd09a444996a2e2fd1047949ccb",
            "a5d30a1c40bc4a8f8b5ee8f682c41418",
            "7ed95facccf14eb5a68720d072c9a0de",
            "dc75d4468f8d4dc4a324ae201ec74654",
            "52dac43b3d784a2696a3d0d5057d35dd",
            "f693bf3a3b6a4563a44e4c76bbaccf91",
            "4ffe5086f37e423c9679becdd2b9d46d",
            "0e82ef4ca4c644babbce044a405522ed",
            "a6c4500026f84537ad5aa954bd635a73",
            "1bf40450d2bf40e0809c77573581e0e8",
            "f7e6def78c644bdab1f194ec8428c1f7",
            "6b08fbfb1d3f479797471135ef28185b",
            "a98ff48a40c4416f9f6e2bb553592f6e",
            "879e5a8835644da5945b975e1560e5d8",
            "00bb85a96c604d87a2ec75c30837d5e4",
            "d42fd0a30b57432dbcc42d021990b906",
            "82ebc24c4c574c27b09a1a2cd5c4f3df"
          ]
        },
        "id": "NGAzIfFE-3t1",
        "outputId": "bab55aa9-505e-4aef-cd97-dd9e59cc275c"
      },
      "source": [
        "tokenized_datasets = dataset_dict.map(tokenize_and_align_labels, batched=True)"
      ],
      "execution_count": null,
      "outputs": [
        {
          "output_type": "display_data",
          "data": {
            "application/vnd.jupyter.widget-view+json": {
              "model_id": "1f8560a9557b4d158bf4f87af4df1345",
              "version_minor": 0,
              "version_major": 2
            },
            "text/plain": [
              "  0%|          | 0/13 [00:00<?, ?ba/s]"
            ]
          },
          "metadata": {}
        },
        {
          "output_type": "display_data",
          "data": {
            "application/vnd.jupyter.widget-view+json": {
              "model_id": "015f261114e44ec89f69fb3dade54d78",
              "version_minor": 0,
              "version_major": 2
            },
            "text/plain": [
              "  0%|          | 0/1 [00:00<?, ?ba/s]"
            ]
          },
          "metadata": {}
        },
        {
          "output_type": "display_data",
          "data": {
            "application/vnd.jupyter.widget-view+json": {
              "model_id": "4ffe5086f37e423c9679becdd2b9d46d",
              "version_minor": 0,
              "version_major": 2
            },
            "text/plain": [
              "  0%|          | 0/1 [00:00<?, ?ba/s]"
            ]
          },
          "metadata": {}
        }
      ]
    },
    {
      "cell_type": "code",
      "metadata": {
        "colab": {
          "base_uri": "https://localhost:8080/"
        },
        "id": "ejTQRDIX-3v9",
        "outputId": "1df9d4dd-33a7-4ecd-a65e-ecfbfc027d3b"
      },
      "source": [
        "tokenized_datasets"
      ],
      "execution_count": null,
      "outputs": [
        {
          "output_type": "execute_result",
          "data": {
            "text/plain": [
              "DatasetDict({\n",
              "    train: Dataset({\n",
              "        features: ['attention_mask', 'input_ids', 'labels', 'ner_tags', 'token_type_ids', 'tokens'],\n",
              "        num_rows: 12533\n",
              "    })\n",
              "    validation: Dataset({\n",
              "        features: ['attention_mask', 'input_ids', 'labels', 'ner_tags', 'token_type_ids', 'tokens'],\n",
              "        num_rows: 257\n",
              "    })\n",
              "    test: Dataset({\n",
              "        features: ['attention_mask', 'input_ids', 'labels', 'ner_tags', 'token_type_ids', 'tokens'],\n",
              "        num_rows: 257\n",
              "    })\n",
              "})"
            ]
          },
          "metadata": {},
          "execution_count": 235
        }
      ]
    },
    {
      "cell_type": "markdown",
      "metadata": {
        "id": "x5IpR3FK_BQd"
      },
      "source": [
        "# Fine-tuning BERT model\n"
      ]
    },
    {
      "cell_type": "markdown",
      "metadata": {
        "id": "fg8GJebG_ESs"
      },
      "source": [
        "## Initialize the model"
      ]
    },
    {
      "cell_type": "code",
      "metadata": {
        "colab": {
          "base_uri": "https://localhost:8080/",
          "height": 160,
          "referenced_widgets": [
            "7d5a8e8426da4d038b061dd61cc578b4",
            "268cfc101afe49af84926635e0e3e7d4",
            "9f5eaf96eeef4c2f80a02cf2093fae4a",
            "6e645d013e2443ff80e4f13a6d00cfac",
            "7f896644e401460cb5cf2300ad306ac8",
            "668aa1c25e8d4bc195b9b4d6bfe2a1d2",
            "3943cfdb4acf48e4b48f60a820a48682",
            "7d9d5b78f6fe4eaa952eee84ca32e9d3",
            "7f1bce8963064119affc744f4dc602b8",
            "9ea68dec881a42e884ae38136b0c7bcd",
            "a7e7bcea6f414c1b8f8ce14a3a4ed950"
          ]
        },
        "id": "IIw25IO6-3x-",
        "outputId": "d6e71210-791e-47d1-87cc-b32700909dbb"
      },
      "source": [
        "model = AutoModelForTokenClassification.from_pretrained(model_checkpoint, num_labels=len(label_list))"
      ],
      "execution_count": null,
      "outputs": [
        {
          "output_type": "display_data",
          "data": {
            "application/vnd.jupyter.widget-view+json": {
              "model_id": "7d5a8e8426da4d038b061dd61cc578b4",
              "version_minor": 0,
              "version_major": 2
            },
            "text/plain": [
              "Downloading:   0%|          | 0.00/672M [00:00<?, ?B/s]"
            ]
          },
          "metadata": {}
        },
        {
          "output_type": "stream",
          "name": "stderr",
          "text": [
            "Some weights of the model checkpoint at bert-base-multilingual-uncased were not used when initializing BertForTokenClassification: ['cls.seq_relationship.weight', 'cls.predictions.transform.dense.weight', 'cls.predictions.decoder.weight', 'cls.predictions.bias', 'cls.predictions.transform.LayerNorm.bias', 'cls.predictions.transform.dense.bias', 'cls.seq_relationship.bias', 'cls.predictions.transform.LayerNorm.weight']\n",
            "- This IS expected if you are initializing BertForTokenClassification from the checkpoint of a model trained on another task or with another architecture (e.g. initializing a BertForSequenceClassification model from a BertForPreTraining model).\n",
            "- This IS NOT expected if you are initializing BertForTokenClassification from the checkpoint of a model that you expect to be exactly identical (initializing a BertForSequenceClassification model from a BertForSequenceClassification model).\n",
            "Some weights of BertForTokenClassification were not initialized from the model checkpoint at bert-base-multilingual-uncased and are newly initialized: ['classifier.weight', 'classifier.bias']\n",
            "You should probably TRAIN this model on a down-stream task to be able to use it for predictions and inference.\n"
          ]
        }
      ]
    },
    {
      "cell_type": "code",
      "metadata": {
        "id": "D9gAPWI_-3zv"
      },
      "source": [
        "#@title Initialize arguments\n",
        "args = TrainingArguments(\n",
        "    \"test-ner\",\n",
        "    evaluation_strategy = \"epoch\",\n",
        "    learning_rate=2e-5,\n",
        "    per_device_train_batch_size=batch_size,\n",
        "    per_device_eval_batch_size=batch_size,\n",
        "    num_train_epochs=10,\n",
        "    weight_decay=0.01,\n",
        ")"
      ],
      "execution_count": null,
      "outputs": []
    },
    {
      "cell_type": "code",
      "metadata": {
        "id": "wk6QWhDt-hZQ"
      },
      "source": [
        "#@title Specify tokenizer for the model\n",
        "data_collator = DataCollatorForTokenClassification(tokenizer)"
      ],
      "execution_count": null,
      "outputs": []
    },
    {
      "cell_type": "markdown",
      "metadata": {
        "id": "FqJ3JxTW_J1D"
      },
      "source": [
        "#Define the metric for the model"
      ]
    },
    {
      "cell_type": "code",
      "metadata": {
        "colab": {
          "base_uri": "https://localhost:8080/",
          "height": 49,
          "referenced_widgets": [
            "c74e372cead84329b8e0a0a6069d8902",
            "0c953265033647b19310e8c1c3ce4ad3",
            "b18866de2deb43ab9837e8459b671241",
            "4b38cbcda7364535a77fc65c55839877",
            "bda8d973218d47779559da0caef7ff6a",
            "6cd1eceb554048ce8217fb1e74cdfdb1",
            "6a633959a45e46ebb6702bf9a138c417",
            "6b238da8bb8b403990dc93471f40f2c9",
            "aeec92cb0d7d42be9a62e9db25b3a3a5",
            "e0b1f8d715e3402aa756508b12d44ba3",
            "59f1ebaa784642a7a5e369437b40946a"
          ]
        },
        "id": "60x3bG02_MdH",
        "outputId": "14f937b6-7070-45b1-c6aa-1240c3bf3f89"
      },
      "source": [
        "metric = load_metric(\"seqeval\")"
      ],
      "execution_count": null,
      "outputs": [
        {
          "output_type": "display_data",
          "data": {
            "application/vnd.jupyter.widget-view+json": {
              "model_id": "c74e372cead84329b8e0a0a6069d8902",
              "version_minor": 0,
              "version_major": 2
            },
            "text/plain": [
              "Downloading:   0%|          | 0.00/2.48k [00:00<?, ?B/s]"
            ]
          },
          "metadata": {}
        }
      ]
    },
    {
      "cell_type": "code",
      "metadata": {
        "id": "NDQReZ4Q_Mi5"
      },
      "source": [
        "def compute_metrics(p):\n",
        "    predictions, labels = p\n",
        "    predictions = np.argmax(predictions, axis=2)\n",
        "\n",
        "    # Remove ignored index (special tokens)\n",
        "    true_predictions = [\n",
        "        [label_list[p] for (p, l) in zip(prediction, label) if l != -100]\n",
        "        for prediction, label in zip(predictions, labels)\n",
        "    ]\n",
        "    true_labels = [\n",
        "        [label_list[l] for (p, l) in zip(prediction, label) if l != -100]\n",
        "        for prediction, label in zip(predictions, labels)\n",
        "    ]\n",
        "\n",
        "    results = metric.compute(predictions=true_predictions, references=true_labels)\n",
        "    return {\n",
        "        \"precision\": results[\"overall_precision\"],\n",
        "        \"recall\": results[\"overall_recall\"],\n",
        "        \"f1\": results[\"overall_f1\"],\n",
        "        \"accuracy\": results[\"overall_accuracy\"],\n",
        "    }"
      ],
      "execution_count": null,
      "outputs": []
    },
    {
      "cell_type": "markdown",
      "metadata": {
        "id": "_gnGV686_QuX"
      },
      "source": [
        "## Initialize the Tranier parameters"
      ]
    },
    {
      "cell_type": "code",
      "metadata": {
        "id": "yp73LxKn_Mlf"
      },
      "source": [
        "trainer = Trainer(\n",
        "    model,\n",
        "    args,\n",
        "    train_dataset=tokenized_datasets['train'],\n",
        "    eval_dataset=tokenized_datasets['validation'],\n",
        "    data_collator=data_collator,\n",
        "    tokenizer=tokenizer,\n",
        "    compute_metrics=compute_metrics\n",
        ")"
      ],
      "execution_count": null,
      "outputs": []
    },
    {
      "cell_type": "markdown",
      "metadata": {
        "id": "0eVj3bT1_UGm"
      },
      "source": [
        "## Train model"
      ]
    },
    {
      "cell_type": "code",
      "metadata": {
        "colab": {
          "base_uri": "https://localhost:8080/",
          "height": 1000
        },
        "id": "zbH2u0gy_MoD",
        "outputId": "559e0df1-9a1e-4ab4-ac6c-3e26a2a6025e"
      },
      "source": [
        "trainer.train()"
      ],
      "execution_count": null,
      "outputs": [
        {
          "metadata": {
            "tags": null
          },
          "name": "stderr",
          "output_type": "stream",
          "text": [
            "The following columns in the training set  don't have a corresponding argument in `BertForTokenClassification.forward` and have been ignored: tokens, ner_tags.\n",
            "***** Running training *****\n",
            "  Num examples = 12533\n",
            "  Num Epochs = 10\n",
            "  Instantaneous batch size per device = 16\n",
            "  Total train batch size (w. parallel, distributed & accumulation) = 16\n",
            "  Gradient Accumulation steps = 1\n",
            "  Total optimization steps = 7840\n"
          ]
        },
        {
          "data": {
            "text/html": [
              "\n",
              "    <div>\n",
              "      \n",
              "      <progress value='1933' max='7840' style='width:300px; height:20px; vertical-align: middle;'></progress>\n",
              "      [1933/7840 11:10 < 34:10, 2.88 it/s, Epoch 2.46/10]\n",
              "    </div>\n",
              "    <table border=\"1\" class=\"dataframe\">\n",
              "  <thead>\n",
              "    <tr style=\"text-align: left;\">\n",
              "      <th>Epoch</th>\n",
              "      <th>Training Loss</th>\n",
              "      <th>Validation Loss</th>\n",
              "      <th>Precision</th>\n",
              "      <th>Recall</th>\n",
              "      <th>F1</th>\n",
              "      <th>Accuracy</th>\n",
              "    </tr>\n",
              "  </thead>\n",
              "  <tbody>\n",
              "    <tr>\n",
              "      <td>1</td>\n",
              "      <td>0.098000</td>\n",
              "      <td>0.155774</td>\n",
              "      <td>0.807971</td>\n",
              "      <td>0.846300</td>\n",
              "      <td>0.826691</td>\n",
              "      <td>0.951622</td>\n",
              "    </tr>\n",
              "    <tr>\n",
              "      <td>2</td>\n",
              "      <td>0.027300</td>\n",
              "      <td>0.175983</td>\n",
              "      <td>0.782895</td>\n",
              "      <td>0.903226</td>\n",
              "      <td>0.838767</td>\n",
              "      <td>0.952198</td>\n",
              "    </tr>\n",
              "  </tbody>\n",
              "</table><p>"
            ],
            "text/plain": [
              "<IPython.core.display.HTML object>"
            ]
          },
          "metadata": {},
          "output_type": "display_data"
        },
        {
          "metadata": {
            "tags": null
          },
          "name": "stderr",
          "output_type": "stream",
          "text": [
            "Saving model checkpoint to test-ner/checkpoint-500\n",
            "Configuration saved in test-ner/checkpoint-500/config.json\n",
            "Model weights saved in test-ner/checkpoint-500/pytorch_model.bin\n",
            "tokenizer config file saved in test-ner/checkpoint-500/tokenizer_config.json\n",
            "Special tokens file saved in test-ner/checkpoint-500/special_tokens_map.json\n",
            "The following columns in the evaluation set  don't have a corresponding argument in `BertForTokenClassification.forward` and have been ignored: tokens, ner_tags.\n",
            "***** Running Evaluation *****\n",
            "  Num examples = 257\n",
            "  Batch size = 16\n",
            "Saving model checkpoint to test-ner/checkpoint-1000\n",
            "Configuration saved in test-ner/checkpoint-1000/config.json\n",
            "Model weights saved in test-ner/checkpoint-1000/pytorch_model.bin\n",
            "tokenizer config file saved in test-ner/checkpoint-1000/tokenizer_config.json\n",
            "Special tokens file saved in test-ner/checkpoint-1000/special_tokens_map.json\n",
            "Saving model checkpoint to test-ner/checkpoint-1500\n",
            "Configuration saved in test-ner/checkpoint-1500/config.json\n",
            "Model weights saved in test-ner/checkpoint-1500/pytorch_model.bin\n",
            "tokenizer config file saved in test-ner/checkpoint-1500/tokenizer_config.json\n",
            "Special tokens file saved in test-ner/checkpoint-1500/special_tokens_map.json\n",
            "The following columns in the evaluation set  don't have a corresponding argument in `BertForTokenClassification.forward` and have been ignored: tokens, ner_tags.\n",
            "***** Running Evaluation *****\n",
            "  Num examples = 257\n",
            "  Batch size = 16\n"
          ]
        },
        {
          "output_type": "display_data",
          "data": {
            "text/html": [
              "\n",
              "    <div>\n",
              "      \n",
              "      <progress value='7840' max='7840' style='width:300px; height:20px; vertical-align: middle;'></progress>\n",
              "      [7840/7840 46:04, Epoch 10/10]\n",
              "    </div>\n",
              "    <table border=\"1\" class=\"dataframe\">\n",
              "  <thead>\n",
              "    <tr style=\"text-align: left;\">\n",
              "      <th>Epoch</th>\n",
              "      <th>Training Loss</th>\n",
              "      <th>Validation Loss</th>\n",
              "      <th>Precision</th>\n",
              "      <th>Recall</th>\n",
              "      <th>F1</th>\n",
              "      <th>Accuracy</th>\n",
              "    </tr>\n",
              "  </thead>\n",
              "  <tbody>\n",
              "    <tr>\n",
              "      <td>1</td>\n",
              "      <td>0.098000</td>\n",
              "      <td>0.155774</td>\n",
              "      <td>0.807971</td>\n",
              "      <td>0.846300</td>\n",
              "      <td>0.826691</td>\n",
              "      <td>0.951622</td>\n",
              "    </tr>\n",
              "    <tr>\n",
              "      <td>2</td>\n",
              "      <td>0.027300</td>\n",
              "      <td>0.175983</td>\n",
              "      <td>0.782895</td>\n",
              "      <td>0.903226</td>\n",
              "      <td>0.838767</td>\n",
              "      <td>0.952198</td>\n",
              "    </tr>\n",
              "    <tr>\n",
              "      <td>3</td>\n",
              "      <td>0.017200</td>\n",
              "      <td>0.155943</td>\n",
              "      <td>0.849722</td>\n",
              "      <td>0.869070</td>\n",
              "      <td>0.859287</td>\n",
              "      <td>0.961989</td>\n",
              "    </tr>\n",
              "    <tr>\n",
              "      <td>4</td>\n",
              "      <td>0.008900</td>\n",
              "      <td>0.217303</td>\n",
              "      <td>0.836007</td>\n",
              "      <td>0.889943</td>\n",
              "      <td>0.862132</td>\n",
              "      <td>0.957957</td>\n",
              "    </tr>\n",
              "    <tr>\n",
              "      <td>5</td>\n",
              "      <td>0.006900</td>\n",
              "      <td>0.223369</td>\n",
              "      <td>0.833977</td>\n",
              "      <td>0.819734</td>\n",
              "      <td>0.826794</td>\n",
              "      <td>0.954502</td>\n",
              "    </tr>\n",
              "    <tr>\n",
              "      <td>6</td>\n",
              "      <td>0.004300</td>\n",
              "      <td>0.254812</td>\n",
              "      <td>0.841210</td>\n",
              "      <td>0.844402</td>\n",
              "      <td>0.842803</td>\n",
              "      <td>0.956038</td>\n",
              "    </tr>\n",
              "    <tr>\n",
              "      <td>7</td>\n",
              "      <td>0.002900</td>\n",
              "      <td>0.284776</td>\n",
              "      <td>0.814159</td>\n",
              "      <td>0.872865</td>\n",
              "      <td>0.842491</td>\n",
              "      <td>0.953926</td>\n",
              "    </tr>\n",
              "    <tr>\n",
              "      <td>8</td>\n",
              "      <td>0.001700</td>\n",
              "      <td>0.253180</td>\n",
              "      <td>0.824561</td>\n",
              "      <td>0.891841</td>\n",
              "      <td>0.856882</td>\n",
              "      <td>0.956422</td>\n",
              "    </tr>\n",
              "    <tr>\n",
              "      <td>9</td>\n",
              "      <td>0.001200</td>\n",
              "      <td>0.268093</td>\n",
              "      <td>0.850662</td>\n",
              "      <td>0.853890</td>\n",
              "      <td>0.852273</td>\n",
              "      <td>0.958725</td>\n",
              "    </tr>\n",
              "    <tr>\n",
              "      <td>10</td>\n",
              "      <td>0.000900</td>\n",
              "      <td>0.273118</td>\n",
              "      <td>0.840074</td>\n",
              "      <td>0.867173</td>\n",
              "      <td>0.853408</td>\n",
              "      <td>0.958725</td>\n",
              "    </tr>\n",
              "  </tbody>\n",
              "</table><p>"
            ],
            "text/plain": [
              "<IPython.core.display.HTML object>"
            ]
          },
          "metadata": {}
        },
        {
          "output_type": "stream",
          "name": "stderr",
          "text": [
            "Saving model checkpoint to test-ner/checkpoint-2000\n",
            "Configuration saved in test-ner/checkpoint-2000/config.json\n",
            "Model weights saved in test-ner/checkpoint-2000/pytorch_model.bin\n",
            "tokenizer config file saved in test-ner/checkpoint-2000/tokenizer_config.json\n",
            "Special tokens file saved in test-ner/checkpoint-2000/special_tokens_map.json\n",
            "The following columns in the evaluation set  don't have a corresponding argument in `BertForTokenClassification.forward` and have been ignored: tokens, ner_tags.\n",
            "***** Running Evaluation *****\n",
            "  Num examples = 257\n",
            "  Batch size = 16\n",
            "Saving model checkpoint to test-ner/checkpoint-2500\n",
            "Configuration saved in test-ner/checkpoint-2500/config.json\n",
            "Model weights saved in test-ner/checkpoint-2500/pytorch_model.bin\n",
            "tokenizer config file saved in test-ner/checkpoint-2500/tokenizer_config.json\n",
            "Special tokens file saved in test-ner/checkpoint-2500/special_tokens_map.json\n",
            "Saving model checkpoint to test-ner/checkpoint-3000\n",
            "Configuration saved in test-ner/checkpoint-3000/config.json\n",
            "Model weights saved in test-ner/checkpoint-3000/pytorch_model.bin\n",
            "tokenizer config file saved in test-ner/checkpoint-3000/tokenizer_config.json\n",
            "Special tokens file saved in test-ner/checkpoint-3000/special_tokens_map.json\n",
            "The following columns in the evaluation set  don't have a corresponding argument in `BertForTokenClassification.forward` and have been ignored: tokens, ner_tags.\n",
            "***** Running Evaluation *****\n",
            "  Num examples = 257\n",
            "  Batch size = 16\n",
            "Saving model checkpoint to test-ner/checkpoint-3500\n",
            "Configuration saved in test-ner/checkpoint-3500/config.json\n",
            "Model weights saved in test-ner/checkpoint-3500/pytorch_model.bin\n",
            "tokenizer config file saved in test-ner/checkpoint-3500/tokenizer_config.json\n",
            "Special tokens file saved in test-ner/checkpoint-3500/special_tokens_map.json\n",
            "The following columns in the evaluation set  don't have a corresponding argument in `BertForTokenClassification.forward` and have been ignored: tokens, ner_tags.\n",
            "***** Running Evaluation *****\n",
            "  Num examples = 257\n",
            "  Batch size = 16\n",
            "Saving model checkpoint to test-ner/checkpoint-4000\n",
            "Configuration saved in test-ner/checkpoint-4000/config.json\n",
            "Model weights saved in test-ner/checkpoint-4000/pytorch_model.bin\n",
            "tokenizer config file saved in test-ner/checkpoint-4000/tokenizer_config.json\n",
            "Special tokens file saved in test-ner/checkpoint-4000/special_tokens_map.json\n",
            "Saving model checkpoint to test-ner/checkpoint-4500\n",
            "Configuration saved in test-ner/checkpoint-4500/config.json\n",
            "Model weights saved in test-ner/checkpoint-4500/pytorch_model.bin\n",
            "tokenizer config file saved in test-ner/checkpoint-4500/tokenizer_config.json\n",
            "Special tokens file saved in test-ner/checkpoint-4500/special_tokens_map.json\n",
            "The following columns in the evaluation set  don't have a corresponding argument in `BertForTokenClassification.forward` and have been ignored: tokens, ner_tags.\n",
            "***** Running Evaluation *****\n",
            "  Num examples = 257\n",
            "  Batch size = 16\n",
            "Saving model checkpoint to test-ner/checkpoint-5000\n",
            "Configuration saved in test-ner/checkpoint-5000/config.json\n",
            "Model weights saved in test-ner/checkpoint-5000/pytorch_model.bin\n",
            "tokenizer config file saved in test-ner/checkpoint-5000/tokenizer_config.json\n",
            "Special tokens file saved in test-ner/checkpoint-5000/special_tokens_map.json\n",
            "The following columns in the evaluation set  don't have a corresponding argument in `BertForTokenClassification.forward` and have been ignored: tokens, ner_tags.\n",
            "***** Running Evaluation *****\n",
            "  Num examples = 257\n",
            "  Batch size = 16\n",
            "Saving model checkpoint to test-ner/checkpoint-5500\n",
            "Configuration saved in test-ner/checkpoint-5500/config.json\n",
            "Model weights saved in test-ner/checkpoint-5500/pytorch_model.bin\n",
            "tokenizer config file saved in test-ner/checkpoint-5500/tokenizer_config.json\n",
            "Special tokens file saved in test-ner/checkpoint-5500/special_tokens_map.json\n",
            "Saving model checkpoint to test-ner/checkpoint-6000\n",
            "Configuration saved in test-ner/checkpoint-6000/config.json\n",
            "Model weights saved in test-ner/checkpoint-6000/pytorch_model.bin\n",
            "tokenizer config file saved in test-ner/checkpoint-6000/tokenizer_config.json\n",
            "Special tokens file saved in test-ner/checkpoint-6000/special_tokens_map.json\n",
            "The following columns in the evaluation set  don't have a corresponding argument in `BertForTokenClassification.forward` and have been ignored: tokens, ner_tags.\n",
            "***** Running Evaluation *****\n",
            "  Num examples = 257\n",
            "  Batch size = 16\n",
            "Saving model checkpoint to test-ner/checkpoint-6500\n",
            "Configuration saved in test-ner/checkpoint-6500/config.json\n",
            "Model weights saved in test-ner/checkpoint-6500/pytorch_model.bin\n",
            "tokenizer config file saved in test-ner/checkpoint-6500/tokenizer_config.json\n",
            "Special tokens file saved in test-ner/checkpoint-6500/special_tokens_map.json\n",
            "Saving model checkpoint to test-ner/checkpoint-7000\n",
            "Configuration saved in test-ner/checkpoint-7000/config.json\n",
            "Model weights saved in test-ner/checkpoint-7000/pytorch_model.bin\n",
            "tokenizer config file saved in test-ner/checkpoint-7000/tokenizer_config.json\n",
            "Special tokens file saved in test-ner/checkpoint-7000/special_tokens_map.json\n",
            "The following columns in the evaluation set  don't have a corresponding argument in `BertForTokenClassification.forward` and have been ignored: tokens, ner_tags.\n",
            "***** Running Evaluation *****\n",
            "  Num examples = 257\n",
            "  Batch size = 16\n",
            "Saving model checkpoint to test-ner/checkpoint-7500\n",
            "Configuration saved in test-ner/checkpoint-7500/config.json\n",
            "Model weights saved in test-ner/checkpoint-7500/pytorch_model.bin\n",
            "tokenizer config file saved in test-ner/checkpoint-7500/tokenizer_config.json\n",
            "Special tokens file saved in test-ner/checkpoint-7500/special_tokens_map.json\n",
            "The following columns in the evaluation set  don't have a corresponding argument in `BertForTokenClassification.forward` and have been ignored: tokens, ner_tags.\n",
            "***** Running Evaluation *****\n",
            "  Num examples = 257\n",
            "  Batch size = 16\n",
            "\n",
            "\n",
            "Training completed. Do not forget to share your model on huggingface.co/models =)\n",
            "\n",
            "\n"
          ]
        },
        {
          "output_type": "execute_result",
          "data": {
            "text/plain": [
              "TrainOutput(global_step=7840, training_loss=0.015022798234178703, metrics={'train_runtime': 2765.5137, 'train_samples_per_second': 45.319, 'train_steps_per_second': 2.835, 'total_flos': 2391015401100690.0, 'train_loss': 0.015022798234178703, 'epoch': 10.0})"
            ]
          },
          "metadata": {},
          "execution_count": 242
        }
      ]
    },
    {
      "cell_type": "markdown",
      "metadata": {
        "id": "wIZXRj83_XMV"
      },
      "source": [
        "## Evaluating the model"
      ]
    },
    {
      "cell_type": "code",
      "metadata": {
        "colab": {
          "base_uri": "https://localhost:8080/",
          "height": 274
        },
        "id": "6FaZeDBz_MqR",
        "outputId": "b86c295e-c73f-4628-aad5-3f644eacf9cb"
      },
      "source": [
        "trainer.evaluate()"
      ],
      "execution_count": null,
      "outputs": [
        {
          "output_type": "stream",
          "name": "stderr",
          "text": [
            "The following columns in the evaluation set  don't have a corresponding argument in `BertForTokenClassification.forward` and have been ignored: tokens, ner_tags.\n",
            "***** Running Evaluation *****\n",
            "  Num examples = 257\n",
            "  Batch size = 16\n"
          ]
        },
        {
          "output_type": "display_data",
          "data": {
            "text/html": [
              "\n",
              "    <div>\n",
              "      \n",
              "      <progress value='17' max='17' style='width:300px; height:20px; vertical-align: middle;'></progress>\n",
              "      [17/17 00:01]\n",
              "    </div>\n",
              "    "
            ],
            "text/plain": [
              "<IPython.core.display.HTML object>"
            ]
          },
          "metadata": {}
        },
        {
          "output_type": "execute_result",
          "data": {
            "text/plain": [
              "{'epoch': 10.0,\n",
              " 'eval_accuracy': 0.958725283163755,\n",
              " 'eval_f1': 0.8534080298786181,\n",
              " 'eval_loss': 0.27311787009239197,\n",
              " 'eval_precision': 0.8400735294117647,\n",
              " 'eval_recall': 0.8671726755218216,\n",
              " 'eval_runtime': 2.3372,\n",
              " 'eval_samples_per_second': 109.958,\n",
              " 'eval_steps_per_second': 7.274}"
            ]
          },
          "metadata": {},
          "execution_count": 243
        }
      ]
    },
    {
      "cell_type": "markdown",
      "metadata": {
        "id": "xlBsL4jKwx6F"
      },
      "source": [
        "## Test model "
      ]
    },
    {
      "cell_type": "code",
      "metadata": {
        "colab": {
          "base_uri": "https://localhost:8080/",
          "height": 328
        },
        "id": "5xzylEQZ_MsT",
        "outputId": "62873b19-5e0a-4c4a-fd32-c8f1344830b5"
      },
      "source": [
        "predictions, labels, _ = trainer.predict(tokenized_datasets['test'])\n",
        "tp = predictions\n",
        "predictions = np.argmax(predictions, axis=2)\n",
        "\n",
        "# Remove ignored index (special tokens)\n",
        "true_predictions = [\n",
        "    [label_list[p] for (p, l) in zip(prediction, label) if l != -100]\n",
        "    for prediction, label in zip(predictions, labels)\n",
        "]\n",
        "true_labels = [\n",
        "    [label_list[l] for (p, l) in zip(prediction, label) if l != -100]\n",
        "    for prediction, label in zip(predictions, labels)\n",
        "]\n",
        "\n",
        "results = metric.compute(predictions=true_predictions, references=true_labels)\n",
        "results"
      ],
      "execution_count": null,
      "outputs": [
        {
          "output_type": "stream",
          "name": "stderr",
          "text": [
            "The following columns in the test set  don't have a corresponding argument in `BertForTokenClassification.forward` and have been ignored: tokens, ner_tags.\n",
            "***** Running Prediction *****\n",
            "  Num examples = 257\n",
            "  Batch size = 16\n"
          ]
        },
        {
          "output_type": "display_data",
          "data": {
            "text/html": [
              "\n",
              "    <div>\n",
              "      \n",
              "      <progress value='34' max='17' style='width:300px; height:20px; vertical-align: middle;'></progress>\n",
              "      [17/17 00:08]\n",
              "    </div>\n",
              "    "
            ],
            "text/plain": [
              "<IPython.core.display.HTML object>"
            ]
          },
          "metadata": {}
        },
        {
          "output_type": "execute_result",
          "data": {
            "text/plain": [
              "{'COM': {'f1': 0.7969924812030075,\n",
              "  'number': 201,\n",
              "  'precision': 0.803030303030303,\n",
              "  'recall': 0.7910447761194029},\n",
              " 'JOB': {'f1': 0.9307958477508651,\n",
              "  'number': 289,\n",
              "  'precision': 0.9307958477508651,\n",
              "  'recall': 0.9307958477508651},\n",
              " 'overall_accuracy': 0.9664096916299559,\n",
              " 'overall_f1': 0.8761514841351074,\n",
              " 'overall_precision': 0.8788501026694046,\n",
              " 'overall_recall': 0.8734693877551021}"
            ]
          },
          "metadata": {},
          "execution_count": 244
        }
      ]
    },
    {
      "cell_type": "code",
      "metadata": {
        "colab": {
          "base_uri": "https://localhost:8080/"
        },
        "id": "73IBfxM2VSMm",
        "outputId": "1be82031-a91f-427f-9c44-be860cdb218f"
      },
      "source": [
        "tokenized_datasets['test']"
      ],
      "execution_count": null,
      "outputs": [
        {
          "data": {
            "text/plain": [
              "Dataset({\n",
              "    features: ['attention_mask', 'input_ids', 'labels', 'ner_tags', 'token_type_ids', 'tokens'],\n",
              "    num_rows: 257\n",
              "})"
            ]
          },
          "execution_count": 67,
          "metadata": {
            "tags": []
          },
          "output_type": "execute_result"
        }
      ]
    },
    {
      "cell_type": "code",
      "metadata": {
        "id": "Bkc6L6EOV6Uv"
      },
      "source": [
        "#tokenized_datasets['test'][0]"
      ],
      "execution_count": null,
      "outputs": []
    },
    {
      "cell_type": "code",
      "metadata": {
        "colab": {
          "base_uri": "https://localhost:8080/"
        },
        "id": "2CefZcw_VC7N",
        "outputId": "1731008c-343e-4b21-8a40-e13436fc16bd"
      },
      "source": [
        "predictions[0]"
      ],
      "execution_count": null,
      "outputs": [
        {
          "data": {
            "text/plain": [
              "array([0, 1, 0, 3, 4, 4, 0, 0, 0, 0, 0, 0, 0, 0, 0, 0, 0, 0, 0, 0, 0, 0,\n",
              "       0, 0, 0, 0, 0, 0, 0, 0, 3, 3, 4, 0, 0, 0, 0, 0, 0, 0, 0, 0, 0, 0,\n",
              "       0, 0, 0, 0, 0, 0, 0, 0, 0, 0, 0, 0, 0, 0, 0, 0, 0, 0, 0, 0, 0, 0,\n",
              "       0, 0, 0, 0, 0, 0, 0, 0, 0, 0, 0, 0, 0, 0, 0, 0, 0, 0, 0, 0, 0, 0,\n",
              "       0, 0, 0, 0, 0, 0, 0, 0, 0, 0, 0, 0, 0, 0, 0, 0, 0, 0, 0, 0, 0, 0,\n",
              "       0, 0, 0, 0, 0, 0, 0, 0, 0, 0, 0, 0, 0, 0, 0, 0, 0, 0, 0, 0, 0, 0,\n",
              "       0, 0, 0, 0, 0, 0, 0, 0, 0, 0, 0, 0, 0, 0, 0, 0, 0, 0, 0, 0, 0, 0,\n",
              "       0, 0, 0, 0, 0, 0, 0, 0, 0, 0, 0, 0, 0, 0, 0, 0, 0, 0, 0, 0, 0, 0,\n",
              "       0, 0, 0, 0, 0, 0, 0, 0, 0, 0, 0, 0, 0, 0, 0, 0, 0, 0, 0, 0, 0, 0,\n",
              "       0, 0, 0, 0, 0, 0, 0, 0, 0, 0, 0, 0, 0, 0, 0, 0, 0, 0, 0, 0, 0, 0,\n",
              "       0, 0, 0, 0, 0, 0, 0, 0, 0, 0, 0, 0, 0, 0, 0, 0, 0, 0, 0, 0, 0, 0,\n",
              "       0, 0, 0, 0, 0, 0, 0, 0, 0, 0, 0, 0, 0, 0, 0, 0, 0, 0, 0, 0, 0, 0,\n",
              "       0, 0, 0, 0, 0, 0, 0, 0, 0, 0, 0, 0, 0, 0, 0, 0, 0, 0, 0, 0, 0, 0,\n",
              "       0, 0, 0, 0, 0, 0, 0])"
            ]
          },
          "execution_count": 76,
          "metadata": {
            "tags": []
          },
          "output_type": "execute_result"
        }
      ]
    },
    {
      "cell_type": "markdown",
      "metadata": {
        "id": "-KjKfrClmD2M"
      },
      "source": [
        "## Test Model on two sentences"
      ]
    },
    {
      "cell_type": "code",
      "metadata": {
        "colab": {
          "base_uri": "https://localhost:8080/"
        },
        "id": "Wq7zxk1Hl3TS",
        "outputId": "eaee7bb4-186d-4bad-8f2f-c1bbfbb18e0f"
      },
      "source": [
        "input_list = ['Viki ; Software engineer ; Tháng 7 năm 2012 - Tháng 9 năm 2015 ; I help build data warehousing infrastructure to power data-driven decision makings .',\n",
        "              'Facebook App ; Software Engineer Intern ; 12 tháng 9 , 2011 - Tháng 12 năm 2011 ; Palo Alto , California ; I help make sure more people get addicted to Facebook .']\n",
        "input_sent_tokenized = tokenizer(input_list)\n",
        "input_sent_dataset = Dataset.from_dict(input_sent_tokenized)\n",
        "input_sent_dataset"
      ],
      "execution_count": null,
      "outputs": [
        {
          "output_type": "execute_result",
          "data": {
            "text/plain": [
              "Dataset({\n",
              "    features: ['input_ids', 'token_type_ids', 'attention_mask'],\n",
              "    num_rows: 2\n",
              "})"
            ]
          },
          "metadata": {},
          "execution_count": 245
        }
      ]
    },
    {
      "cell_type": "code",
      "metadata": {
        "colab": {
          "base_uri": "https://localhost:8080/",
          "height": 1000
        },
        "id": "1D_ULt5ems48",
        "outputId": "4841db7f-e217-4ebc-da39-9d2e577d47b9"
      },
      "source": [
        "trainer.predict(input_sent_dataset)"
      ],
      "execution_count": null,
      "outputs": [
        {
          "output_type": "stream",
          "name": "stderr",
          "text": [
            "***** Running Prediction *****\n",
            "  Num examples = 2\n",
            "  Batch size = 16\n"
          ]
        },
        {
          "output_type": "display_data",
          "data": {
            "text/html": [
              "\n",
              "    <div>\n",
              "      \n",
              "      <progress value='35' max='17' style='width:300px; height:20px; vertical-align: middle;'></progress>\n",
              "      [17/17 08:41]\n",
              "    </div>\n",
              "    "
            ],
            "text/plain": [
              "<IPython.core.display.HTML object>"
            ]
          },
          "metadata": {}
        },
        {
          "output_type": "execute_result",
          "data": {
            "text/plain": [
              "PredictionOutput(predictions=array([[[ 8.315423  , -1.5289447 , -1.4321797 , -2.2866697 ,\n",
              "         -2.1449525 ],\n",
              "        [-0.8006873 ,  8.733067  , -2.7793155 , -2.1335983 ,\n",
              "         -2.3822906 ],\n",
              "        [-0.9074506 ,  8.7835865 , -2.6680508 , -2.080744  ,\n",
              "         -2.46403   ],\n",
              "        [ 9.215715  , -1.7647337 , -1.6866707 , -2.2454174 ,\n",
              "         -2.3687897 ],\n",
              "        [-2.7342637 , -1.7406482 , -3.2353528 ,  7.4153214 ,\n",
              "         -0.4248885 ],\n",
              "        [-2.244118  , -3.2882094 , -2.1482177 , -1.4110627 ,\n",
              "          7.5055137 ],\n",
              "        [ 9.343124  , -1.7776976 , -1.7596852 , -2.3995585 ,\n",
              "         -2.1534934 ],\n",
              "        [ 9.309216  , -1.6950047 , -1.8141186 , -2.3205185 ,\n",
              "         -2.405958  ],\n",
              "        [ 9.28714   , -1.7099355 , -1.7738662 , -2.3636518 ,\n",
              "         -2.3444846 ],\n",
              "        [ 9.289382  , -1.7684693 , -1.7884524 , -2.50986   ,\n",
              "         -2.2596307 ],\n",
              "        [ 9.269591  , -1.7846547 , -1.6793778 , -2.4144545 ,\n",
              "         -2.2872372 ],\n",
              "        [ 9.30026   , -1.7384697 , -1.829365  , -2.3674333 ,\n",
              "         -2.2785573 ],\n",
              "        [ 9.318354  , -1.6446801 , -1.8237115 , -2.3158104 ,\n",
              "         -2.4049118 ],\n",
              "        [ 9.290254  , -1.7193954 , -1.7474763 , -2.3844457 ,\n",
              "         -2.3380256 ],\n",
              "        [ 9.304371  , -1.7391453 , -1.7879337 , -2.4538639 ,\n",
              "         -2.2971761 ],\n",
              "        [ 9.330932  , -1.7329321 , -1.6854396 , -2.301153  ,\n",
              "         -2.3399706 ],\n",
              "        [ 9.329218  , -1.7498688 , -1.7432834 , -2.3345985 ,\n",
              "         -2.3168101 ],\n",
              "        [ 9.291957  , -1.6004878 , -1.7611505 , -2.3473012 ,\n",
              "         -2.411191  ],\n",
              "        [ 9.2688675 , -1.7196221 , -1.6652567 , -2.4036527 ,\n",
              "         -2.3836992 ],\n",
              "        [ 9.278371  , -1.7656126 , -1.669016  , -2.3615906 ,\n",
              "         -2.3264382 ],\n",
              "        [ 9.264693  , -1.710262  , -1.7187903 , -2.4349139 ,\n",
              "         -2.3380086 ],\n",
              "        [ 9.21989   , -1.7917888 , -1.6113226 , -2.4568646 ,\n",
              "         -2.3248136 ],\n",
              "        [ 9.232488  , -1.7749498 , -1.6368668 , -2.405109  ,\n",
              "         -2.3646164 ],\n",
              "        [ 9.25349   , -1.7745147 , -1.6658105 , -2.4101338 ,\n",
              "         -2.365502  ],\n",
              "        [ 9.244419  , -1.760675  , -1.6294118 , -2.5212739 ,\n",
              "         -2.2785738 ],\n",
              "        [ 9.246189  , -1.8058113 , -1.6062881 , -2.4987333 ,\n",
              "         -2.2627566 ],\n",
              "        [ 9.252877  , -1.6549137 , -1.6384647 , -2.3534837 ,\n",
              "         -2.4680476 ],\n",
              "        [ 9.244551  , -1.7409506 , -1.7025126 , -2.4419348 ,\n",
              "         -2.2687843 ],\n",
              "        [ 9.290552  , -1.8120818 , -1.6138681 , -2.351751  ,\n",
              "         -2.2921102 ],\n",
              "        [ 9.257521  , -1.7063781 , -1.6995094 , -2.363506  ,\n",
              "         -2.3507135 ],\n",
              "        [ 9.228119  , -1.788767  , -1.6745102 , -2.4186692 ,\n",
              "         -2.3096042 ],\n",
              "        [ 9.223225  , -1.8228996 , -1.6450716 , -2.4051273 ,\n",
              "         -2.3504906 ],\n",
              "        [ 9.251392  , -1.7257329 , -1.6745187 , -2.4345002 ,\n",
              "         -2.3718653 ],\n",
              "        [ 9.156553  , -1.627809  , -1.6257265 , -2.452934  ,\n",
              "         -2.3380919 ],\n",
              "        [ 8.816281  , -1.6130484 , -2.0966785 , -2.283135  ,\n",
              "         -2.2132053 ],\n",
              "        [ 8.924714  , -1.4292712 , -1.6049387 , -2.359596  ,\n",
              "         -2.496937  ],\n",
              "        [ 8.920282  , -1.4835283 , -1.6393827 , -2.378505  ,\n",
              "         -2.5075119 ],\n",
              "        [ 9.005561  , -1.472495  , -1.6445636 , -2.3978074 ,\n",
              "         -2.5299022 ]],\n",
              "\n",
              "       [[ 9.168681  , -1.4936762 , -1.7009169 , -2.5096965 ,\n",
              "         -2.2928867 ],\n",
              "        [-0.99847686,  8.424559  , -3.5855432 , -0.4125186 ,\n",
              "         -2.5180936 ],\n",
              "        [ 7.4483366 , -1.514944  , -1.3849754 , -1.8225961 ,\n",
              "         -1.8487688 ],\n",
              "        [ 9.262262  , -1.5472286 , -1.8160691 , -2.2369084 ,\n",
              "         -2.4979532 ],\n",
              "        [-2.8636665 , -1.1879584 , -3.326318  ,  7.4347787 ,\n",
              "         -0.616465  ],\n",
              "        [-2.846359  , -3.1167626 , -1.7436055 , -1.5328782 ,\n",
              "          7.542391  ],\n",
              "        [-1.6086825 , -3.169598  , -1.5077919 , -2.492151  ,\n",
              "          7.3355494 ],\n",
              "        [ 9.354422  , -1.6323684 , -1.8653189 , -2.4039862 ,\n",
              "         -2.2272623 ],\n",
              "        [ 9.333509  , -1.5127503 , -1.9004307 , -2.3005762 ,\n",
              "         -2.4369698 ],\n",
              "        [ 9.318584  , -1.5759585 , -1.8911628 , -2.419737  ,\n",
              "         -2.3597755 ],\n",
              "        [ 9.297804  , -1.5720493 , -1.8326726 , -2.410472  ,\n",
              "         -2.3653657 ],\n",
              "        [ 9.310955  , -1.6561645 , -1.8961593 , -2.4003963 ,\n",
              "         -2.3295503 ],\n",
              "        [ 9.308622  , -1.5737457 , -1.7985544 , -2.435574  ,\n",
              "         -2.351165  ],\n",
              "        [ 9.317787  , -1.6199464 , -1.9050702 , -2.374889  ,\n",
              "         -2.335572  ],\n",
              "        [ 9.334519  , -1.5224351 , -1.9020448 , -2.3339589 ,\n",
              "         -2.4376705 ],\n",
              "        [ 9.306402  , -1.5663038 , -1.8813397 , -2.3602893 ,\n",
              "         -2.4014077 ],\n",
              "        [ 9.316532  , -1.6104667 , -1.8661364 , -2.4846363 ,\n",
              "         -2.305584  ],\n",
              "        [ 9.320711  , -1.5573754 , -1.8141992 , -2.3864274 ,\n",
              "         -2.387508  ],\n",
              "        [ 9.348326  , -1.6335511 , -1.7968305 , -2.367355  ,\n",
              "         -2.3522348 ],\n",
              "        [ 9.341671  , -1.4920985 , -1.8693146 , -2.3702385 ,\n",
              "         -2.399267  ],\n",
              "        [ 9.311599  , -1.5313808 , -1.8454008 , -2.4438705 ,\n",
              "         -2.3741534 ],\n",
              "        [ 9.326189  , -1.5971775 , -1.8174847 , -2.408115  ,\n",
              "         -2.3843966 ],\n",
              "        [ 9.330726  , -1.5655475 , -1.794432  , -2.40916   ,\n",
              "         -2.361205  ],\n",
              "        [ 9.3475275 , -1.6284857 , -1.807075  , -2.3603609 ,\n",
              "         -2.3451557 ],\n",
              "        [ 9.314728  , -1.470949  , -1.8483566 , -2.3667936 ,\n",
              "         -2.4387436 ],\n",
              "        [ 9.307896  , -1.5720525 , -1.7754906 , -2.372767  ,\n",
              "         -2.4116616 ],\n",
              "        [ 9.317906  , -1.5284736 , -1.8414466 , -2.3288846 ,\n",
              "         -2.4094148 ],\n",
              "        [ 9.306598  , -1.554543  , -1.8947942 , -2.3772213 ,\n",
              "         -2.3092232 ],\n",
              "        [ 9.292993  , -1.5047097 , -1.8138468 , -2.3873363 ,\n",
              "         -2.3938057 ],\n",
              "        [ 9.29738   , -1.5029415 , -1.8458991 , -2.4134588 ,\n",
              "         -2.387615  ],\n",
              "        [ 9.315451  , -1.5573182 , -1.8232552 , -2.3245952 ,\n",
              "         -2.3799903 ],\n",
              "        [ 9.279525  , -1.5105726 , -1.8095914 , -2.3313265 ,\n",
              "         -2.3904161 ],\n",
              "        [ 9.253663  , -1.5358409 , -1.7745914 , -2.3755999 ,\n",
              "         -2.3919456 ],\n",
              "        [ 9.279427  , -1.5490226 , -1.7639817 , -2.4127629 ,\n",
              "         -2.366718  ],\n",
              "        [ 9.270499  , -1.5597062 , -1.7828923 , -2.4939568 ,\n",
              "         -2.312764  ],\n",
              "        [ 9.25728   , -1.4038762 , -1.7394488 , -2.409292  ,\n",
              "         -2.3535721 ],\n",
              "        [ 9.253948  , -1.522835  , -1.7210834 , -2.4955904 ,\n",
              "         -2.3664296 ],\n",
              "        [ 8.834872  , -1.5505896 , -2.171367  , -2.293298  ,\n",
              "         -2.2739842 ]]], dtype=float32), label_ids=None, metrics={'test_runtime': 0.0546, 'test_samples_per_second': 36.652, 'test_steps_per_second': 18.326})"
            ]
          },
          "metadata": {},
          "execution_count": 246
        }
      ]
    },
    {
      "cell_type": "markdown",
      "metadata": {
        "id": "5Y6TALc-BNmP"
      },
      "source": [
        "## Save Model"
      ]
    },
    {
      "cell_type": "code",
      "metadata": {
        "id": "U_GkkL_LBPc_"
      },
      "source": [
        "trainer.save_model('/content/gdrive/My Drive/Machine_Learning/Code/CTEL_BERT_Official_CompJob')"
      ],
      "execution_count": null,
      "outputs": []
    },
    {
      "cell_type": "markdown",
      "metadata": {
        "id": "RVo12N-izN8j"
      },
      "source": [
        "# Perform model on test data"
      ]
    },
    {
      "cell_type": "markdown",
      "metadata": {
        "id": "QgJcZB6rzPez"
      },
      "source": [
        "## Read data as dataframe\n"
      ]
    },
    {
      "cell_type": "code",
      "metadata": {
        "colab": {
          "base_uri": "https://localhost:8080/"
        },
        "id": "0cFMP8pczBL6",
        "outputId": "24117d8e-f5b5-4044-d1a7-23512909a47c"
      },
      "source": [
        "CTEL_df = pd.read_excel('/content/gdrive/My Drive/Machine_Learning/Code/Data/Dataset_CTEL/dataset_ctel1.xlsx')\n",
        "CTEL_df.head()"
      ],
      "execution_count": null,
      "outputs": [
        {
          "data": {
            "text/html": [
              "<div>\n",
              "<style scoped>\n",
              "    .dataframe tbody tr th:only-of-type {\n",
              "        vertical-align: middle;\n",
              "    }\n",
              "\n",
              "    .dataframe tbody tr th {\n",
              "        vertical-align: top;\n",
              "    }\n",
              "\n",
              "    .dataframe thead th {\n",
              "        text-align: right;\n",
              "    }\n",
              "</style>\n",
              "<table border=\"1\" class=\"dataframe\">\n",
              "  <thead>\n",
              "    <tr style=\"text-align: right;\">\n",
              "      <th></th>\n",
              "      <th>Sốđiệnthoại</th>\n",
              "      <th>Họ tên</th>\n",
              "      <th>Giới tính</th>\n",
              "      <th>Địa chỉ</th>\n",
              "      <th>link fb</th>\n",
              "      <th>Ghi chú chung</th>\n",
              "      <th>Sản phẩm khảo sát</th>\n",
              "      <th>Ghi chú 1</th>\n",
              "      <th>Nhật ký cuộc gọi</th>\n",
              "      <th>Ghi chú 2</th>\n",
              "      <th>Khách hàng đang sử dụng hệ thống email từ nhà cung cấp nào?</th>\n",
              "      <th>Ghi chú 3</th>\n",
              "      <th>Số lượng nhân viên</th>\n",
              "      <th>Ghi chú 4</th>\n",
              "      <th>Ghi chú khảo sát</th>\n",
              "      <th>Thời gian gọi gần nhất</th>\n",
              "      <th>Người gọi</th>\n",
              "      <th>Link ghi âm</th>\n",
              "      <th>Trạng thái</th>\n",
              "    </tr>\n",
              "  </thead>\n",
              "  <tbody>\n",
              "    <tr>\n",
              "      <th>0</th>\n",
              "      <td>901665009</td>\n",
              "      <td>Buy Home</td>\n",
              "      <td>Công ty TNHH Rubyphone\\nManager\\nThành phố Hồ ...</td>\n",
              "      <td>Tỉnh/Thành phố hiện tại\\nThành phố Hồ Chí Minh...</td>\n",
              "      <td>https://www.facebook.com/profile.php?id=100010...</td>\n",
              "      <td>NaN</td>\n",
              "      <td>NaN</td>\n",
              "      <td>NaN</td>\n",
              "      <td>NaN</td>\n",
              "      <td>NaN</td>\n",
              "      <td>NaN</td>\n",
              "      <td>NaN</td>\n",
              "      <td>NaN</td>\n",
              "      <td>NaN</td>\n",
              "      <td>NaN</td>\n",
              "      <td>NaT</td>\n",
              "      <td>NaN</td>\n",
              "      <td>NaN</td>\n",
              "      <td>Trống</td>\n",
              "    </tr>\n",
              "    <tr>\n",
              "      <th>1</th>\n",
              "      <td>903611595</td>\n",
              "      <td>Minh Trí Võ</td>\n",
              "      <td>Thành phố Hồ Chí Minh\\ngiám đốc\\n2000 - Hiện tại</td>\n",
              "      <td>Tỉnh/Thành phố hiện tại\\nThành phố Hồ Chí Minh</td>\n",
              "      <td>https://www.facebook.com/profile.php?id=100003...</td>\n",
              "      <td>NaN</td>\n",
              "      <td>NaN</td>\n",
              "      <td>NaN</td>\n",
              "      <td>NaN</td>\n",
              "      <td>NaN</td>\n",
              "      <td>NaN</td>\n",
              "      <td>NaN</td>\n",
              "      <td>NaN</td>\n",
              "      <td>NaN</td>\n",
              "      <td>NaN</td>\n",
              "      <td>NaT</td>\n",
              "      <td>NaN</td>\n",
              "      <td>NaN</td>\n",
              "      <td>Trống</td>\n",
              "    </tr>\n",
              "    <tr>\n",
              "      <th>2</th>\n",
              "      <td>935256333</td>\n",
              "      <td>Dương Lê (Phụ Kiện Tín Thành)</td>\n",
              "      <td>Phụ Kiện Điện Thoại TÍN THÀNH\\nGiám đốc\\nĐông Hà</td>\n",
              "      <td>Tỉnh/Thành phố hiện tại\\nĐông Hà\\n\\nQuê quán\\n...</td>\n",
              "      <td>https://www.facebook.com/profile.php?id=100005...</td>\n",
              "      <td>NaN</td>\n",
              "      <td>NaN</td>\n",
              "      <td>NaN</td>\n",
              "      <td>NaN</td>\n",
              "      <td>NaN</td>\n",
              "      <td>NaN</td>\n",
              "      <td>NaN</td>\n",
              "      <td>NaN</td>\n",
              "      <td>NaN</td>\n",
              "      <td>NaN</td>\n",
              "      <td>2021-06-02 03:38:06.073</td>\n",
              "      <td>Mai Thị Thùy</td>\n",
              "      <td>https://media.api-connect.io:443/record/5d9397...</td>\n",
              "      <td>Không có nhu cầu</td>\n",
              "    </tr>\n",
              "    <tr>\n",
              "      <th>3</th>\n",
              "      <td>948901169</td>\n",
              "      <td>Ngô Vũ Thành Lợi</td>\n",
              "      <td>Khoduan.net\\nFounder\\n1 tháng 3, 2019 - Hiện t...</td>\n",
              "      <td>Tỉnh/Thành phố hiện tại\\nHà Nội\\n\\nQuê quán\\nH...</td>\n",
              "      <td>https://www.facebook.com/profile.php?id=100005...</td>\n",
              "      <td>NaN</td>\n",
              "      <td>NaN</td>\n",
              "      <td>NaN</td>\n",
              "      <td>NaN</td>\n",
              "      <td>NaN</td>\n",
              "      <td>NaN</td>\n",
              "      <td>NaN</td>\n",
              "      <td>NaN</td>\n",
              "      <td>NaN</td>\n",
              "      <td>NaN</td>\n",
              "      <td>NaT</td>\n",
              "      <td>NaN</td>\n",
              "      <td>NaN</td>\n",
              "      <td>Trống</td>\n",
              "    </tr>\n",
              "    <tr>\n",
              "      <th>4</th>\n",
              "      <td>399555633</td>\n",
              "      <td>Đăng Khánh (Khanh Gà)</td>\n",
              "      <td>Stanley Electric\\nDirector (company)\\n2007 - H...</td>\n",
              "      <td>Tỉnh/Thành phố hiện tại\\nHà Nội\\n\\nQuê quán\\nG...</td>\n",
              "      <td>https://www.facebook.com/profile.php?id=100003...</td>\n",
              "      <td>NaN</td>\n",
              "      <td>NaN</td>\n",
              "      <td>NaN</td>\n",
              "      <td>NaN</td>\n",
              "      <td>NaN</td>\n",
              "      <td>NaN</td>\n",
              "      <td>NaN</td>\n",
              "      <td>NaN</td>\n",
              "      <td>NaN</td>\n",
              "      <td>NaN</td>\n",
              "      <td>NaT</td>\n",
              "      <td>NaN</td>\n",
              "      <td>NaN</td>\n",
              "      <td>Trống</td>\n",
              "    </tr>\n",
              "  </tbody>\n",
              "</table>\n",
              "</div>"
            ],
            "text/plain": [
              "   Sốđiệnthoại  ...        Trạng thái\n",
              "0    901665009  ...             Trống\n",
              "1    903611595  ...             Trống\n",
              "2    935256333  ...  Không có nhu cầu\n",
              "3    948901169  ...             Trống\n",
              "4    399555633  ...             Trống\n",
              "\n",
              "[5 rows x 19 columns]"
            ]
          },
          "execution_count": 77,
          "metadata": {
            "tags": []
          },
          "output_type": "execute_result"
        }
      ]
    },
    {
      "cell_type": "code",
      "metadata": {
        "id": "Mtpu5ZcPzgO8"
      },
      "source": [
        "company = CTEL_df['Giới tính'].str.replace('\\n', '; ').tolist()"
      ],
      "execution_count": null,
      "outputs": []
    },
    {
      "cell_type": "code",
      "metadata": {
        "id": "yKINc7Qe1Hcg"
      },
      "source": [
        "company = [[i] for i in company]"
      ],
      "execution_count": null,
      "outputs": []
    },
    {
      "cell_type": "code",
      "metadata": {
        "colab": {
          "base_uri": "https://localhost:8080/",
          "height": 35
        },
        "id": "7w17CAYw2Og5",
        "outputId": "95f64c9a-f6f6-4016-d553-4dd1a1c6d42f"
      },
      "source": [
        "company[0][0]"
      ],
      "execution_count": null,
      "outputs": [
        {
          "data": {
            "application/vnd.google.colaboratory.intrinsic+json": {
              "type": "string"
            },
            "text/plain": [
              "'Công ty TNHH Rubyphone; Manager; Thành phố Hồ Chí Minh; Phân Phối Sỉ Linh Phụ Kiện Apple, Đồ Chơi Công Nghệ Số.....'"
            ]
          },
          "execution_count": 116,
          "metadata": {
            "tags": []
          },
          "output_type": "execute_result"
        }
      ]
    },
    {
      "cell_type": "code",
      "metadata": {
        "colab": {
          "base_uri": "https://localhost:8080/"
        },
        "id": "BhowhRkm2LRL",
        "outputId": "a15c493f-bcba-4a44-e352-f4145867bf2d"
      },
      "source": [
        "tokenizer('Công ty TNHH Rubyphone; Manager; Thành phố Hồ Chí Minh; Phân Phối Sỉ Linh Phụ Kiện Apple, Đồ Chơi Công Nghệ Số.....')"
      ],
      "execution_count": null,
      "outputs": [
        {
          "data": {
            "text/plain": [
              "{'input_ids': [101, 11638, 17053, 42906, 10243, 10243, 36340, 34735, 132, 14964, 132, 11333, 14061, 10616, 11581, 13718, 132, 12097, 44939, 10193, 20976, 14016, 18272, 17006, 117, 11042, 19176, 11638, 19246, 10297, 119, 119, 119, 119, 119, 102], 'token_type_ids': [0, 0, 0, 0, 0, 0, 0, 0, 0, 0, 0, 0, 0, 0, 0, 0, 0, 0, 0, 0, 0, 0, 0, 0, 0, 0, 0, 0, 0, 0, 0, 0, 0, 0, 0, 0], 'attention_mask': [1, 1, 1, 1, 1, 1, 1, 1, 1, 1, 1, 1, 1, 1, 1, 1, 1, 1, 1, 1, 1, 1, 1, 1, 1, 1, 1, 1, 1, 1, 1, 1, 1, 1, 1, 1]}"
            ]
          },
          "execution_count": 117,
          "metadata": {
            "tags": []
          },
          "output_type": "execute_result"
        }
      ]
    },
    {
      "cell_type": "code",
      "metadata": {
        "colab": {
          "base_uri": "https://localhost:8080/"
        },
        "id": "JkCsTCus0qis",
        "outputId": "60502333-92dc-4827-9522-adbdea2e3a4b"
      },
      "source": [
        "d_comp = {}\n",
        "d_comp['input_ids'] = []\n",
        "d_comp['token_type_ids'] = []\n",
        "d_comp['attention_mask']  = []\n",
        "d_comp['tokens'] = []\n",
        "d_comp"
      ],
      "execution_count": null,
      "outputs": [
        {
          "data": {
            "text/plain": [
              "{'attention_mask': [], 'input_ids': [], 'token_type_ids': [], 'tokens': []}"
            ]
          },
          "execution_count": 118,
          "metadata": {
            "tags": []
          },
          "output_type": "execute_result"
        }
      ]
    },
    {
      "cell_type": "code",
      "metadata": {
        "id": "OqolHh4y6Bbw"
      },
      "source": [
        "for i in company:\n",
        "  temp = tokenizer(i[0])\n",
        "  d_comp['input_ids'].append(temp['input_ids'])\n",
        "  d_comp['token_type_ids'].append(temp['token_type_ids'])\n",
        "  d_comp['attention_mask'].append(temp['attention_mask'])\n",
        "  d_comp['tokens'].append(tokenizer.convert_ids_to_tokens(temp['input_ids']))"
      ],
      "execution_count": null,
      "outputs": []
    },
    {
      "cell_type": "code",
      "metadata": {
        "colab": {
          "base_uri": "https://localhost:8080/"
        },
        "id": "W02PIxQIFvNs",
        "outputId": "4bd6c139-973c-4a87-cced-dd2005e41022"
      },
      "source": [
        "len(d_comp['tokens'])"
      ],
      "execution_count": null,
      "outputs": [
        {
          "data": {
            "text/plain": [
              "6497"
            ]
          },
          "execution_count": 120,
          "metadata": {
            "tags": []
          },
          "output_type": "execute_result"
        }
      ]
    },
    {
      "cell_type": "code",
      "metadata": {
        "colab": {
          "base_uri": "https://localhost:8080/"
        },
        "id": "HQf-dVo_F4wh",
        "outputId": "45e1bb2e-bc58-4cf9-8b5e-5e7136c5a8b9"
      },
      "source": [
        "len(d_comp['input_ids'])"
      ],
      "execution_count": null,
      "outputs": [
        {
          "data": {
            "text/plain": [
              "6497"
            ]
          },
          "execution_count": 121,
          "metadata": {
            "tags": []
          },
          "output_type": "execute_result"
        }
      ]
    },
    {
      "cell_type": "code",
      "metadata": {
        "colab": {
          "base_uri": "https://localhost:8080/"
        },
        "id": "XFkeIQIxJzmq",
        "outputId": "28dbe2df-c984-4fde-b102-5819269ef0fe"
      },
      "source": [
        "print(d_comp['input_ids'][0])\n",
        "print(d_comp['token_type_ids'][0])\n",
        "print(d_comp['attention_mask'][0])\n",
        "print(d_comp['tokens'][0])"
      ],
      "execution_count": null,
      "outputs": [
        {
          "name": "stdout",
          "output_type": "stream",
          "text": [
            "[101, 11638, 17053, 42906, 10243, 10243, 36340, 34735, 132, 14964, 132, 11333, 14061, 10616, 11581, 13718, 132, 12097, 44939, 10193, 20976, 14016, 18272, 17006, 117, 11042, 19176, 11638, 19246, 10297, 119, 119, 119, 119, 119, 102]\n",
            "[0, 0, 0, 0, 0, 0, 0, 0, 0, 0, 0, 0, 0, 0, 0, 0, 0, 0, 0, 0, 0, 0, 0, 0, 0, 0, 0, 0, 0, 0, 0, 0, 0, 0, 0, 0]\n",
            "[1, 1, 1, 1, 1, 1, 1, 1, 1, 1, 1, 1, 1, 1, 1, 1, 1, 1, 1, 1, 1, 1, 1, 1, 1, 1, 1, 1, 1, 1, 1, 1, 1, 1, 1, 1]\n",
            "['[CLS]', 'cong', 'ty', 'tn', '##h', '##h', 'ruby', '##phone', ';', 'manager', ';', 'thanh', 'pho', 'ho', 'chi', 'minh', ';', 'phan', 'phoi', 'si', 'linh', 'phu', 'kien', 'apple', ',', 'đo', 'choi', 'cong', 'nghe', 'so', '.', '.', '.', '.', '.', '[SEP]']\n"
          ]
        }
      ]
    },
    {
      "cell_type": "code",
      "metadata": {
        "colab": {
          "base_uri": "https://localhost:8080/"
        },
        "id": "5tplTBFmGXnN",
        "outputId": "3717e71c-2701-426f-fc98-d2ee58b8a70f"
      },
      "source": [
        "Dataset_comp = Dataset.from_dict(d_comp)\n",
        "Dataset_comp"
      ],
      "execution_count": null,
      "outputs": [
        {
          "data": {
            "text/plain": [
              "Dataset({\n",
              "    features: ['input_ids', 'token_type_ids', 'attention_mask', 'tokens'],\n",
              "    num_rows: 6497\n",
              "})"
            ]
          },
          "execution_count": 123,
          "metadata": {
            "tags": []
          },
          "output_type": "execute_result"
        }
      ]
    },
    {
      "cell_type": "markdown",
      "metadata": {
        "id": "eUwB3oVYREGP"
      },
      "source": [
        "## Test Model"
      ]
    },
    {
      "cell_type": "code",
      "metadata": {
        "id": "eoiFmbu_IBRz"
      },
      "source": [
        "def transform_dataset(d):\n",
        "  t_arr_in_ids = []\n",
        "  t_arr_in_ids.append(d['input_ids'])\n",
        "  d['input_ids'] = t_arr_in_ids\n",
        "  t_arr_tok_ids = []\n",
        "  t_arr_tok_ids.append(d['token_type_ids'])\n",
        "  d['token_type_ids'] = t_arr_tok_ids\n",
        "  t_arr_atten_ids = []\n",
        "  t_arr_atten_ids.append(d['attention_mask'])\n",
        "  d['attention_mask'] = t_arr_atten_ids\n",
        "  t_arr_token = []\n",
        "  t_arr_token.append(d['tokens'])\n",
        "  d['tokens'] = t_arr_token\n",
        "  return Dataset.from_dict(d)"
      ],
      "execution_count": null,
      "outputs": []
    },
    {
      "cell_type": "code",
      "metadata": {
        "colab": {
          "base_uri": "https://localhost:8080/",
          "height": 37
        },
        "id": "h4pUFK5SYEnQ",
        "outputId": "a6679338-9537-49ca-d62c-82838adf7afb"
      },
      "source": [
        "pred, _, _ = trainer.predict(Dataset_comp)"
      ],
      "execution_count": null,
      "outputs": [
        {
          "data": {
            "text/html": [
              "\n",
              "    <div>\n",
              "      \n",
              "      <progress value='441' max='17' style='width:300px; height:20px; vertical-align: middle;'></progress>\n",
              "      [17/17 17:14]\n",
              "    </div>\n",
              "    "
            ],
            "text/plain": [
              "<IPython.core.display.HTML object>"
            ]
          },
          "metadata": {
            "tags": []
          },
          "output_type": "display_data"
        }
      ]
    },
    {
      "cell_type": "code",
      "metadata": {
        "id": "znh9KB3fYnDq"
      },
      "source": [
        "pred = np.argmax(pred, axis=2)"
      ],
      "execution_count": null,
      "outputs": []
    },
    {
      "cell_type": "code",
      "metadata": {
        "colab": {
          "base_uri": "https://localhost:8080/"
        },
        "id": "5xjf4u_iYSlv",
        "outputId": "7558fb59-dbef-4fb1-9696-ff8b9c1b935f"
      },
      "source": [
        "pred.shape"
      ],
      "execution_count": null,
      "outputs": [
        {
          "data": {
            "text/plain": [
              "(6497, 285)"
            ]
          },
          "execution_count": 134,
          "metadata": {
            "tags": []
          },
          "output_type": "execute_result"
        }
      ]
    },
    {
      "cell_type": "code",
      "metadata": {
        "colab": {
          "base_uri": "https://localhost:8080/"
        },
        "id": "_ciDSUdSYrOo",
        "outputId": "d2a409c7-44af-480a-a32f-510a310c8e8b"
      },
      "source": [
        "pred[0]"
      ],
      "execution_count": null,
      "outputs": [
        {
          "data": {
            "text/plain": [
              "array([0, 1, 2, 2, 2, 2, 2, 2, 0, 3, 0, 0, 0, 0, 0, 0, 0, 0, 0, 0, 0, 0,\n",
              "       0, 0, 0, 0, 0, 0, 0, 0, 0, 0, 0, 0, 0, 0, 0, 0, 0, 0, 0, 0, 0, 0,\n",
              "       0, 0, 0, 0, 0, 2, 2, 2, 0, 0, 0, 0, 2, 0, 0, 2, 2, 2, 0, 0, 0, 0,\n",
              "       0, 0, 0, 0, 0, 0, 0, 0, 0, 0, 0, 0, 0, 0, 0, 0, 0, 0, 0, 0, 0, 0,\n",
              "       0, 0, 0, 0, 0, 0, 0, 0, 0, 0, 0, 0, 0, 0, 0, 0, 0, 0, 0, 0, 0, 0,\n",
              "       0, 0, 0, 0, 0, 0, 0, 0, 0, 0, 0, 0, 0, 0, 0, 0, 0, 0, 0, 0, 0, 0,\n",
              "       0, 0, 0, 0, 0, 0, 0, 0, 0, 0, 0, 0, 0, 0, 0, 0, 0, 0, 0, 0, 0, 0,\n",
              "       0, 0, 0, 0, 0, 0, 0, 0, 0, 0, 0, 0, 0, 0, 0, 0, 0, 0, 0, 0, 0, 0,\n",
              "       0, 0, 0, 0, 0, 0, 0, 0, 0, 0, 0, 0, 0, 0, 0, 0, 0, 0, 0, 0, 0, 0,\n",
              "       0, 0, 0, 0, 0, 0, 0, 0, 0, 0, 0, 0, 0, 0, 0, 0, 0, 0, 0, 0, 0, 0,\n",
              "       0, 0, 0, 0, 0, 0, 0, 0, 0, 0, 0, 0, 0, 0, 0, 0, 0, 0, 0, 0, 0, 0,\n",
              "       0, 0, 0, 0, 0, 0, 0, 0, 0, 0, 0, 0, 0, 0, 0, 0, 0, 0, 0, 0, 0, 0,\n",
              "       0, 0, 0, 0, 0, 0, 0, 0, 0, 0, 0, 0, 0, 0, 0, 0, 0, 0, 0, 0, 0])"
            ]
          },
          "execution_count": 135,
          "metadata": {
            "tags": []
          },
          "output_type": "execute_result"
        }
      ]
    },
    {
      "cell_type": "code",
      "metadata": {
        "id": "IyBnJxCiZUBS"
      },
      "source": [
        "#Dataset_comp[0]['tokens']"
      ],
      "execution_count": null,
      "outputs": []
    },
    {
      "cell_type": "code",
      "metadata": {
        "id": "zhPGc7YuZHQv"
      },
      "source": [
        "result = []\n",
        "for i in range(len(Dataset_comp)):\n",
        "  label_in_tag = [dict_num_to_label[i] for i in pred[i]]\n",
        "  token_label = [(t,l) for (t,l) in zip(Dataset_comp[i]['tokens'], label_in_tag)]\n",
        "  result.append(token_label)"
      ],
      "execution_count": null,
      "outputs": []
    },
    {
      "cell_type": "code",
      "metadata": {
        "id": "RkKunIlSG5iT"
      },
      "source": [
        "add_dict = {}\n",
        "add_dict['company'] = []\n",
        "add_dict['job_title'] = []"
      ],
      "execution_count": null,
      "outputs": []
    },
    {
      "cell_type": "code",
      "metadata": {
        "id": "bJ19tZAyHpOR"
      },
      "source": [
        "for array in result:\n",
        "  comp = \"\"\n",
        "  job = \"\"\n",
        "  for i in array:\n",
        "    if i[1] == 'B-COM' or i[1] == 'I-COM':\n",
        "      if i[0][0] == \"#\":\n",
        "        comp = comp + i[0]\n",
        "      else:\n",
        "        comp = comp + \" \" + i[0]\n",
        "    if i[1] == 'B-JOB' or i[1] == 'I-JOB':\n",
        "      if i[0][0] == \"#\":\n",
        "        job = job + i[0]\n",
        "      else:\n",
        "        job = job + \" \" + i[0]\n",
        "  comp = comp.replace(\"#\", \"\")\n",
        "  job = job.replace(\"#\", \"\")\n",
        "  add_dict['company'].append(comp)\n",
        "  add_dict['job_title'].append(job)"
      ],
      "execution_count": null,
      "outputs": []
    },
    {
      "cell_type": "code",
      "metadata": {
        "colab": {
          "base_uri": "https://localhost:8080/"
        },
        "id": "IROGLV53ah4u",
        "outputId": "17bcd08c-6611-487f-ef64-f62441c2f8e0"
      },
      "source": [
        "len(add_dict['company'])"
      ],
      "execution_count": null,
      "outputs": [
        {
          "data": {
            "text/plain": [
              "6497"
            ]
          },
          "execution_count": 167,
          "metadata": {
            "tags": []
          },
          "output_type": "execute_result"
        }
      ]
    },
    {
      "cell_type": "code",
      "metadata": {
        "colab": {
          "base_uri": "https://localhost:8080/"
        },
        "id": "qn6JgOhrTHy9",
        "outputId": "cdbeafd0-38ca-4950-a16e-f061a49788e2"
      },
      "source": [
        "len(add_dict['job_title'])"
      ],
      "execution_count": null,
      "outputs": [
        {
          "data": {
            "text/plain": [
              "6497"
            ]
          },
          "execution_count": 168,
          "metadata": {
            "tags": []
          },
          "output_type": "execute_result"
        }
      ]
    },
    {
      "cell_type": "markdown",
      "metadata": {
        "id": "LddTjFDg1Q45"
      },
      "source": [
        "## Merge Feature"
      ]
    },
    {
      "cell_type": "code",
      "metadata": {
        "id": "4uAWNhFAT8Au"
      },
      "source": [
        "CTEL_df['company'] = add_dict['company']\n",
        "CTEL_df['job_title'] = add_dict['job_title']"
      ],
      "execution_count": null,
      "outputs": []
    },
    {
      "cell_type": "code",
      "metadata": {
        "colab": {
          "base_uri": "https://localhost:8080/",
          "height": 1000
        },
        "id": "-cPQ7fr1bCXN",
        "outputId": "a34e33bf-592a-4c8c-eb40-5e58c958c9c5"
      },
      "source": [
        "CTEL_df.head(15)"
      ],
      "execution_count": null,
      "outputs": [
        {
          "data": {
            "text/html": [
              "<div>\n",
              "<style scoped>\n",
              "    .dataframe tbody tr th:only-of-type {\n",
              "        vertical-align: middle;\n",
              "    }\n",
              "\n",
              "    .dataframe tbody tr th {\n",
              "        vertical-align: top;\n",
              "    }\n",
              "\n",
              "    .dataframe thead th {\n",
              "        text-align: right;\n",
              "    }\n",
              "</style>\n",
              "<table border=\"1\" class=\"dataframe\">\n",
              "  <thead>\n",
              "    <tr style=\"text-align: right;\">\n",
              "      <th></th>\n",
              "      <th>Sốđiệnthoại</th>\n",
              "      <th>Họ tên</th>\n",
              "      <th>Giới tính</th>\n",
              "      <th>Địa chỉ</th>\n",
              "      <th>link fb</th>\n",
              "      <th>Ghi chú chung</th>\n",
              "      <th>Sản phẩm khảo sát</th>\n",
              "      <th>Ghi chú 1</th>\n",
              "      <th>Nhật ký cuộc gọi</th>\n",
              "      <th>Ghi chú 2</th>\n",
              "      <th>Khách hàng đang sử dụng hệ thống email từ nhà cung cấp nào?</th>\n",
              "      <th>Ghi chú 3</th>\n",
              "      <th>Số lượng nhân viên</th>\n",
              "      <th>Ghi chú 4</th>\n",
              "      <th>Ghi chú khảo sát</th>\n",
              "      <th>Thời gian gọi gần nhất</th>\n",
              "      <th>Người gọi</th>\n",
              "      <th>Link ghi âm</th>\n",
              "      <th>Trạng thái</th>\n",
              "      <th>company</th>\n",
              "      <th>job_title</th>\n",
              "    </tr>\n",
              "  </thead>\n",
              "  <tbody>\n",
              "    <tr>\n",
              "      <th>0</th>\n",
              "      <td>901665009</td>\n",
              "      <td>Buy Home</td>\n",
              "      <td>Công ty TNHH Rubyphone\\nManager\\nThành phố Hồ ...</td>\n",
              "      <td>Tỉnh/Thành phố hiện tại\\nThành phố Hồ Chí Minh...</td>\n",
              "      <td>https://www.facebook.com/profile.php?id=100010...</td>\n",
              "      <td>NaN</td>\n",
              "      <td>NaN</td>\n",
              "      <td>NaN</td>\n",
              "      <td>NaN</td>\n",
              "      <td>NaN</td>\n",
              "      <td>NaN</td>\n",
              "      <td>NaN</td>\n",
              "      <td>NaN</td>\n",
              "      <td>NaN</td>\n",
              "      <td>NaN</td>\n",
              "      <td>NaT</td>\n",
              "      <td>NaN</td>\n",
              "      <td>NaN</td>\n",
              "      <td>Trống</td>\n",
              "      <td>cong ty tnhh rubyphone</td>\n",
              "      <td>manager</td>\n",
              "    </tr>\n",
              "    <tr>\n",
              "      <th>1</th>\n",
              "      <td>903611595</td>\n",
              "      <td>Minh Trí Võ</td>\n",
              "      <td>Thành phố Hồ Chí Minh\\ngiám đốc\\n2000 - Hiện tại</td>\n",
              "      <td>Tỉnh/Thành phố hiện tại\\nThành phố Hồ Chí Minh</td>\n",
              "      <td>https://www.facebook.com/profile.php?id=100003...</td>\n",
              "      <td>NaN</td>\n",
              "      <td>NaN</td>\n",
              "      <td>NaN</td>\n",
              "      <td>NaN</td>\n",
              "      <td>NaN</td>\n",
              "      <td>NaN</td>\n",
              "      <td>NaN</td>\n",
              "      <td>NaN</td>\n",
              "      <td>NaN</td>\n",
              "      <td>NaN</td>\n",
              "      <td>NaT</td>\n",
              "      <td>NaN</td>\n",
              "      <td>NaN</td>\n",
              "      <td>Trống</td>\n",
              "      <td></td>\n",
              "      <td>giam đoc</td>\n",
              "    </tr>\n",
              "    <tr>\n",
              "      <th>2</th>\n",
              "      <td>935256333</td>\n",
              "      <td>Dương Lê (Phụ Kiện Tín Thành)</td>\n",
              "      <td>Phụ Kiện Điện Thoại TÍN THÀNH\\nGiám đốc\\nĐông Hà</td>\n",
              "      <td>Tỉnh/Thành phố hiện tại\\nĐông Hà\\n\\nQuê quán\\n...</td>\n",
              "      <td>https://www.facebook.com/profile.php?id=100005...</td>\n",
              "      <td>NaN</td>\n",
              "      <td>NaN</td>\n",
              "      <td>NaN</td>\n",
              "      <td>NaN</td>\n",
              "      <td>NaN</td>\n",
              "      <td>NaN</td>\n",
              "      <td>NaN</td>\n",
              "      <td>NaN</td>\n",
              "      <td>NaN</td>\n",
              "      <td>NaN</td>\n",
              "      <td>2021-06-02 03:38:06.073</td>\n",
              "      <td>Mai Thị Thùy</td>\n",
              "      <td>https://media.api-connect.io:443/record/5d9397...</td>\n",
              "      <td>Không có nhu cầu</td>\n",
              "      <td></td>\n",
              "      <td>giam đoc</td>\n",
              "    </tr>\n",
              "    <tr>\n",
              "      <th>3</th>\n",
              "      <td>948901169</td>\n",
              "      <td>Ngô Vũ Thành Lợi</td>\n",
              "      <td>Khoduan.net\\nFounder\\n1 tháng 3, 2019 - Hiện t...</td>\n",
              "      <td>Tỉnh/Thành phố hiện tại\\nHà Nội\\n\\nQuê quán\\nH...</td>\n",
              "      <td>https://www.facebook.com/profile.php?id=100005...</td>\n",
              "      <td>NaN</td>\n",
              "      <td>NaN</td>\n",
              "      <td>NaN</td>\n",
              "      <td>NaN</td>\n",
              "      <td>NaN</td>\n",
              "      <td>NaN</td>\n",
              "      <td>NaN</td>\n",
              "      <td>NaN</td>\n",
              "      <td>NaN</td>\n",
              "      <td>NaN</td>\n",
              "      <td>NaT</td>\n",
              "      <td>NaN</td>\n",
              "      <td>NaN</td>\n",
              "      <td>Trống</td>\n",
              "      <td></td>\n",
              "      <td>founder founder sales manager sales manager</td>\n",
              "    </tr>\n",
              "    <tr>\n",
              "      <th>4</th>\n",
              "      <td>399555633</td>\n",
              "      <td>Đăng Khánh (Khanh Gà)</td>\n",
              "      <td>Stanley Electric\\nDirector (company)\\n2007 - H...</td>\n",
              "      <td>Tỉnh/Thành phố hiện tại\\nHà Nội\\n\\nQuê quán\\nG...</td>\n",
              "      <td>https://www.facebook.com/profile.php?id=100003...</td>\n",
              "      <td>NaN</td>\n",
              "      <td>NaN</td>\n",
              "      <td>NaN</td>\n",
              "      <td>NaN</td>\n",
              "      <td>NaN</td>\n",
              "      <td>NaN</td>\n",
              "      <td>NaN</td>\n",
              "      <td>NaN</td>\n",
              "      <td>NaN</td>\n",
              "      <td>NaN</td>\n",
              "      <td>NaT</td>\n",
              "      <td>NaN</td>\n",
              "      <td>NaN</td>\n",
              "      <td>Trống</td>\n",
              "      <td>stanley electric</td>\n",
              "      <td>director assistant</td>\n",
              "    </tr>\n",
              "    <tr>\n",
              "      <th>5</th>\n",
              "      <td>379410099</td>\n",
              "      <td>Ng Đình Hoà</td>\n",
              "      <td>Hà Nội\\nTổng Giám đốc\\n2011 - Hiện tại</td>\n",
              "      <td>Tỉnh/Thành phố hiện tại\\nHà Nội\\n\\nQuê quán\\nH...</td>\n",
              "      <td>https://www.facebook.com/profile.php?id=100015...</td>\n",
              "      <td>NaN</td>\n",
              "      <td>NaN</td>\n",
              "      <td>NaN</td>\n",
              "      <td>NaN</td>\n",
              "      <td>NaN</td>\n",
              "      <td>NaN</td>\n",
              "      <td>NaN</td>\n",
              "      <td>NaN</td>\n",
              "      <td>NaN</td>\n",
              "      <td>NaN</td>\n",
              "      <td>NaT</td>\n",
              "      <td>NaN</td>\n",
              "      <td>NaN</td>\n",
              "      <td>Trống</td>\n",
              "      <td></td>\n",
              "      <td>tong giam đoc</td>\n",
              "    </tr>\n",
              "    <tr>\n",
              "      <th>6</th>\n",
              "      <td>327678222</td>\n",
              "      <td>Võ Xuân Đức (Gà Đỏ)</td>\n",
              "      <td>Cty winpro unza vietnam\\n2 tháng 5, 2019 - Hiệ...</td>\n",
              "      <td>Tỉnh/Thành phố hiện tại\\nĐắk Mil\\n\\nQuê quán\\n...</td>\n",
              "      <td>https://www.facebook.com/profile.php?id=100004...</td>\n",
              "      <td>NaN</td>\n",
              "      <td>NaN</td>\n",
              "      <td>NaN</td>\n",
              "      <td>NaN</td>\n",
              "      <td>NaN</td>\n",
              "      <td>NaN</td>\n",
              "      <td>NaN</td>\n",
              "      <td>NaN</td>\n",
              "      <td>NaN</td>\n",
              "      <td>NaN</td>\n",
              "      <td>NaT</td>\n",
              "      <td>NaN</td>\n",
              "      <td>NaN</td>\n",
              "      <td>Trống</td>\n",
              "      <td>cty winpro unza vietnam</td>\n",
              "      <td>tribal chief</td>\n",
              "    </tr>\n",
              "    <tr>\n",
              "      <th>7</th>\n",
              "      <td>987532012</td>\n",
              "      <td>Như Quỳnh Triệu (Ord Taobao)</td>\n",
              "      <td>Triệu Như Quỳnh Order\\nFounder/Manager\\n31 thá...</td>\n",
              "      <td>Tỉnh/Thành phố hiện tại\\nHải Phòng</td>\n",
              "      <td>https://www.facebook.com/profile.php?id=100015...</td>\n",
              "      <td>NaN</td>\n",
              "      <td>NaN</td>\n",
              "      <td>NaN</td>\n",
              "      <td>NaN</td>\n",
              "      <td>NaN</td>\n",
              "      <td>NaN</td>\n",
              "      <td>NaN</td>\n",
              "      <td>NaN</td>\n",
              "      <td>NaN</td>\n",
              "      <td>NaN</td>\n",
              "      <td>NaT</td>\n",
              "      <td>NaN</td>\n",
              "      <td>NaN</td>\n",
              "      <td>Trống</td>\n",
              "      <td></td>\n",
              "      <td>founder manager</td>\n",
              "    </tr>\n",
              "    <tr>\n",
              "      <th>8</th>\n",
              "      <td>348147969</td>\n",
              "      <td>Hồ Ngọc Hân</td>\n",
              "      <td>Pờ Kinh Hội\\ngiám đốc công ty me bô'ng con\\nBa...</td>\n",
              "      <td>NaN</td>\n",
              "      <td>https://www.facebook.com/profile.php?id=100005...</td>\n",
              "      <td>dập máy</td>\n",
              "      <td>NaN</td>\n",
              "      <td>NaN</td>\n",
              "      <td>NaN</td>\n",
              "      <td>NaN</td>\n",
              "      <td>NaN</td>\n",
              "      <td>NaN</td>\n",
              "      <td>NaN</td>\n",
              "      <td>NaN</td>\n",
              "      <td>NaN</td>\n",
              "      <td>2021-06-01 09:16:20.850</td>\n",
              "      <td>Ngô Diệu Linh</td>\n",
              "      <td>https://media.api-connect.io:443/record/5d9397...</td>\n",
              "      <td>Sai số</td>\n",
              "      <td>cong ty me bo ' ng con</td>\n",
              "      <td>giam đoc</td>\n",
              "    </tr>\n",
              "    <tr>\n",
              "      <th>9</th>\n",
              "      <td>965963173</td>\n",
              "      <td>Aley Võ (Thẩm Mỹ Toàn Diện)</td>\n",
              "      <td>Aley Cosmetic Clinic\\nManager\\n26 tháng 2, 202...</td>\n",
              "      <td>Tỉnh/Thành phố hiện tại\\nThành phố Hồ Chí Minh...</td>\n",
              "      <td>https://www.facebook.com/profile.php?id=100013...</td>\n",
              "      <td>NaN</td>\n",
              "      <td>NaN</td>\n",
              "      <td>NaN</td>\n",
              "      <td>NaN</td>\n",
              "      <td>NaN</td>\n",
              "      <td>NaN</td>\n",
              "      <td>NaN</td>\n",
              "      <td>NaN</td>\n",
              "      <td>NaN</td>\n",
              "      <td>NaN</td>\n",
              "      <td>NaT</td>\n",
              "      <td>NaN</td>\n",
              "      <td>NaN</td>\n",
              "      <td>Trống</td>\n",
              "      <td></td>\n",
              "      <td>manager</td>\n",
              "    </tr>\n",
              "    <tr>\n",
              "      <th>10</th>\n",
              "      <td>1249990956</td>\n",
              "      <td>Teresa Le</td>\n",
              "      <td>Thanh Nhan Hospital\\n1 tháng 1, 2021 - Hiện tạ...</td>\n",
              "      <td>Tỉnh/Thành phố hiện tại\\nHà Nội\\n\\nQuê quán\\nH...</td>\n",
              "      <td>https://www.facebook.com/profile.php?id=100001...</td>\n",
              "      <td>NaN</td>\n",
              "      <td>NaN</td>\n",
              "      <td>NaN</td>\n",
              "      <td>NaN</td>\n",
              "      <td>NaN</td>\n",
              "      <td>NaN</td>\n",
              "      <td>NaN</td>\n",
              "      <td>NaN</td>\n",
              "      <td>NaN</td>\n",
              "      <td>NaN</td>\n",
              "      <td>NaT</td>\n",
              "      <td>NaN</td>\n",
              "      <td>NaN</td>\n",
              "      <td>Trống</td>\n",
              "      <td>cong ty tnhh truong đoan</td>\n",
              "      <td>sales marketing manager</td>\n",
              "    </tr>\n",
              "    <tr>\n",
              "      <th>11</th>\n",
              "      <td>907333638</td>\n",
              "      <td>Cậu Tèo</td>\n",
              "      <td>Cty Cp Dược Phẩm An Đông\\nGiám đốc\\nThành phố ...</td>\n",
              "      <td>Tỉnh/Thành phố hiện tại\\nCoronel Marcelino Mar...</td>\n",
              "      <td>https://www.facebook.com/profile.php?id=100011...</td>\n",
              "      <td>NaN</td>\n",
              "      <td>NaN</td>\n",
              "      <td>NaN</td>\n",
              "      <td>NaN</td>\n",
              "      <td>NaN</td>\n",
              "      <td>NaN</td>\n",
              "      <td>NaN</td>\n",
              "      <td>NaN</td>\n",
              "      <td>NaN</td>\n",
              "      <td>NaN</td>\n",
              "      <td>2021-06-02 03:39:23.549</td>\n",
              "      <td>Mai Thị Thùy</td>\n",
              "      <td>https://media.api-connect.io:443/record/5d9397...</td>\n",
              "      <td>Sai số</td>\n",
              "      <td>cty cp duoc pham an đong</td>\n",
              "      <td>giam đoc</td>\n",
              "    </tr>\n",
              "    <tr>\n",
              "      <th>12</th>\n",
              "      <td>919106665</td>\n",
              "      <td>Quoc Hung</td>\n",
              "      <td>Chọn Đấu Giá - Chọn Auction House\\nOwner and F...</td>\n",
              "      <td>Tỉnh/Thành phố hiện tại\\nPhat Tich, Hi Bac, Vi...</td>\n",
              "      <td>https://www.facebook.com/profile.php?id=537411714</td>\n",
              "      <td>NaN</td>\n",
              "      <td>NaN</td>\n",
              "      <td>NaN</td>\n",
              "      <td>NaN</td>\n",
              "      <td>NaN</td>\n",
              "      <td>NaN</td>\n",
              "      <td>NaN</td>\n",
              "      <td>NaN</td>\n",
              "      <td>NaN</td>\n",
              "      <td>NaN</td>\n",
              "      <td>NaT</td>\n",
              "      <td>NaN</td>\n",
              "      <td>NaN</td>\n",
              "      <td>Trống</td>\n",
              "      <td></td>\n",
              "      <td>owner founder owner founder</td>\n",
              "    </tr>\n",
              "    <tr>\n",
              "      <th>13</th>\n",
              "      <td>366133216</td>\n",
              "      <td>Phù Văn Tiến</td>\n",
              "      <td>Hà Nội\\nquản lý GuGi Coffee\\n4 tháng 2, 2016 -...</td>\n",
              "      <td>Tỉnh/Thành phố hiện tại\\nHà Nội\\n\\nQuê quán\\nH...</td>\n",
              "      <td>https://www.facebook.com/profile.php?id=100017...</td>\n",
              "      <td>NaN</td>\n",
              "      <td>NaN</td>\n",
              "      <td>NaN</td>\n",
              "      <td>NaN</td>\n",
              "      <td>NaN</td>\n",
              "      <td>NaN</td>\n",
              "      <td>NaN</td>\n",
              "      <td>NaN</td>\n",
              "      <td>NaN</td>\n",
              "      <td>NaN</td>\n",
              "      <td>NaT</td>\n",
              "      <td>NaN</td>\n",
              "      <td>NaN</td>\n",
              "      <td>Trống</td>\n",
              "      <td></td>\n",
              "      <td>quan ly gugi coffee</td>\n",
              "    </tr>\n",
              "    <tr>\n",
              "      <th>14</th>\n",
              "      <td>375255033</td>\n",
              "      <td>Chiến Nguyễn (Melo C)</td>\n",
              "      <td>Dare Rekords\\nQuản lý\\n7 tháng 1, 2021 - Hiện ...</td>\n",
              "      <td>Tỉnh/Thành phố hiện tại\\nHà Nội\\n\\nQuê quán\\nH...</td>\n",
              "      <td>https://www.facebook.com/profile.php?id=100008...</td>\n",
              "      <td>NaN</td>\n",
              "      <td>NaN</td>\n",
              "      <td>NaN</td>\n",
              "      <td>NaN</td>\n",
              "      <td>NaN</td>\n",
              "      <td>NaN</td>\n",
              "      <td>NaN</td>\n",
              "      <td>NaN</td>\n",
              "      <td>NaN</td>\n",
              "      <td>NaN</td>\n",
              "      <td>NaT</td>\n",
              "      <td>NaN</td>\n",
              "      <td>NaN</td>\n",
              "      <td>Trống</td>\n",
              "      <td></td>\n",
              "      <td>quan ly</td>\n",
              "    </tr>\n",
              "  </tbody>\n",
              "</table>\n",
              "</div>"
            ],
            "text/plain": [
              "    Sốđiệnthoại  ...                                     job_title\n",
              "0     901665009  ...                                       manager\n",
              "1     903611595  ...                                      giam đoc\n",
              "2     935256333  ...                                      giam đoc\n",
              "3     948901169  ...   founder founder sales manager sales manager\n",
              "4     399555633  ...                            director assistant\n",
              "5     379410099  ...                                 tong giam đoc\n",
              "6     327678222  ...                                  tribal chief\n",
              "7     987532012  ...                               founder manager\n",
              "8     348147969  ...                                      giam đoc\n",
              "9     965963173  ...                                       manager\n",
              "10   1249990956  ...                       sales marketing manager\n",
              "11    907333638  ...                                      giam đoc\n",
              "12    919106665  ...                   owner founder owner founder\n",
              "13    366133216  ...                           quan ly gugi coffee\n",
              "14    375255033  ...                                       quan ly\n",
              "\n",
              "[15 rows x 21 columns]"
            ]
          },
          "execution_count": 170,
          "metadata": {
            "tags": []
          },
          "output_type": "execute_result"
        }
      ]
    },
    {
      "cell_type": "markdown",
      "metadata": {
        "id": "mdf_qQPUb3pk"
      },
      "source": [
        "# Export Dataframe as Excel"
      ]
    },
    {
      "cell_type": "code",
      "metadata": {
        "colab": {
          "base_uri": "https://localhost:8080/",
          "height": 35
        },
        "id": "GMOtZBbkbEM9",
        "outputId": "5f0b6cf5-584e-48b5-ccb1-b32be9b97948"
      },
      "source": [
        "os.getcwd()"
      ],
      "execution_count": null,
      "outputs": [
        {
          "data": {
            "application/vnd.google.colaboratory.intrinsic+json": {
              "type": "string"
            },
            "text/plain": [
              "'/content/gdrive/My Drive/Machine_Learning/Code/Data/Dataset_CTEL'"
            ]
          },
          "execution_count": 171,
          "metadata": {
            "tags": []
          },
          "output_type": "execute_result"
        }
      ]
    },
    {
      "cell_type": "code",
      "metadata": {
        "id": "OJtv-xjGceJX"
      },
      "source": [
        "#os.chdir('./gdrive/My Drive/Machine_Learning/Code/Data/Dataset_CTEL/')"
      ],
      "execution_count": null,
      "outputs": []
    },
    {
      "cell_type": "code",
      "metadata": {
        "id": "Ke9v0UCccoZ7"
      },
      "source": [
        "writer = pd.ExcelWriter('Duong_CTEL1_VER2_Labeled.xlsx')"
      ],
      "execution_count": null,
      "outputs": []
    },
    {
      "cell_type": "code",
      "metadata": {
        "id": "BEia-XGtczrG"
      },
      "source": [
        "CTEL_df.to_excel(writer)"
      ],
      "execution_count": null,
      "outputs": []
    },
    {
      "cell_type": "code",
      "metadata": {
        "id": "sS4tdJUGc6NZ"
      },
      "source": [
        "writer.save()"
      ],
      "execution_count": null,
      "outputs": []
    },
    {
      "cell_type": "code",
      "metadata": {
        "id": "yv4yKufpc94X"
      },
      "source": [
        ""
      ],
      "execution_count": null,
      "outputs": []
    }
  ]
}